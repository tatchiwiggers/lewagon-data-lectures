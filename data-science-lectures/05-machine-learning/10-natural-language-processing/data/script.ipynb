{
 "cells": [
  {
   "cell_type": "markdown",
   "id": "03c8e8af-b4d6-46d9-9f0d-76b7eac8602d",
   "metadata": {},
   "source": [
    "# Natural Language Processing"
   ]
  },
  {
   "cell_type": "markdown",
   "id": "9f8a5693-9891-4b13-93cd-b4866b65aa12",
   "metadata": {},
   "source": [
    "Welcome everyone to NLP and today we are going to talk about it from a ML perspective"
   ]
  },
  {
   "cell_type": "markdown",
   "id": "a81052b7-7692-4cde-a8c9-4844eac686da",
   "metadata": {},
   "source": [
    "# Motivation"
   ]
  },
  {
   "cell_type": "markdown",
   "id": "aff39331-f94f-4b2b-8e92-95defb16ec4c",
   "metadata": {},
   "source": [
    "#### So far, we have been running Machine Learning algorithms with:\n",
    "1. Numerical Inputs:\n",
    "\n",
    "Example: Predicting House Prices\n",
    "\n",
    "- Algorithm: Linear Regression, Random Forest Regression, Gradient Boosting Regression, etc.\n",
    "- Features: Square footage, number of bedrooms, number of bathrooms, surface.\n",
    "- Target: Sale price of the house (numerical)\n",
    "\n",
    "2. Encoded Categorical Inputs:\n",
    "\n",
    "Example: Customer Churn Prediction (refers to the task of predicting which customers are likely to stop using a product or service, i.e., churn. Churn prediction is crucial for businesses because retaining existing customers is generally more cost-effective than acquiring new ones.)\n",
    "\n",
    "- Algorithm: Logistic Regression, Random Forest Classifier, Gradient Boosting Classifier, etc.\n",
    "- Features: Customer demographics (encoded as categorical variables), subscription plan, usage patterns, etc.\n",
    "- Target: Binary variable indicating whether the customer churned or not (1 for churn, 0 for no churn)\n",
    "\n",
    "\n",
    "#### How can we incorporate textual data in these Machine Learning Algorithms? and what are the ML models dedicated to language-related tasks?\n",
    "\n",
    "Incorporating textual data into machine learning algorithms involves leveraging techniques from the field of natural language processing (NLP). NLP focuses on enabling computers to understand, interpret, and generate human language data. There are several approaches to incorporating textual data into machine learning algorithms, for example:\n",
    "\n",
    "- Before incorporating textual data into machine learning algorithms, it often requires preprocessing steps such as tokenization (splitting text into words or subwords), lowercasing, removing punctuation, stop words, and performing stemming or lemmatization. ( we will see how to do these in class today)\n",
    "- Once the text is preprocessed, it needs to be converted into numerical form that machine learning algorithms can understand. Common techniques for feature extraction include bag-of-words (BoW), term frequency-inverse document frequency (TF-IDF), word embeddings (e.g., Word2Vec, and so on), and contextual embeddings (e.g., BERT, GPT)."
   ]
  },
  {
   "cell_type": "markdown",
   "id": "5f5b12be-b9a6-4ba1-9a08-e32e461958f1",
   "metadata": {},
   "source": [
    "# 🚀 Thanks to the development of NLP libraries, NLP is finding applications on an industrial level"
   ]
  },
  {
   "cell_type": "markdown",
   "id": "092bb144-7775-4e3a-aa03-850cf0912e1c",
   "metadata": {},
   "source": [
    "- Email Filtering:NLP algorithms can distinguish between legitimate emails and spam by analyzing the content, sender information, and other metadata.\n",
    "- Sentiment Analysis: Companies use sentiment analysis to gauge public opinion on their products, services, or brands by analyzing social media posts, customer reviews, and feedback.\n",
    "- Chatbots: Chatbots powered by NLP can provide customer support, answer queries, and perform tasks like scheduling appointments or making reservations through natural language interactions.\n",
    "- Voice/Speech Recognition: NLP is fundamental to voice and speech recognition systems, allowing devices to understand and interpret spoken language commands for tasks like voice searches, dictation, and controlling smart home devices.\n",
    "- Smart Assistants: Virtual assistants like Siri, Alexa, and Google Assistant utilize NLP to understand user requests, execute commands, and provide personalized responses or recommendations.\n",
    "- Language Translation: NLP facilitates automatic language translation, allowing businesses to translate documents, websites, or communication in real-time to communicate with a global audience effectively."
   ]
  },
  {
   "cell_type": "markdown",
   "id": "c7e5e427-ddbf-4bb2-aac8-28257b3b45f0",
   "metadata": {},
   "source": [
    "# What is NLP?"
   ]
  },
  {
   "cell_type": "markdown",
   "id": "bd3efe3c-469e-4b38-be9c-41b90d6c9559",
   "metadata": {},
   "source": [
    "# Plan"
   ]
  },
  {
   "cell_type": "markdown",
   "id": "ca827124-cfca-494a-8089-8e6e49a5bff2",
   "metadata": {},
   "source": [
    "This process here involves several key steps in natural language processing (NLP) for text classification or topic modeling.\n",
    "\n",
    "- Raw Text Input: Raw text data is collected from various sources such as customer reviews, social media posts, emails, or news articles.\n",
    "\n",
    "- Text Cleaning and Preprocessing: Text cleaning involves removing noise and irrelevant information from the raw text. This may include removing punctuation, special characters, numbers, and stopwords (commonly occurring words like \"and,\" \"the,\" \"is,\" etc.). Additionally, techniques like stemming or lemmatization may be applied to reduce words to their base or root forms. Preprocessing may also involve handling issues like lowercase conversion, spell checking, and handling rare or misspelled words.\n",
    "- Text Vectorization: Once the text is cleaned and preprocessed, it needs to be converted into a numerical format that machine learning algorithms can understand. This process is called text vectorization. \n",
    "- After vectorization, the processed text data can be fed into various NLP models for classification or topic modeling.\n",
    "- Naive Bayes Classifier: A simple probabilistic classifier based on applying Bayes' theorem with strong independence assumptions between features. It's commonly used for text classification tasks due to its simplicity and efficiency.\n",
    "- Latent Dirichlet Allocation (LDA): A generative probabilistic model that represents documents as mixtures of topics and topics as mixtures of words. LDA is often used for topic modeling to discover latent topics within a corpus of text documents.\n",
    "\n",
    "- Model Training and Evaluation: The NLP model is trained on a labeled dataset and evaluated using appropriate metrics such as accuracy, precision, recall and F1-score.\n",
    "- The performance of the model is assessed to determine its effectiveness in classifying or modeling topics within the text data.\n",
    "- Deployment and Monitoring: Once the model is trained and evaluated, it can be deployed in production environments to make predictions or extract topics from new text data. The model's performance should be monitored over time, and it may be retrained or fine-tuned periodically to maintain its accuracy and effectiveness. but you will learn more abou this during the ML OPS Modules."
   ]
  },
  {
   "cell_type": "markdown",
   "id": "12391354-3094-4035-9092-b7d4a8221cf3",
   "metadata": {},
   "source": [
    "# 1. Text Preprocessing"
   ]
  },
  {
   "cell_type": "markdown",
   "id": "31895ea5-8775-4dac-9533-652230d2d6c6",
   "metadata": {},
   "source": [
    "# 👨🏻‍🏫 For any Machine Learning algorithm, data preprocessing is crucial, and this remains true for algorithms dealing with text - read"
   ]
  },
  {
   "cell_type": "markdown",
   "id": "04fb0b83-1a2d-4a45-8b3f-8298d8985a3e",
   "metadata": {},
   "source": [
    "# 💻 🧹 Basic cleaning with Python core string operations - read"
   ]
  },
  {
   "cell_type": "markdown",
   "id": "c69108c6-901e-4fe6-9751-2cb5fe26d3ce",
   "metadata": {},
   "source": [
    "# 💻 ✂️ strip (1/2)"
   ]
  },
  {
   "cell_type": "code",
   "execution_count": 88,
   "id": "db693f74-aef0-404b-ba00-c702e610cf41",
   "metadata": {},
   "outputs": [
    {
     "data": {
      "text/plain": [
       "['   Bonjour, comment ca va ?     ',\n",
       " '    Heyyyyy, how are you doing ?   ',\n",
       " '        Hallo, wie gehts ?     ']"
      ]
     },
     "execution_count": 88,
     "metadata": {},
     "output_type": "execute_result"
    }
   ],
   "source": [
    "texts = [\n",
    "    '   Bonjour, comment ca va ?     ',\n",
    "    '    Heyyyyy, how are you doing ?   ',\n",
    "    '        Hallo, wie gehts ?     '\n",
    "]\n",
    "texts"
   ]
  },
  {
   "cell_type": "code",
   "execution_count": 89,
   "id": "a8b8cd14-d2e7-4cca-a474-6c0a233a0ac2",
   "metadata": {},
   "outputs": [
    {
     "data": {
      "text/plain": [
       "['Bonjour, comment ca va ?',\n",
       " 'Heyyyyy, how are you doing ?',\n",
       " 'Hallo, wie gehts ?']"
      ]
     },
     "execution_count": 89,
     "metadata": {},
     "output_type": "execute_result"
    }
   ],
   "source": [
    "[text.strip() for text in texts]"
   ]
  },
  {
   "cell_type": "markdown",
   "id": "2eb7741a-cef2-4588-bae4-4fdc25aac5b1",
   "metadata": {},
   "source": [
    "# 💻 ✂️ strip (2/2)"
   ]
  },
  {
   "cell_type": "code",
   "execution_count": 90,
   "id": "37679702-7b9b-43c2-8ce8-7e93263482cf",
   "metadata": {},
   "outputs": [
    {
     "data": {
      "text/plain": [
       "\"abcd Who is abcd ? That's not a real name!!! abcd\""
      ]
     },
     "execution_count": 90,
     "metadata": {},
     "output_type": "execute_result"
    }
   ],
   "source": [
    "text = \"abcd Who is abcd ? That's not a real name!!! abcd\"\n",
    "text"
   ]
  },
  {
   "cell_type": "markdown",
   "id": "b0d37ac0-02f1-4c6b-849f-e12b69badb63",
   "metadata": {},
   "source": [
    "Here, the strip() method is used to remove leading and trailing characters from the string. In this case, it removes any occurrences of the characters 'b', 'd', 'a', or 'c' from the beginning and end of the string. "
   ]
  },
  {
   "cell_type": "code",
   "execution_count": 91,
   "id": "eeef00fb-85c1-4ed7-bbaa-9a1b507ee526",
   "metadata": {},
   "outputs": [
    {
     "data": {
      "text/plain": [
       "\" Who is abcd ? That's not a real name!!! \""
      ]
     },
     "execution_count": 91,
     "metadata": {},
     "output_type": "execute_result"
    }
   ],
   "source": [
    "text.strip('bdac')"
   ]
  },
  {
   "cell_type": "markdown",
   "id": "bca13cb6-9045-4df2-a459-1c000ca8db5a",
   "metadata": {},
   "source": [
    "# 💻 👥 replace"
   ]
  },
  {
   "cell_type": "code",
   "execution_count": 92,
   "id": "61620516-ec55-4fcb-9da8-103a0c34e3f6",
   "metadata": {},
   "outputs": [
    {
     "data": {
      "text/plain": [
       "'I love koalas, koalas are the cutest animals on Earth.'"
      ]
     },
     "execution_count": 92,
     "metadata": {},
     "output_type": "execute_result"
    }
   ],
   "source": [
    "text = \"I love koalas, koalas are the cutest animals on Earth.\"\n",
    "text"
   ]
  },
  {
   "cell_type": "code",
   "execution_count": 93,
   "id": "fb9aee5e-507f-4c6e-8b34-31dc10a49b44",
   "metadata": {},
   "outputs": [
    {
     "data": {
      "text/plain": [
       "'I love pandas, pandas are the cutest animals on Earth.'"
      ]
     },
     "execution_count": 93,
     "metadata": {},
     "output_type": "execute_result"
    }
   ],
   "source": [
    "text.replace(\"koala\", \"panda\")"
   ]
  },
  {
   "cell_type": "markdown",
   "id": "5abdb64b-41bd-4687-85e9-0d6f69ea56a4",
   "metadata": {},
   "source": [
    "# 💻 🪚 split"
   ]
  },
  {
   "cell_type": "code",
   "execution_count": 94,
   "id": "95409816-781e-4666-9fe1-b1e3c4b29faf",
   "metadata": {},
   "outputs": [],
   "source": [
    "text = \"linkin park / metallica /red hot chili peppers\""
   ]
  },
  {
   "cell_type": "code",
   "execution_count": 95,
   "id": "bb1654f8-0bff-4b7f-8c93-c9b60516ed92",
   "metadata": {},
   "outputs": [
    {
     "data": {
      "text/plain": [
       "['linkin park ', ' metallica ', 'red hot chili peppers']"
      ]
     },
     "execution_count": 95,
     "metadata": {},
     "output_type": "execute_result"
    }
   ],
   "source": [
    "text.split(\"/\")"
   ]
  },
  {
   "cell_type": "markdown",
   "id": "035ec166-c040-4808-a95f-b6609d3b0cf9",
   "metadata": {},
   "source": [
    "# 💻 🔡 Lowercase"
   ]
  },
  {
   "cell_type": "code",
   "execution_count": 96,
   "id": "23eb4890-5c69-475e-be8c-0fc4b5a4e1a1",
   "metadata": {},
   "outputs": [
    {
     "data": {
      "text/plain": [
       "'i LOVE football sO mUch. FOOTBALL is my passion. Who else loves fOOtBaLL ?'"
      ]
     },
     "execution_count": 96,
     "metadata": {},
     "output_type": "execute_result"
    }
   ],
   "source": [
    "text = \"i LOVE football sO mUch. FOOTBALL is my passion. Who else loves fOOtBaLL ?\"\n",
    "text"
   ]
  },
  {
   "cell_type": "code",
   "execution_count": 97,
   "id": "d1bbf987-8d96-4656-98d4-625b49b23c8f",
   "metadata": {},
   "outputs": [
    {
     "data": {
      "text/plain": [
       "'i love football so much. football is my passion. who else loves football ?'"
      ]
     },
     "execution_count": 97,
     "metadata": {},
     "output_type": "execute_result"
    }
   ],
   "source": [
    "text.lower() "
   ]
  },
  {
   "cell_type": "code",
   "execution_count": 98,
   "id": "1a65edbd-268e-4d47-a2ee-5d932a2f8cfd",
   "metadata": {},
   "outputs": [
    {
     "data": {
      "text/plain": [
       "'I LOVE FOOTBALL SO MUCH. FOOTBALL IS MY PASSION. WHO ELSE LOVES FOOTBALL ?'"
      ]
     },
     "execution_count": 98,
     "metadata": {},
     "output_type": "execute_result"
    }
   ],
   "source": [
    "text.upper() "
   ]
  },
  {
   "cell_type": "markdown",
   "id": "0ecc73e1-6fdf-4aca-8272-42e19855455e",
   "metadata": {},
   "source": [
    "# 💻 🔢 Numbers"
   ]
  },
  {
   "cell_type": "markdown",
   "id": "d0d22d22-bf36-4eb6-9bb9-3dd90e003bfe",
   "metadata": {},
   "source": [
    "Removing numbers during text preprocessing is often beneficial, especially for tasks like text clustering and keyphrase extraction. Here's why:\n",
    "\n",
    "- Text Clustering: Clustering algorithms, such as K-means or hierarchical clustering, group similar documents together based on their features. Including numbers in the text can introduce noise and hinder the clustering process because numbers typically do not carry semantic meaning or contribute significantly to the similarity between documents. By removing numbers, the clustering algorithm can focus on the meaningful textual content, leading to more accurate clusters that reflect the data.\n",
    "\n",
    "- Collecting Keyphrases: Keyphrase extraction involves identifying the most important phrases or terms in a document that capture its main topics or concepts. Including numbers in the text can lead to irrelevant or nonsensical keyphrases being extracted, because numbers are not informative at all in this context. Removing numbers helps ensure that the keyphrases extracted from the text are relevant and representative of its content, improving the quality of the extracted information."
   ]
  },
  {
   "cell_type": "code",
   "execution_count": 99,
   "id": "77607e2d-7630-452e-b093-819f98f4e2d7",
   "metadata": {},
   "outputs": [
    {
     "data": {
      "text/plain": [
       "'i do not recommend this restaurant, we waited for so long, like 30 minutes, this is ridiculous'"
      ]
     },
     "execution_count": 99,
     "metadata": {},
     "output_type": "execute_result"
    }
   ],
   "source": [
    "text = \"i do not recommend this restaurant, we waited for so long, like 30 minutes, this is ridiculous\"\n",
    "text"
   ]
  },
  {
   "cell_type": "code",
   "execution_count": 100,
   "id": "870d922a-3dbb-4697-a39d-94936102cf66",
   "metadata": {},
   "outputs": [
    {
     "data": {
      "text/plain": [
       "'i do not recommend this restaurant, we waited for so long, like  minutes, this is ridiculous'"
      ]
     },
     "execution_count": 100,
     "metadata": {},
     "output_type": "execute_result"
    }
   ],
   "source": [
    "cleaned_text = ''.join(char for char in text if not char.isdigit())\n",
    "cleaned_text"
   ]
  },
  {
   "cell_type": "code",
   "execution_count": 101,
   "id": "14612099-6b20-4005-82ce-d1cd43a1e85c",
   "metadata": {},
   "outputs": [
    {
     "name": "stdout",
     "output_type": "stream",
     "text": [
      "False\n",
      "True\n"
     ]
    }
   ],
   "source": [
    "print('a'.isdigit())\n",
    "print('5'.isdigit())"
   ]
  },
  {
   "cell_type": "markdown",
   "id": "88694172-6137-418b-a544-d77f849aa1c6",
   "metadata": {},
   "source": [
    "# 💻 ❗️❓Punctuation and Symbols"
   ]
  },
  {
   "cell_type": "markdown",
   "id": "78e3850d-e93e-4855-867f-5e71292906b0",
   "metadata": {},
   "source": [
    "#### Warning: you might want to keep punctuation and symbols for authorship attribution!"
   ]
  },
  {
   "cell_type": "markdown",
   "id": "074c5ab6-a150-45da-9b4c-56a9229d1c0d",
   "metadata": {},
   "source": [
    "Writing Style Identification:\n",
    "\n",
    "Punctuation and symbols play a crucial role in shaping an author's writing style. Factors such as the frequency and placement of commas, dashes, exclamation marks, and other symbols can be distinctive features of an author's writing.\n",
    "Retaining punctuation and symbols allows the model to capture these nuances in writing style accurately, improving the accuracy of authorship attribution."
   ]
  },
  {
   "cell_type": "code",
   "execution_count": 102,
   "id": "4247e4dc-4dcf-417c-8b66-3b593fa1a1f9",
   "metadata": {},
   "outputs": [
    {
     "data": {
      "text/plain": [
       "'I love bubble tea! OMG so #tasty @channel XOXO @$ ^_^ '"
      ]
     },
     "execution_count": 102,
     "metadata": {},
     "output_type": "execute_result"
    }
   ],
   "source": [
    "text = \"I love bubble tea! OMG so #tasty @channel XOXO @$ ^_^ \"\n",
    "text"
   ]
  },
  {
   "cell_type": "code",
   "execution_count": 103,
   "id": "8b6e2199-ad41-4ec3-acd4-46bc19d18eee",
   "metadata": {},
   "outputs": [
    {
     "data": {
      "text/plain": [
       "'!\"#$%&\\'()*+,-./:;<=>?@[\\\\]^_`{|}~'"
      ]
     },
     "execution_count": 103,
     "metadata": {},
     "output_type": "execute_result"
    }
   ],
   "source": [
    "import string # \"string\" module is already installed with Python\n",
    "string.punctuation"
   ]
  },
  {
   "cell_type": "markdown",
   "id": "f8575855-948f-4a63-9d24-3365c7f16a50",
   "metadata": {},
   "source": [
    "`string.punctuation` is a string containing all ASCII punctuation characters. \n",
    "<br>\n",
    "These characters include common symbols such as exclamation marks, double quotes, hash symbols, percent signs, ampersands, apostrophes, parentheses, asterisks, plus signs, commas, hyphens, periods, slashes, colons, semicolons, less than signs, equals signs, greater than signs, question marks, at symbols, square brackets, backslashes, circumflex accents, underscores, grave accents, curly braces, vertical bars, and tildes."
   ]
  },
  {
   "cell_type": "code",
   "execution_count": 104,
   "id": "3ffd2e36-eb56-4afe-be9c-6cddd382a327",
   "metadata": {},
   "outputs": [
    {
     "data": {
      "text/plain": [
       "'I love bubble tea OMG so tasty channel XOXO   '"
      ]
     },
     "execution_count": 104,
     "metadata": {},
     "output_type": "execute_result"
    }
   ],
   "source": [
    "for punctuation in string.punctuation:\n",
    "    text = text.replace(punctuation, '') \n",
    "    \n",
    "text"
   ]
  },
  {
   "cell_type": "code",
   "execution_count": 105,
   "id": "050d1f68-71b9-4899-a369-23e1d8dfd203",
   "metadata": {},
   "outputs": [
    {
     "data": {
      "text/plain": [
       "'I love bubble tea OMG so tasty channel XOXO'"
      ]
     },
     "execution_count": 105,
     "metadata": {},
     "output_type": "execute_result"
    }
   ],
   "source": [
    "text.strip()"
   ]
  },
  {
   "cell_type": "markdown",
   "id": "026b132d-5f10-413f-bfd4-b27f6587bafe",
   "metadata": {},
   "source": [
    "# 💻 💪 Combo: strip + lowercase + numbers + punctuation/symbols"
   ]
  },
  {
   "cell_type": "code",
   "execution_count": 106,
   "id": "b216cf8c-6622-4e9e-8eaf-2773763b8186",
   "metadata": {},
   "outputs": [],
   "source": [
    "sentences = [\n",
    "    \"   I LOVE Pizza 999 @^_^\", \n",
    "    \"  Le Wagon is amazing, take care - 666\"\n",
    "]"
   ]
  },
  {
   "cell_type": "code",
   "execution_count": 107,
   "id": "dce3f1f2-3bf2-4398-96e6-fade19c17b20",
   "metadata": {},
   "outputs": [],
   "source": [
    "def basic_cleaning(sentence):\n",
    "    sentence = sentence.lower()\n",
    "    sentence = ''.join(char for char in sentence if not char.isdigit())\n",
    "    \n",
    "    for punctuation in string.punctuation:\n",
    "        sentence = sentence.replace(punctuation, '') \n",
    "    \n",
    "    sentence = sentence.strip()\n",
    "    \n",
    "    return sentence"
   ]
  },
  {
   "cell_type": "code",
   "execution_count": 108,
   "id": "fe1403f8-b117-4ef5-8056-ee4c703199f6",
   "metadata": {},
   "outputs": [
    {
     "data": {
      "text/plain": [
       "['i love pizza', 'le wagon is amazing take care']"
      ]
     },
     "execution_count": 108,
     "metadata": {},
     "output_type": "execute_result"
    }
   ],
   "source": [
    "cleaned = [basic_cleaning(sentence) for sentence in sentences]\n",
    "cleaned"
   ]
  },
  {
   "cell_type": "markdown",
   "id": "74224060-abe8-4ece-850c-afa857dca1c9",
   "metadata": {
    "tags": []
   },
   "source": [
    "#### Join"
   ]
  },
  {
   "cell_type": "markdown",
   "id": "d45e27d8-2a9b-4cb8-b32c-7f057100e8d8",
   "metadata": {},
   "source": [
    "\n",
    "This line of code performs a text processing operation on the variable sentence, removing any digits (numeric characters) from it. Let's break down the code step by step:\n",
    "\n",
    "Iteration over Characters:\n",
    "\n",
    "python\n",
    "`for char in sentence`\n",
    "This part of the code iterates over each character in the sentence string. It uses a loop to go through every character, one by one.\n",
    "\n",
    "Conditional Filtering:\n",
    "`if not char.isdigit()`\n",
    "Inside the loop, for each character (char), there's a condition checking whether the character is not a digit. The isdigit() method is a built-in method in Python that returns True if all characters in the string are digits, otherwise it returns False. The not keyword negates this condition, so it evaluates to True if the character is not a digit.\n",
    "\n",
    "Joining Characters:\n",
    "\n",
    "`''.join(...)`\n",
    "The join() method is then used to concatenate the characters back together into a new string. It takes an iterable (in this case, a generator expression) as input and joins the elements together using the specified separator. In this case, the separator is an empty string '', which means the characters will be joined together without any separation between them.\n",
    "\n",
    "Generator Expression:\n",
    "`(char for char in sentence if not char.isdigit())`\n",
    "Inside the join() method, there's a generator expression. It iterates over each character in the sentence string and yields only those characters that are not digits, effectively filtering out the digits from the original string.\n",
    "\n",
    "Result:\n",
    "The final result of this line of code is a new string containing only the characters from the original sentence string that are not digits. Essentially, it removes all numeric characters from the sentence."
   ]
  },
  {
   "cell_type": "code",
   "execution_count": 109,
   "id": "6d447c0c-7069-46f8-8508-31cb2264fd38",
   "metadata": {},
   "outputs": [
    {
     "data": {
      "text/plain": [
       "'   I LOVE Pizza  @^_^'"
      ]
     },
     "execution_count": 109,
     "metadata": {},
     "output_type": "execute_result"
    }
   ],
   "source": [
    "sentence = ''.join(char for char in sentences[0] if not char.isdigit())\n",
    "sentence"
   ]
  },
  {
   "cell_type": "markdown",
   "id": "95c6cefb-62cd-41f3-9f78-e7178f4a39c6",
   "metadata": {},
   "source": [
    "# 💻 🔍 Removing Tags with RegEx"
   ]
  },
  {
   "cell_type": "code",
   "execution_count": 110,
   "id": "7a237a5a-14cc-4772-bf18-fc48bdad0ffc",
   "metadata": {},
   "outputs": [
    {
     "name": "stdout",
     "output_type": "stream",
     "text": [
      "Hello Le Wagon!\n"
     ]
    }
   ],
   "source": [
    "import re\n",
    "\n",
    "text = \"\"\"<head><body>Hello Le Wagon!</body></head>\"\"\"\n",
    "cleaned_text = re.sub('<[^<]+?>','', text)\n",
    "\n",
    "print (cleaned_text)"
   ]
  },
  {
   "cell_type": "code",
   "execution_count": 111,
   "id": "a08c4055-a443-4415-a0b6-b2785bdff1dc",
   "metadata": {},
   "outputs": [
    {
     "data": {
      "text/plain": [
       "['darkvader@gmail.com', 'batman@outlook.com']"
      ]
     },
     "execution_count": 111,
     "metadata": {},
     "output_type": "execute_result"
    }
   ],
   "source": [
    "import re\n",
    "\n",
    "txt = '''\n",
    "    This is a random text, authored by darkvader@gmail.com \n",
    "    and batman@outlook.com, WOW!\n",
    "'''\n",
    "\n",
    "re.findall('[\\w.+-]+@[\\w-]+\\.[\\w.-]+', txt)"
   ]
  },
  {
   "cell_type": "markdown",
   "id": "d35dce65-60bb-48d3-8927-d3838833a553",
   "metadata": {},
   "source": [
    "# 💻 Cleaning with NLTK"
   ]
  },
  {
   "cell_type": "markdown",
   "id": "a6bca27d-25b5-424f-98dd-483dd5c49f4a",
   "metadata": {},
   "source": [
    "Natural Language Toolkit (NLTK) is an NLP library that provides preprocessing and modeling tools for text data"
   ]
  },
  {
   "cell_type": "markdown",
   "id": "5cf433cc-c77b-4e17-bbc0-fe7b7c15313a",
   "metadata": {},
   "source": [
    "# 💻 🌲 Tokenizing - read"
   ]
  },
  {
   "cell_type": "code",
   "execution_count": 112,
   "id": "cc0d622e-1f7a-491a-aac7-2fd10d36acaa",
   "metadata": {},
   "outputs": [
    {
     "data": {
      "text/plain": [
       "'It is during our darkest moments that we must focus to see the light'"
      ]
     },
     "execution_count": 112,
     "metadata": {},
     "output_type": "execute_result"
    }
   ],
   "source": [
    "text = 'It is during our darkest moments that we must focus to see the light'\n",
    "\n",
    "text"
   ]
  },
  {
   "cell_type": "code",
   "execution_count": 113,
   "id": "f43a64f9-48e3-4a19-ad50-1443097fca48",
   "metadata": {},
   "outputs": [
    {
     "name": "stdout",
     "output_type": "stream",
     "text": [
      "['It', 'is', 'during', 'our', 'darkest', 'moments', 'that', 'we', 'must', 'focus', 'to', 'see', 'the', 'light']\n"
     ]
    }
   ],
   "source": [
    "from nltk.tokenize import word_tokenize\n",
    "import nltk\n",
    "# nltk.download('punkt')\n",
    "\n",
    "word_tokens = word_tokenize(text)\n",
    "print(word_tokens) # print displays the words in one line"
   ]
  },
  {
   "cell_type": "markdown",
   "id": "1d310c6a-8af9-4e4f-8358-28250b03a4e4",
   "metadata": {},
   "source": [
    "# 💻 🛑 Stopwords"
   ]
  },
  {
   "cell_type": "code",
   "execution_count": 114,
   "id": "241fc142-d662-49dc-b159-40a9c8e03b58",
   "metadata": {},
   "outputs": [
    {
     "data": {
      "text/plain": [
       "{'a',\n",
       " 'about',\n",
       " 'above',\n",
       " 'after',\n",
       " 'again',\n",
       " 'against',\n",
       " 'ain',\n",
       " 'all',\n",
       " 'am',\n",
       " 'an',\n",
       " 'and',\n",
       " 'any',\n",
       " 'are',\n",
       " 'aren',\n",
       " \"aren't\",\n",
       " 'as',\n",
       " 'at',\n",
       " 'be',\n",
       " 'because',\n",
       " 'been',\n",
       " 'before',\n",
       " 'being',\n",
       " 'below',\n",
       " 'between',\n",
       " 'both',\n",
       " 'but',\n",
       " 'by',\n",
       " 'can',\n",
       " 'couldn',\n",
       " \"couldn't\",\n",
       " 'd',\n",
       " 'did',\n",
       " 'didn',\n",
       " \"didn't\",\n",
       " 'do',\n",
       " 'does',\n",
       " 'doesn',\n",
       " \"doesn't\",\n",
       " 'doing',\n",
       " 'don',\n",
       " \"don't\",\n",
       " 'down',\n",
       " 'during',\n",
       " 'each',\n",
       " 'few',\n",
       " 'for',\n",
       " 'from',\n",
       " 'further',\n",
       " 'had',\n",
       " 'hadn',\n",
       " \"hadn't\",\n",
       " 'has',\n",
       " 'hasn',\n",
       " \"hasn't\",\n",
       " 'have',\n",
       " 'haven',\n",
       " \"haven't\",\n",
       " 'having',\n",
       " 'he',\n",
       " 'her',\n",
       " 'here',\n",
       " 'hers',\n",
       " 'herself',\n",
       " 'him',\n",
       " 'himself',\n",
       " 'his',\n",
       " 'how',\n",
       " 'i',\n",
       " 'if',\n",
       " 'in',\n",
       " 'into',\n",
       " 'is',\n",
       " 'isn',\n",
       " \"isn't\",\n",
       " 'it',\n",
       " \"it's\",\n",
       " 'its',\n",
       " 'itself',\n",
       " 'just',\n",
       " 'll',\n",
       " 'm',\n",
       " 'ma',\n",
       " 'me',\n",
       " 'mightn',\n",
       " \"mightn't\",\n",
       " 'more',\n",
       " 'most',\n",
       " 'mustn',\n",
       " \"mustn't\",\n",
       " 'my',\n",
       " 'myself',\n",
       " 'needn',\n",
       " \"needn't\",\n",
       " 'no',\n",
       " 'nor',\n",
       " 'not',\n",
       " 'now',\n",
       " 'o',\n",
       " 'of',\n",
       " 'off',\n",
       " 'on',\n",
       " 'once',\n",
       " 'only',\n",
       " 'or',\n",
       " 'other',\n",
       " 'our',\n",
       " 'ours',\n",
       " 'ourselves',\n",
       " 'out',\n",
       " 'over',\n",
       " 'own',\n",
       " 're',\n",
       " 's',\n",
       " 'same',\n",
       " 'shan',\n",
       " \"shan't\",\n",
       " 'she',\n",
       " \"she's\",\n",
       " 'should',\n",
       " \"should've\",\n",
       " 'shouldn',\n",
       " \"shouldn't\",\n",
       " 'so',\n",
       " 'some',\n",
       " 'such',\n",
       " 't',\n",
       " 'than',\n",
       " 'that',\n",
       " \"that'll\",\n",
       " 'the',\n",
       " 'their',\n",
       " 'theirs',\n",
       " 'them',\n",
       " 'themselves',\n",
       " 'then',\n",
       " 'there',\n",
       " 'these',\n",
       " 'they',\n",
       " 'this',\n",
       " 'those',\n",
       " 'through',\n",
       " 'to',\n",
       " 'too',\n",
       " 'under',\n",
       " 'until',\n",
       " 'up',\n",
       " 've',\n",
       " 'very',\n",
       " 'was',\n",
       " 'wasn',\n",
       " \"wasn't\",\n",
       " 'we',\n",
       " 'were',\n",
       " 'weren',\n",
       " \"weren't\",\n",
       " 'what',\n",
       " 'when',\n",
       " 'where',\n",
       " 'which',\n",
       " 'while',\n",
       " 'who',\n",
       " 'whom',\n",
       " 'why',\n",
       " 'will',\n",
       " 'with',\n",
       " 'won',\n",
       " \"won't\",\n",
       " 'wouldn',\n",
       " \"wouldn't\",\n",
       " 'y',\n",
       " 'you',\n",
       " \"you'd\",\n",
       " \"you'll\",\n",
       " \"you're\",\n",
       " \"you've\",\n",
       " 'your',\n",
       " 'yours',\n",
       " 'yourself',\n",
       " 'yourselves'}"
      ]
     },
     "execution_count": 114,
     "metadata": {},
     "output_type": "execute_result"
    }
   ],
   "source": [
    "from nltk.corpus import stopwords \n",
    "import nltk\n",
    "# nltk.download('stopwords')\n",
    "# set(...): The list of stopwords is converted into a set. Using a set ensures that duplicate\n",
    "# stopwords are removed, and it allows for efficient membership checks.\n",
    "stop_words = set(stopwords.words('english')) # you can also choose other languages\n",
    "stop_words"
   ]
  },
  {
   "cell_type": "markdown",
   "id": "12aa80e2-6f2d-4417-aea3-ad7802310da8",
   "metadata": {},
   "source": [
    "🕺🏻 Here is an example of a tokenized sentence:"
   ]
  },
  {
   "cell_type": "code",
   "execution_count": 115,
   "id": "9fd80e50-83ef-4c3c-ad54-295c88ee6f9f",
   "metadata": {},
   "outputs": [],
   "source": [
    "tokens = [\"i\", \"am\", \"going\", \"to\", \"go\", \"to\", \"the\", \n",
    "        \"club\", \"and\", \"party\", \"all\", \"night\", \"long\"]"
   ]
  },
  {
   "cell_type": "markdown",
   "id": "297d806e-76ae-4f83-848f-a9737fba0321",
   "metadata": {},
   "source": [
    "#### ❓ What stopwords could be removed ❓"
   ]
  },
  {
   "cell_type": "code",
   "execution_count": 116,
   "id": "f233e21b-770e-4a33-911f-99a2a08a3da3",
   "metadata": {},
   "outputs": [
    {
     "data": {
      "text/plain": [
       "['i', 'am', 'to', 'to', 'the', 'and', 'all']"
      ]
     },
     "execution_count": 116,
     "metadata": {},
     "output_type": "execute_result"
    }
   ],
   "source": [
    "stopwords_removed = [w for w in tokens if w in stop_words] \n",
    "stopwords_removed"
   ]
  },
  {
   "cell_type": "markdown",
   "id": "2808742a-c529-46de-9296-0db2e5510d26",
   "metadata": {},
   "source": [
    "❓ What are the meaningful words in this sentence ❓"
   ]
  },
  {
   "cell_type": "markdown",
   "id": "21b399cf-5c29-4ffd-b758-572e3428815c",
   "metadata": {},
   "source": [
    "#### 👉 What if you are not going to the party?"
   ]
  },
  {
   "cell_type": "markdown",
   "id": "0b1b9771-d99a-41fc-a6b1-b73de4ae4945",
   "metadata": {},
   "source": [
    "😱 \"not\" is also considered as a stopword"
   ]
  },
  {
   "cell_type": "markdown",
   "id": "7e8a743a-8179-40e2-8bdf-9de68922afc6",
   "metadata": {},
   "source": [
    "So guys, the slide says here thar removing stopwords can be dangerous for seentiment analysis and authorship attribution"
   ]
  },
  {
   "cell_type": "markdown",
   "id": "673cac73-0ee5-4bbc-957b-364c212048d1",
   "metadata": {},
   "source": [
    "We have to be careful with this statement - why\n",
    "\n",
    "when it comes to Sentiment Analysis:\n",
    "\n",
    "Stopword removal is generally not dangerous for sentiment analysis. In fact, it can be beneficial in some cases by reducing noise and focusing on sentiment-carrying words. However, the impact of stopword removal on sentiment analysis depends on the specific context and the sentiment lexicon used. Some stopwords may carry sentiment themselves (e.g., \"not\"), so their removal could potentially affect the sentiment analysis results. So, it's essential to carefully consider the stopwords to remove and their potential impact on sentiment analysis accuracy."
   ]
  },
  {
   "cell_type": "markdown",
   "id": "8772047e-e95f-4f68-97dd-00718e1132fe",
   "metadata": {},
   "source": [
    "And when it comes to author attribution, Stopword removal is also not inherently dangerous. While some stopwords may carry author-specific stylistic features, their removal is unlikely to significantly impact the accuracy of authorship attribution models. Authorship attribution relies more on higher-level stylistic features, such as vocabulary choice, sentence structure, and syntactic patterns such as punctutions, which are not heavily influenced by stopwords."
   ]
  },
  {
   "cell_type": "markdown",
   "id": "abfb5f4d-d8e6-4efb-86cb-1c60266739a4",
   "metadata": {},
   "source": [
    "# 💻 🌐 Lemmatizing - read"
   ]
  },
  {
   "cell_type": "markdown",
   "id": "b2a65773-8ae4-4756-b440-be7d8e5384f5",
   "metadata": {},
   "source": [
    "#### 👇 Look at the following sentence:"
   ]
  },
  {
   "cell_type": "code",
   "execution_count": 117,
   "id": "fcc4bbe2-d5aa-4134-bbff-57201baee93f",
   "metadata": {},
   "outputs": [
    {
     "data": {
      "text/plain": [
       "'He was RUNNING and EATING at the same time =[. He has a bad habit of swimming after playing 3 hours in the Sun =/'"
      ]
     },
     "execution_count": 117,
     "metadata": {},
     "output_type": "execute_result"
    }
   ],
   "source": [
    "sentence = 'He was RUNNING and EATING at the same time =[. He has a bad habit of swimming after playing 3 hours in the Sun =/'\n",
    "sentence"
   ]
  },
  {
   "cell_type": "markdown",
   "id": "2916a283-537a-4b24-8246-fa6c20c4b05a",
   "metadata": {},
   "source": [
    "#### 🧹 Step 1: Basic Cleaning ( the method we created)"
   ]
  },
  {
   "cell_type": "code",
   "execution_count": 118,
   "id": "07aca049-f6a5-4a5e-b036-081963c1f5a7",
   "metadata": {},
   "outputs": [
    {
     "data": {
      "text/plain": [
       "'He was RUNNING and EATING at the same time =[. He has a bad habit of swimming after playing 3 hours in the Sun =/'"
      ]
     },
     "execution_count": 118,
     "metadata": {},
     "output_type": "execute_result"
    }
   ],
   "source": [
    "sentence"
   ]
  },
  {
   "cell_type": "code",
   "execution_count": 119,
   "id": "a2c49132-6b80-48de-adfc-837551fda354",
   "metadata": {},
   "outputs": [
    {
     "data": {
      "text/plain": [
       "'he was running and eating at the same time  he has a bad habit of swimming after playing  hours in the sun'"
      ]
     },
     "execution_count": 119,
     "metadata": {},
     "output_type": "execute_result"
    }
   ],
   "source": [
    "cleaned_sentence = basic_cleaning(sentence)\n",
    "cleaned_sentence"
   ]
  },
  {
   "cell_type": "markdown",
   "id": "222e4c38-20fd-4c52-8f3e-405ec5287fd4",
   "metadata": {},
   "source": [
    "# 🎄 Step 2 : Tokenize"
   ]
  },
  {
   "cell_type": "markdown",
   "id": "c7edc640-e738-4e25-ab0e-957dbcd44f19",
   "metadata": {},
   "source": [
    "So what is tokenizing again folks?"
   ]
  },
  {
   "cell_type": "code",
   "execution_count": 120,
   "id": "ec03473c-3b01-40c8-acee-60a3f621e2ca",
   "metadata": {},
   "outputs": [
    {
     "name": "stdout",
     "output_type": "stream",
     "text": [
      "['he', 'was', 'running', 'and', 'eating', 'at', 'the', 'same', 'time', 'he', 'has', 'a', 'bad', 'habit', 'of', 'swimming', 'after', 'playing', 'hours', 'in', 'the', 'sun']\n"
     ]
    }
   ],
   "source": [
    "tokenized_sentence = word_tokenize(cleaned_sentence)\n",
    "print(tokenized_sentence)"
   ]
  },
  {
   "cell_type": "markdown",
   "id": "77fbca70-0785-4f4c-9fd9-1428369762f6",
   "metadata": {},
   "source": [
    "# 🛑 Step 3: Remove Stopwords"
   ]
  },
  {
   "cell_type": "code",
   "execution_count": 121,
   "id": "9bf0aa71-ba81-4e65-b529-a1363af2b20d",
   "metadata": {},
   "outputs": [
    {
     "name": "stdout",
     "output_type": "stream",
     "text": [
      "['running', 'eating', 'time', 'bad', 'habit', 'swimming', 'playing', 'hours', 'sun']\n"
     ]
    }
   ],
   "source": [
    "tokenized_sentence_no_stopwords = [w for w in tokenized_sentence if not w in stop_words] \n",
    "print(tokenized_sentence_no_stopwords)"
   ]
  },
  {
   "cell_type": "markdown",
   "id": "c777836d-fb54-4d1c-8da3-6ded8202979a",
   "metadata": {},
   "source": [
    "# 🌐 Step 4: Lemmatizing"
   ]
  },
  {
   "cell_type": "markdown",
   "id": "aea67c3c-4bfc-4caf-9368-a8cf48bf31af",
   "metadata": {},
   "source": [
    "What does lemmatizing do exactly?"
   ]
  },
  {
   "cell_type": "markdown",
   "id": "a1d3873b-90cc-40bd-81c8-302ef42e2c34",
   "metadata": {},
   "source": [
    "It reduces words to their base or canonical form, known as the lemma. The lemma represents the dictionary form or root word of a given word, which allows different inflected forms of the word to be treated as a single item. For example, the lemma of \"running\" is \"run,\" and the lemma of \"better\" is \"good.\""
   ]
  },
  {
   "cell_type": "code",
   "execution_count": 122,
   "id": "7743e5c3-a748-42ca-81b4-c7b00de75bf6",
   "metadata": {},
   "outputs": [],
   "source": [
    "from nltk.stem import WordNetLemmatizer\n",
    "import pandas as pd\n",
    "import nltk\n",
    "# nltk.download('wordnet')\n",
    "# nltk.download('omw-1.4')\n",
    "\n",
    "# Lemmatizing the verbs\n",
    "verb_lemmatized = [\n",
    "    WordNetLemmatizer().lemmatize(word, pos=\"v\")  # v --> verbs\n",
    "    for word in tokenized_sentence_no_stopwords\n",
    "]"
   ]
  },
  {
   "cell_type": "markdown",
   "id": "c288f798-d4b5-409f-911c-1e018af77120",
   "metadata": {},
   "source": [
    "Here, a list comprehension is used to iterate over each word in the tokenized_sentence_no_stopwords list.\n",
    "For each word, the WordNetLemmatizer().lemmatize(word, pos=\"v\") method is called. This method lemmatizes the word with the specified part-of-speech (POS) tag, which in this case is \"v\" indicating a verb.\n",
    "The lemmatized verbs are stored in the verb_lemmatized list."
   ]
  },
  {
   "cell_type": "markdown",
   "id": "f7794d9d-e8d0-47a7-abb0-6d46fe6822eb",
   "metadata": {},
   "source": [
    "in the same way, another list comprehension is used to iterate over each word in the verb_lemmatized list, which contains the lemmatized verbs.\n",
    "For each word, the WordNetLemmatizer().lemmatize(word, pos=\"n\") method is called with the POS tag \"n\", indicating a noun this time.\n",
    "The lemmatized nouns are stored in the noun_lemmatized list."
   ]
  },
  {
   "cell_type": "code",
   "execution_count": 122,
   "id": "e1cbd7b7-1808-4b4a-9d6b-4360881ea5dd",
   "metadata": {},
   "outputs": [],
   "source": [
    "# Lemmatizing the nouns\n",
    "noun_lemmatized = [\n",
    "    WordNetLemmatizer().lemmatize(word, pos=\"n\")  # n --> nouns\n",
    "    for word in verb_lemmatized\n",
    "]"
   ]
  },
  {
   "cell_type": "markdown",
   "id": "c7f1a93b-9e15-41c1-9f9b-43d297c0fb3e",
   "metadata": {},
   "source": [
    "Here I create a dataframe with columns for original verbs, lemmatized verbs, and lemmatized nouns. It then displays the DataFrame, allowing us to inspect the original and lemmatized forms of the words in a tabular format."
   ]
  },
  {
   "cell_type": "code",
   "execution_count": 123,
   "id": "ef7edf5d-cf35-4543-aad3-43d19c0be207",
   "metadata": {},
   "outputs": [
    {
     "data": {
      "text/html": [
       "<div>\n",
       "<style scoped>\n",
       "    .dataframe tbody tr th:only-of-type {\n",
       "        vertical-align: middle;\n",
       "    }\n",
       "\n",
       "    .dataframe tbody tr th {\n",
       "        vertical-align: top;\n",
       "    }\n",
       "\n",
       "    .dataframe thead th {\n",
       "        text-align: right;\n",
       "    }\n",
       "</style>\n",
       "<table border=\"1\" class=\"dataframe\">\n",
       "  <thead>\n",
       "    <tr style=\"text-align: right;\">\n",
       "      <th></th>\n",
       "      <th>Original Verb</th>\n",
       "      <th>Verb Lemmatized</th>\n",
       "      <th>Noun Lemmatized</th>\n",
       "    </tr>\n",
       "  </thead>\n",
       "  <tbody>\n",
       "    <tr>\n",
       "      <th>0</th>\n",
       "      <td>running</td>\n",
       "      <td>run</td>\n",
       "      <td>run</td>\n",
       "    </tr>\n",
       "    <tr>\n",
       "      <th>1</th>\n",
       "      <td>eating</td>\n",
       "      <td>eat</td>\n",
       "      <td>eat</td>\n",
       "    </tr>\n",
       "    <tr>\n",
       "      <th>2</th>\n",
       "      <td>time</td>\n",
       "      <td>time</td>\n",
       "      <td>time</td>\n",
       "    </tr>\n",
       "    <tr>\n",
       "      <th>3</th>\n",
       "      <td>bad</td>\n",
       "      <td>bad</td>\n",
       "      <td>bad</td>\n",
       "    </tr>\n",
       "    <tr>\n",
       "      <th>4</th>\n",
       "      <td>habit</td>\n",
       "      <td>habit</td>\n",
       "      <td>habit</td>\n",
       "    </tr>\n",
       "    <tr>\n",
       "      <th>5</th>\n",
       "      <td>swimming</td>\n",
       "      <td>swim</td>\n",
       "      <td>swim</td>\n",
       "    </tr>\n",
       "    <tr>\n",
       "      <th>6</th>\n",
       "      <td>playing</td>\n",
       "      <td>play</td>\n",
       "      <td>play</td>\n",
       "    </tr>\n",
       "    <tr>\n",
       "      <th>7</th>\n",
       "      <td>hours</td>\n",
       "      <td>hours</td>\n",
       "      <td>hour</td>\n",
       "    </tr>\n",
       "    <tr>\n",
       "      <th>8</th>\n",
       "      <td>sun</td>\n",
       "      <td>sun</td>\n",
       "      <td>sun</td>\n",
       "    </tr>\n",
       "  </tbody>\n",
       "</table>\n",
       "</div>"
      ],
      "text/plain": [
       "  Original Verb Verb Lemmatized Noun Lemmatized\n",
       "0       running             run             run\n",
       "1        eating             eat             eat\n",
       "2          time            time            time\n",
       "3           bad             bad             bad\n",
       "4         habit           habit           habit\n",
       "5      swimming            swim            swim\n",
       "6       playing            play            play\n",
       "7         hours           hours            hour\n",
       "8           sun             sun             sun"
      ]
     },
     "execution_count": 123,
     "metadata": {},
     "output_type": "execute_result"
    }
   ],
   "source": [
    "# Create a DataFrame\n",
    "df = pd.DataFrame({\n",
    "    'Original Verb': tokenized_sentence_no_stopwords,\n",
    "    'Verb Lemmatized': verb_lemmatized,\n",
    "    'Noun Lemmatized': noun_lemmatized\n",
    "})\n",
    "\n",
    "# Display the DataFrame\n",
    "df"
   ]
  },
  {
   "cell_type": "markdown",
   "id": "f01d3ad7-4a7b-40b7-9514-8ba32fdb69c9",
   "metadata": {},
   "source": []
  },
  {
   "cell_type": "markdown",
   "id": "53a609c4-ff07-4de0-aab6-f2c2e6a32991",
   "metadata": {},
   "source": [
    " Lemmatizing is useful for:\n",
    "\n",
    "- topic modeling\n",
    "- sentiment analysis\n",
    "\n",
    "- Topic Modeling: In topic modeling, the goal is to identify themes or topics within a collection of documents. Lemmatization helps by reducing words to their base or canonical form, which helps in consolidating different inflected forms of words into a single representation. This reduces the vocabulary size and helps in identifying topics more accurately by treating different forms of the same word as the same token. For example, \"run\", \"running\", and \"ran\" would all be lemmatized to \"run\", making it easier for topic modeling algorithms to recognize the underlying topic related to running or physical activity.\n",
    "\n",
    "- Sentiment Analysis: In sentiment analysis, the goal is to determine the sentiment or opinion expressed in a piece of text. Lemmatization can be beneficial in sentiment analysis by standardizing words and reducing word variations. This helps in capturing the sentiment conveyed by words more accurately, regardless of their inflected forms. For example, lemmatizing \"better\" to \"good\" ensures that variations like \"better\" and \"best\" are treated similarly in sentiment analysis, as they convey similar positive sentiment."
   ]
  },
  {
   "cell_type": "markdown",
   "id": "975f3042-dd44-4251-a7f0-69a00cba0358",
   "metadata": {},
   "source": [
    "# 🥡 Preprocessing Text - Takeaways - read"
   ]
  },
  {
   "cell_type": "markdown",
   "id": "f249e13b-b693-4332-a9a1-550e07506c60",
   "metadata": {},
   "source": [
    "# 🤔 Now that the text is preprocessed, how can it be analyzed by Machine Learning algorithms?"
   ]
  },
  {
   "cell_type": "markdown",
   "id": "e62870d6-ec5d-4dbf-aff3-50d1cfac7c65",
   "metadata": {},
   "source": [
    "# 2. Vectorizing"
   ]
  },
  {
   "cell_type": "markdown",
   "id": "df308935-126c-4b76-97e8-cc90954b11c8",
   "metadata": {},
   "source": [
    "# 🤖 Machine Learning algorithms cannot process raw text, as it needs to be converted into numbers first"
   ]
  },
  {
   "cell_type": "markdown",
   "id": "489a4486-ef5a-46fd-b2c0-154159b09e2f",
   "metadata": {},
   "source": [
    "So we have the texts. \n",
    "\n",
    "- Vectorize Texts: Use techniques such as TF-IDF (Term Frequency-Inverse Document Frequency) or word embeddings (e.g., Word2Vec, GloVe) to convert the text data into numerical vectors. TF-IDF represents each text document as a vector of word frequencies, while word embeddings represent each word as a dense vector in a continuous space. You can use libraries like scikit-learn (for TF-IDF) or TensorFlow/Keras (for word embeddings) to perform text vectorization.\n",
    "\n",
    "- Encode Target Variable: Encode the target variable (e.g., \"normal email\" vs. \"spam\") into numerical labels. For binary classification tasks like spam detection, you can use label encoding to convert categorical labels into numerical values (e.g., 0 for \"normal email\" and 1 for \"spam\").\n",
    "\n",
    "- Make Predictions: Once the model is trained, use it to make predictions on new text data. Vectorize the new text data using the same techniques used during training, and then feed the vectorized data into the trained model to get predictions. The predictions will be numerical labels representing the predicted class (e.g., 0 for \"normal email\" and 1 for \"spam\")."
   ]
  },
  {
   "cell_type": "markdown",
   "id": "008c42a8-ab6f-4291-8580-cd74d05f1369",
   "metadata": {},
   "source": [
    "# 2.1. Bag-of-Words representation"
   ]
  },
  {
   "cell_type": "markdown",
   "id": "33bc76c2-2f16-488e-af2b-d8bf27b21210",
   "metadata": {},
   "source": [
    "# 👩🏻‍🏫 Bag-of-Words representation(BoW)  - read"
   ]
  },
  {
   "cell_type": "markdown",
   "id": "990fda94-e492-4b3a-969b-60933cbd9ca8",
   "metadata": {},
   "source": [
    "# 💻 CountVectorizer - Read"
   ]
  },
  {
   "cell_type": "markdown",
   "id": "dc762057-28ea-4166-9357-ae443dba3e5f",
   "metadata": {},
   "source": [
    "#### 👇 Look at the following sentences:"
   ]
  },
  {
   "cell_type": "code",
   "execution_count": 124,
   "id": "d02ce9a2-7397-44ae-aef5-9e4621995794",
   "metadata": {},
   "outputs": [],
   "source": [
    "texts = [\n",
    "    'the young dog is running with the cat',\n",
    "    'running is good for your health',\n",
    "    'your cat is young',\n",
    "    'young young young young young cat cat cat'\n",
    "]"
   ]
  },
  {
   "cell_type": "markdown",
   "id": "b56265bc-81be-4316-b467-8cb6f1245644",
   "metadata": {},
   "source": [
    "#### 👩🏻‍🔬 Let's apply the CountVectorizer to generate a Bag-of-Words representation of these four sentences"
   ]
  },
  {
   "cell_type": "code",
   "execution_count": 125,
   "id": "edd202e2-8c4f-4946-94be-dc8af6c2e0bc",
   "metadata": {},
   "outputs": [
    {
     "data": {
      "text/plain": [
       "array([[1, 1, 0, 0, 0, 1, 1, 2, 1, 1, 0],\n",
       "       [0, 0, 1, 1, 1, 1, 1, 0, 0, 0, 1],\n",
       "       [1, 0, 0, 0, 0, 1, 0, 0, 0, 1, 1],\n",
       "       [3, 0, 0, 0, 0, 0, 0, 0, 0, 5, 0]])"
      ]
     },
     "execution_count": 125,
     "metadata": {},
     "output_type": "execute_result"
    }
   ],
   "source": [
    "from sklearn.feature_extraction.text import CountVectorizer\n",
    "\n",
    "count_vectorizer = CountVectorizer()\n",
    "X = count_vectorizer.fit_transform(texts)\n",
    "X.toarray()"
   ]
  },
  {
   "cell_type": "markdown",
   "id": "35acb136-7168-448a-aa0f-d6d9d7960f8a",
   "metadata": {},
   "source": [
    "SO what is going on in this code?\n",
    "\n",
    "`count_vectorizer = CountVectorizer()`\n",
    "CountVectorizer is a method provided by scikit-learn for converting a collection of text documents into a matrix of token counts. Each row of the matrix represents a document, and each column represents a unique word (or token) in the entire corpus of documents.\n",
    "The CountVectorizer() function initializes a CountVectorizer object with default parameters. You can customize parameters such as tokenization rules, stopwords removal, and n-gram range, but in this case, it uses default settings."
   ]
  },
  {
   "cell_type": "markdown",
   "id": "609f04d7-05c3-4acd-825f-4a592bafcc4d",
   "metadata": {},
   "source": [
    "In the context of natural language processing (NLP) and text analysis, a document typically refers to a single unit of text data. "
   ]
  },
  {
   "cell_type": "markdown",
   "id": "f5116cc4-aea0-4831-955d-c4891f7699f6",
   "metadata": {},
   "source": [
    "The `toarray()` method converts the sparse matrix X into a dense array format. Sparse matrices store only non-zero entries, which is efficient for memory usage when dealing with large matrices where most entries are zero. However, dense arrays store all entries, including zeros, which makes them more memory-intensive but easier to work with for certain operations.\n",
    "By calling `toarray()`, the sparse matrix X is converted into a 2D NumPy array, where each row corresponds to a document and each column corresponds to a word, with the entry representing the count of that word in the document."
   ]
  },
  {
   "cell_type": "markdown",
   "id": "e1460823-aaa4-4692-bfa5-3a16124ddc90",
   "metadata": {},
   "source": [
    "🤔 Can you guess which column represents which word?"
   ]
  },
  {
   "cell_type": "markdown",
   "id": "1927e126-b586-4552-9b1d-0b9a7cc8110c",
   "metadata": {},
   "source": [
    "# 🔥 As soon as the CountVectorizer is fitted to the text, you can retrieve all the words seen with get_feature_names_out():"
   ]
  },
  {
   "cell_type": "code",
   "execution_count": 126,
   "id": "15560b44-83f6-4b48-abca-0b06f1dc253a",
   "metadata": {},
   "outputs": [
    {
     "data": {
      "text/plain": [
       "array(['cat', 'dog', 'for', 'good', 'health', 'is', 'running', 'the',\n",
       "       'with', 'young', 'your'], dtype=object)"
      ]
     },
     "execution_count": 126,
     "metadata": {},
     "output_type": "execute_result"
    }
   ],
   "source": [
    "count_vectorizer.get_feature_names_out()"
   ]
  },
  {
   "cell_type": "code",
   "execution_count": 129,
   "id": "845cc5cd-231c-4ecb-97ae-a4af55c15b5f",
   "metadata": {},
   "outputs": [
    {
     "data": {
      "text/html": [
       "<div>\n",
       "<style scoped>\n",
       "    .dataframe tbody tr th:only-of-type {\n",
       "        vertical-align: middle;\n",
       "    }\n",
       "\n",
       "    .dataframe tbody tr th {\n",
       "        vertical-align: top;\n",
       "    }\n",
       "\n",
       "    .dataframe thead th {\n",
       "        text-align: right;\n",
       "    }\n",
       "</style>\n",
       "<table border=\"1\" class=\"dataframe\">\n",
       "  <thead>\n",
       "    <tr style=\"text-align: right;\">\n",
       "      <th></th>\n",
       "      <th>cat</th>\n",
       "      <th>dog</th>\n",
       "      <th>for</th>\n",
       "      <th>good</th>\n",
       "      <th>health</th>\n",
       "      <th>is</th>\n",
       "      <th>running</th>\n",
       "      <th>the</th>\n",
       "      <th>with</th>\n",
       "      <th>young</th>\n",
       "      <th>your</th>\n",
       "    </tr>\n",
       "  </thead>\n",
       "  <tbody>\n",
       "    <tr>\n",
       "      <th>the young dog is running with the cat</th>\n",
       "      <td>1</td>\n",
       "      <td>1</td>\n",
       "      <td>0</td>\n",
       "      <td>0</td>\n",
       "      <td>0</td>\n",
       "      <td>1</td>\n",
       "      <td>1</td>\n",
       "      <td>2</td>\n",
       "      <td>1</td>\n",
       "      <td>1</td>\n",
       "      <td>0</td>\n",
       "    </tr>\n",
       "    <tr>\n",
       "      <th>running is good for your health</th>\n",
       "      <td>0</td>\n",
       "      <td>0</td>\n",
       "      <td>1</td>\n",
       "      <td>1</td>\n",
       "      <td>1</td>\n",
       "      <td>1</td>\n",
       "      <td>1</td>\n",
       "      <td>0</td>\n",
       "      <td>0</td>\n",
       "      <td>0</td>\n",
       "      <td>1</td>\n",
       "    </tr>\n",
       "    <tr>\n",
       "      <th>your cat is young</th>\n",
       "      <td>1</td>\n",
       "      <td>0</td>\n",
       "      <td>0</td>\n",
       "      <td>0</td>\n",
       "      <td>0</td>\n",
       "      <td>1</td>\n",
       "      <td>0</td>\n",
       "      <td>0</td>\n",
       "      <td>0</td>\n",
       "      <td>1</td>\n",
       "      <td>1</td>\n",
       "    </tr>\n",
       "    <tr>\n",
       "      <th>young young young young young cat cat cat</th>\n",
       "      <td>3</td>\n",
       "      <td>0</td>\n",
       "      <td>0</td>\n",
       "      <td>0</td>\n",
       "      <td>0</td>\n",
       "      <td>0</td>\n",
       "      <td>0</td>\n",
       "      <td>0</td>\n",
       "      <td>0</td>\n",
       "      <td>5</td>\n",
       "      <td>0</td>\n",
       "    </tr>\n",
       "  </tbody>\n",
       "</table>\n",
       "</div>"
      ],
      "text/plain": [
       "                                           cat  dog  for  good  health  is  \\\n",
       "the young dog is running with the cat        1    1    0     0       0   1   \n",
       "running is good for your health              0    0    1     1       1   1   \n",
       "your cat is young                            1    0    0     0       0   1   \n",
       "young young young young young cat cat cat    3    0    0     0       0   0   \n",
       "\n",
       "                                           running  the  with  young  your  \n",
       "the young dog is running with the cat            1    2     1      1     0  \n",
       "running is good for your health                  1    0     0      0     1  \n",
       "your cat is young                                0    0     0      1     1  \n",
       "young young young young young cat cat cat        0    0     0      5     0  "
      ]
     },
     "execution_count": 129,
     "metadata": {},
     "output_type": "execute_result"
    }
   ],
   "source": [
    "# here we turn out results into a dataframe\n",
    "import pandas as pd\n",
    "\n",
    "vectorized_texts = pd.DataFrame(\n",
    "    X.toarray(), \n",
    "    columns = count_vectorizer.get_feature_names_out(),\n",
    "    index = texts\n",
    ")\n",
    "\n",
    "vectorized_texts"
   ]
  },
  {
   "cell_type": "markdown",
   "id": "66c9a57d-7018-4e47-be17-312ac1a5d067",
   "metadata": {},
   "source": [
    "# Be aware that there are some limitations when it comes to the bag-of-words representation read"
   ]
  },
  {
   "cell_type": "markdown",
   "id": "1b15eaac-2e70-4f9c-9b9e-130a48c83aa7",
   "metadata": {},
   "source": [
    "Absolutely correct! While Bag-of-Words (BoW) representation is effective in capturing the frequency of individual words in a document, it lacks the ability to capture the context or the sequential relationship between words. This limitation can be addressed by using N-grams.\n",
    "\n",
    "this is when we call n-grams to the rescue!\n",
    "\n",
    "N-grams are contiguous sequences of n items (words in the context of NLP), where n refers to the number of words in the sequence. By considering sequences of words instead of individual words, N-grams capture more contextual information from the text data."
   ]
  },
  {
   "cell_type": "markdown",
   "id": "2103db14-8bb5-449c-8380-63f59c888566",
   "metadata": {},
   "source": [
    "# 2.2. Tf-idf Representation - read"
   ]
  },
  {
   "cell_type": "markdown",
   "id": "c8b68f48-bada-4991-abb3-10d42f67f14e",
   "metadata": {},
   "source": [
    "# Term Frequency (tf) & CountVectorizer - read"
   ]
  },
  {
   "cell_type": "code",
   "execution_count": 130,
   "id": "b0afea37-be18-4c93-bef7-419425fcd484",
   "metadata": {},
   "outputs": [
    {
     "data": {
      "text/html": [
       "<div>\n",
       "<style scoped>\n",
       "    .dataframe tbody tr th:only-of-type {\n",
       "        vertical-align: middle;\n",
       "    }\n",
       "\n",
       "    .dataframe tbody tr th {\n",
       "        vertical-align: top;\n",
       "    }\n",
       "\n",
       "    .dataframe thead th {\n",
       "        text-align: right;\n",
       "    }\n",
       "</style>\n",
       "<table border=\"1\" class=\"dataframe\">\n",
       "  <thead>\n",
       "    <tr style=\"text-align: right;\">\n",
       "      <th></th>\n",
       "      <th>cat</th>\n",
       "      <th>dog</th>\n",
       "      <th>for</th>\n",
       "      <th>good</th>\n",
       "      <th>health</th>\n",
       "      <th>is</th>\n",
       "      <th>running</th>\n",
       "      <th>the</th>\n",
       "      <th>with</th>\n",
       "      <th>young</th>\n",
       "      <th>your</th>\n",
       "    </tr>\n",
       "  </thead>\n",
       "  <tbody>\n",
       "    <tr>\n",
       "      <th>the young dog is running with the cat</th>\n",
       "      <td>1</td>\n",
       "      <td>1</td>\n",
       "      <td>0</td>\n",
       "      <td>0</td>\n",
       "      <td>0</td>\n",
       "      <td>1</td>\n",
       "      <td>1</td>\n",
       "      <td>2</td>\n",
       "      <td>1</td>\n",
       "      <td>1</td>\n",
       "      <td>0</td>\n",
       "    </tr>\n",
       "    <tr>\n",
       "      <th>running is good for your health</th>\n",
       "      <td>0</td>\n",
       "      <td>0</td>\n",
       "      <td>1</td>\n",
       "      <td>1</td>\n",
       "      <td>1</td>\n",
       "      <td>1</td>\n",
       "      <td>1</td>\n",
       "      <td>0</td>\n",
       "      <td>0</td>\n",
       "      <td>0</td>\n",
       "      <td>1</td>\n",
       "    </tr>\n",
       "    <tr>\n",
       "      <th>your cat is young</th>\n",
       "      <td>1</td>\n",
       "      <td>0</td>\n",
       "      <td>0</td>\n",
       "      <td>0</td>\n",
       "      <td>0</td>\n",
       "      <td>1</td>\n",
       "      <td>0</td>\n",
       "      <td>0</td>\n",
       "      <td>0</td>\n",
       "      <td>1</td>\n",
       "      <td>1</td>\n",
       "    </tr>\n",
       "    <tr>\n",
       "      <th>young young young young young cat cat cat</th>\n",
       "      <td>3</td>\n",
       "      <td>0</td>\n",
       "      <td>0</td>\n",
       "      <td>0</td>\n",
       "      <td>0</td>\n",
       "      <td>0</td>\n",
       "      <td>0</td>\n",
       "      <td>0</td>\n",
       "      <td>0</td>\n",
       "      <td>5</td>\n",
       "      <td>0</td>\n",
       "    </tr>\n",
       "  </tbody>\n",
       "</table>\n",
       "</div>"
      ],
      "text/plain": [
       "                                           cat  dog  for  good  health  is  \\\n",
       "the young dog is running with the cat        1    1    0     0       0   1   \n",
       "running is good for your health              0    0    1     1       1   1   \n",
       "your cat is young                            1    0    0     0       0   1   \n",
       "young young young young young cat cat cat    3    0    0     0       0   0   \n",
       "\n",
       "                                           running  the  with  young  your  \n",
       "the young dog is running with the cat            1    2     1      1     0  \n",
       "running is good for your health                  1    0     0      0     1  \n",
       "your cat is young                                0    0     0      1     1  \n",
       "young young young young young cat cat cat        0    0     0      5     0  "
      ]
     },
     "execution_count": 130,
     "metadata": {},
     "output_type": "execute_result"
    }
   ],
   "source": [
    "vectorized_texts"
   ]
  },
  {
   "cell_type": "markdown",
   "id": "6aadc03b-cc60-4a22-876b-f5cade5875aa",
   "metadata": {},
   "source": [
    "here calculating the term frequency (TF) for the word \"young\" in a document. Term frequency is a measure of how often a term (word) appears in a document relative to the total number of words in that document.\n",
    "\n",
    "In your example:\n",
    "\n",
    "The word \"young\" appears 5 times in the document.\n",
    "\n",
    "The total number of words in the document is 8.\n",
    "\n",
    "To calculate the term frequency (TF) for \"young\", you divide the number of occurrences of \"young\" by the total number of words in the document:\n",
    "\n",
    "TF(\"young\") = (Number of occurrences of \"young\") / (Total number of words in the document)\n",
    "= 5 / 8\n",
    "= 0.625\n",
    "\n",
    "So, the term frequency (TF) for the word \"young\" in the document is 0.625. This means that \"young\" accounts for 62.5% of the total words in the document. TF is often used as a feature in text analysis tasks such as information retrieval, document classification, and sentiment analysis."
   ]
  },
  {
   "cell_type": "markdown",
   "id": "0c51793e-dbb2-4224-997e-ae72fff33a51",
   "metadata": {},
   "source": [
    "# Document Frequency (df) - read"
   ]
  },
  {
   "cell_type": "markdown",
   "id": "46a8c8ae-94ba-4205-8b1c-2edf3926e757",
   "metadata": {
    "tags": []
   },
   "source": [
    "❓ In our last example, could we compute \n",
    "d\n",
    "f\n",
    "c\n",
    "a\n",
    "t\n",
    ", \n",
    "d\n",
    "f\n",
    "y\n",
    "o\n",
    "u\n",
    "n\n",
    "g\n",
    " and \n",
    "d\n",
    "f\n",
    "t\n",
    "h\n",
    "e\n",
    " ❓"
   ]
  },
  {
   "cell_type": "code",
   "execution_count": 133,
   "id": "5155169b-1893-4227-a968-3e9c7690c389",
   "metadata": {},
   "outputs": [
    {
     "data": {
      "text/html": [
       "<div>\n",
       "<style scoped>\n",
       "    .dataframe tbody tr th:only-of-type {\n",
       "        vertical-align: middle;\n",
       "    }\n",
       "\n",
       "    .dataframe tbody tr th {\n",
       "        vertical-align: top;\n",
       "    }\n",
       "\n",
       "    .dataframe thead th {\n",
       "        text-align: right;\n",
       "    }\n",
       "</style>\n",
       "<table border=\"1\" class=\"dataframe\">\n",
       "  <thead>\n",
       "    <tr style=\"text-align: right;\">\n",
       "      <th></th>\n",
       "      <th>cat</th>\n",
       "      <th>dog</th>\n",
       "      <th>for</th>\n",
       "      <th>good</th>\n",
       "      <th>health</th>\n",
       "      <th>is</th>\n",
       "      <th>running</th>\n",
       "      <th>the</th>\n",
       "      <th>with</th>\n",
       "      <th>young</th>\n",
       "      <th>your</th>\n",
       "    </tr>\n",
       "  </thead>\n",
       "  <tbody>\n",
       "    <tr>\n",
       "      <th>the young dog is running with the cat</th>\n",
       "      <td>1</td>\n",
       "      <td>1</td>\n",
       "      <td>0</td>\n",
       "      <td>0</td>\n",
       "      <td>0</td>\n",
       "      <td>1</td>\n",
       "      <td>1</td>\n",
       "      <td>2</td>\n",
       "      <td>1</td>\n",
       "      <td>1</td>\n",
       "      <td>0</td>\n",
       "    </tr>\n",
       "    <tr>\n",
       "      <th>running is good for your health</th>\n",
       "      <td>0</td>\n",
       "      <td>0</td>\n",
       "      <td>1</td>\n",
       "      <td>1</td>\n",
       "      <td>1</td>\n",
       "      <td>1</td>\n",
       "      <td>1</td>\n",
       "      <td>0</td>\n",
       "      <td>0</td>\n",
       "      <td>0</td>\n",
       "      <td>1</td>\n",
       "    </tr>\n",
       "    <tr>\n",
       "      <th>your cat is young</th>\n",
       "      <td>1</td>\n",
       "      <td>0</td>\n",
       "      <td>0</td>\n",
       "      <td>0</td>\n",
       "      <td>0</td>\n",
       "      <td>1</td>\n",
       "      <td>0</td>\n",
       "      <td>0</td>\n",
       "      <td>0</td>\n",
       "      <td>1</td>\n",
       "      <td>1</td>\n",
       "    </tr>\n",
       "    <tr>\n",
       "      <th>young young young young young cat cat cat</th>\n",
       "      <td>3</td>\n",
       "      <td>0</td>\n",
       "      <td>0</td>\n",
       "      <td>0</td>\n",
       "      <td>0</td>\n",
       "      <td>0</td>\n",
       "      <td>0</td>\n",
       "      <td>0</td>\n",
       "      <td>0</td>\n",
       "      <td>5</td>\n",
       "      <td>0</td>\n",
       "    </tr>\n",
       "  </tbody>\n",
       "</table>\n",
       "</div>"
      ],
      "text/plain": [
       "                                           cat  dog  for  good  health  is  \\\n",
       "the young dog is running with the cat        1    1    0     0       0   1   \n",
       "running is good for your health              0    0    1     1       1   1   \n",
       "your cat is young                            1    0    0     0       0   1   \n",
       "young young young young young cat cat cat    3    0    0     0       0   0   \n",
       "\n",
       "                                           running  the  with  young  your  \n",
       "the young dog is running with the cat            1    2     1      1     0  \n",
       "running is good for your health                  1    0     0      0     1  \n",
       "your cat is young                                0    0     0      1     1  \n",
       "young young young young young cat cat cat        0    0     0      5     0  "
      ]
     },
     "execution_count": 133,
     "metadata": {},
     "output_type": "execute_result"
    }
   ],
   "source": [
    "vectorized_texts"
   ]
  },
  {
   "cell_type": "markdown",
   "id": "64ecae8f-ac15-4bca-a946-977930ed460e",
   "metadata": {},
   "source": [
    "# What if we considered the relative document frequency of a word x can be computed as dfx/N?"
   ]
  },
  {
   "cell_type": "markdown",
   "id": "0c153054-9d4d-43e9-8804-8ac429b52ea9",
   "metadata": {},
   "source": [
    "If we consider the relative document frequency (DF) of a word, denoted as DF(x), it represents the proportion of documents in a corpus that contain the word x. The formula for computing the relative document frequency of a word x is:\n",
    "\n",
    "DF(x) = Number of documents containing word x / Total number of documents in the corpus\n",
    "\n",
    "Here:\n",
    "- Number of documents containing word x is the count of documents in which the word x appears at least once.\n",
    "- Total number of documents in the corpus is the total count of all documents.\n",
    "\n",
    "Relative document frequency provides insight into how widespread or common a word is across the entire corpus. Words with high DF values are likely to be common terms, while words with low DF values are likely to be rare or specialized terms.\n",
    "\n",
    "It's worth noting that relative document frequency is often used in conjunction with term frequency-inverse document frequency (TF-IDF) weighting to assign weights to terms in a document. TF-IDF considers both the term frequency (TF) within a document and the inverse document frequency (IDF) across the corpus to determine the importance of a term in a document relative to the entire corpus."
   ]
  },
  {
   "cell_type": "markdown",
   "id": "a9fd2457-60ef-4da4-847d-232913f93e5d",
   "metadata": {},
   "source": [
    "# 👩🏻‍🏫 A word x"
   ]
  },
  {
   "cell_type": "markdown",
   "id": "5790e039-0967-4c52-b7b0-8527e5fcb377",
   "metadata": {},
   "source": [
    "The inverse document frequency (IDF) is a measure used in information retrieval and text mining to determine the importance of a term within a corpus of documents. It is often used in conjunction with term frequency (TF) to calculate TF-IDF scores, which weigh the importance of terms in a document relative to the entire corpus.\n",
    "\n",
    "The IDF of a term x is calculated as follows:\n",
    "\n",
    "IDF(x) = log(N / DF(x))\n",
    "\n",
    "Where:\n",
    "\n",
    "N is the total number of documents in the corpus.\n",
    "DF(x) is the document frequency of the term x, i.e., the number of documents in the corpus that contain the term x.\n",
    "When the relative document frequency (DF) of a word x is low, it means that the word appears in a small proportion of documents in the corpus. On the other hand, this leads to a high IDF value for the term x. So when a word has a high relative document frequency (DF), it appears in many documents across the corpus, resulting in a low IDF value.\n",
    "\n",
    "Basically, in the context of TF-IDF weighting:\n",
    "\n",
    "Words with low relative document frequency (low DF) and high IDF are considered important because they are rare across the corpus but are present in a few documents where they occur, implying potential importance or specificity.\n",
    "And, words with high relative document frequency (high DF) and low IDF are common terms that occur frequently across many documents, making them less informative or distinguishing in characterizing individual documents."
   ]
  },
  {
   "cell_type": "markdown",
   "id": "892778b7-41ea-465c-a7c8-cd1d4b6d1d6e",
   "metadata": {},
   "source": [
    "# next slide -read"
   ]
  },
  {
   "cell_type": "markdown",
   "id": "70f40daf-9106-4d95-8d3b-9e4789eda076",
   "metadata": {},
   "source": [
    "# Tf-idf Formula - read"
   ]
  },
  {
   "cell_type": "markdown",
   "id": "80202c86-4046-4fe1-bb8c-9c23e3ee34ad",
   "metadata": {},
   "source": [
    "# 👩🏻‍🏫 Weight of a word x in a document d - read"
   ]
  },
  {
   "cell_type": "markdown",
   "id": "b848b1b1-2cfa-4c9c-b282-be5e7ee4caa4",
   "metadata": {},
   "source": [
    "# Summarizing"
   ]
  },
  {
   "cell_type": "markdown",
   "id": "4d453a95-7c6b-429b-8d3f-3468b3806652",
   "metadata": {},
   "source": [
    "TF-IDF (Term Frequency-Inverse Document Frequency) is a numerical statistic that reflects the importance of a term (word) within a document relative to a collection of documents (corpus). It is calculated by multiplying the term frequency (TF), which measures how often a term appears in a document, by the inverse document frequency (IDF), which measures how unique or important a term is across the entire corpus. TF-IDF assigns higher weights to terms that are frequent within a document but rare across the corpus,by highlighting terms that are both relevant and discriminative for characterizing the content of individual documents. By considering both local (within-document) and global (corpus-wide) term characteristics, TF-IDF is widely used in information retrieval, text mining, and natural language processing tasks to improve the accuracy and effectiveness of document analysis, search, and classification."
   ]
  },
  {
   "cell_type": "markdown",
   "id": "1076cf69-687d-4767-b6a4-20be644e521b",
   "metadata": {},
   "source": [
    "# 2.3. 💻 TfidfVectorizer"
   ]
  },
  {
   "cell_type": "markdown",
   "id": "861d8f9a-10a8-4116-a5de-72ba36c17874",
   "metadata": {},
   "source": [
    "The TfidfVectorizer is a feature extraction method provided by the scikit-learn library in Python, which converts a collection of raw documents into a matrix of TF-IDF (Term Frequency-Inverse Document Frequency) features. This method combines the functionality of both CountVectorizer and TfidfTransformer into a single step, making it convenient for transforming text data into a numerical representation suitable for machine learning algorithms."
   ]
  },
  {
   "cell_type": "code",
   "execution_count": 134,
   "id": "478a0d63-c484-4410-ae47-666ac0c757a3",
   "metadata": {},
   "outputs": [
    {
     "data": {
      "text/plain": [
       "['the young dog is running with the cat',\n",
       " 'running is good for your health',\n",
       " 'your cat is young',\n",
       " 'young young young young young cat cat cat']"
      ]
     },
     "execution_count": 134,
     "metadata": {},
     "output_type": "execute_result"
    }
   ],
   "source": [
    "texts"
   ]
  },
  {
   "cell_type": "code",
   "execution_count": 135,
   "id": "8f88af0c-1e11-445e-85a5-4c4b844d457f",
   "metadata": {},
   "outputs": [],
   "source": [
    "from sklearn.feature_extraction.text import TfidfVectorizer"
   ]
  },
  {
   "cell_type": "code",
   "execution_count": 136,
   "id": "e50fb389-aeee-44c6-b2ea-50dc0eb65766",
   "metadata": {},
   "outputs": [
    {
     "data": {
      "text/html": [
       "<div>\n",
       "<style scoped>\n",
       "    .dataframe tbody tr th:only-of-type {\n",
       "        vertical-align: middle;\n",
       "    }\n",
       "\n",
       "    .dataframe tbody tr th {\n",
       "        vertical-align: top;\n",
       "    }\n",
       "\n",
       "    .dataframe thead th {\n",
       "        text-align: right;\n",
       "    }\n",
       "</style>\n",
       "<table border=\"1\" class=\"dataframe\">\n",
       "  <thead>\n",
       "    <tr style=\"text-align: right;\">\n",
       "      <th></th>\n",
       "      <th>cat</th>\n",
       "      <th>dog</th>\n",
       "      <th>for</th>\n",
       "      <th>good</th>\n",
       "      <th>health</th>\n",
       "      <th>is</th>\n",
       "      <th>running</th>\n",
       "      <th>the</th>\n",
       "      <th>with</th>\n",
       "      <th>young</th>\n",
       "      <th>your</th>\n",
       "    </tr>\n",
       "  </thead>\n",
       "  <tbody>\n",
       "    <tr>\n",
       "      <th>0</th>\n",
       "      <td>0.227904</td>\n",
       "      <td>0.357056</td>\n",
       "      <td>0.000000</td>\n",
       "      <td>0.000000</td>\n",
       "      <td>0.000000</td>\n",
       "      <td>0.227904</td>\n",
       "      <td>0.281507</td>\n",
       "      <td>0.714112</td>\n",
       "      <td>0.357056</td>\n",
       "      <td>0.227904</td>\n",
       "      <td>0.000000</td>\n",
       "    </tr>\n",
       "    <tr>\n",
       "      <th>1</th>\n",
       "      <td>0.000000</td>\n",
       "      <td>0.000000</td>\n",
       "      <td>0.463709</td>\n",
       "      <td>0.463709</td>\n",
       "      <td>0.463709</td>\n",
       "      <td>0.295980</td>\n",
       "      <td>0.365594</td>\n",
       "      <td>0.000000</td>\n",
       "      <td>0.000000</td>\n",
       "      <td>0.000000</td>\n",
       "      <td>0.365594</td>\n",
       "    </tr>\n",
       "    <tr>\n",
       "      <th>2</th>\n",
       "      <td>0.470063</td>\n",
       "      <td>0.000000</td>\n",
       "      <td>0.000000</td>\n",
       "      <td>0.000000</td>\n",
       "      <td>0.000000</td>\n",
       "      <td>0.470063</td>\n",
       "      <td>0.000000</td>\n",
       "      <td>0.000000</td>\n",
       "      <td>0.000000</td>\n",
       "      <td>0.470063</td>\n",
       "      <td>0.580622</td>\n",
       "    </tr>\n",
       "    <tr>\n",
       "      <th>3</th>\n",
       "      <td>0.514496</td>\n",
       "      <td>0.000000</td>\n",
       "      <td>0.000000</td>\n",
       "      <td>0.000000</td>\n",
       "      <td>0.000000</td>\n",
       "      <td>0.000000</td>\n",
       "      <td>0.000000</td>\n",
       "      <td>0.000000</td>\n",
       "      <td>0.000000</td>\n",
       "      <td>0.857493</td>\n",
       "      <td>0.000000</td>\n",
       "    </tr>\n",
       "  </tbody>\n",
       "</table>\n",
       "</div>"
      ],
      "text/plain": [
       "        cat       dog       for      good    health        is   running  \\\n",
       "0  0.227904  0.357056  0.000000  0.000000  0.000000  0.227904  0.281507   \n",
       "1  0.000000  0.000000  0.463709  0.463709  0.463709  0.295980  0.365594   \n",
       "2  0.470063  0.000000  0.000000  0.000000  0.000000  0.470063  0.000000   \n",
       "3  0.514496  0.000000  0.000000  0.000000  0.000000  0.000000  0.000000   \n",
       "\n",
       "        the      with     young      your  \n",
       "0  0.714112  0.357056  0.227904  0.000000  \n",
       "1  0.000000  0.000000  0.000000  0.365594  \n",
       "2  0.000000  0.000000  0.470063  0.580622  \n",
       "3  0.000000  0.000000  0.857493  0.000000  "
      ]
     },
     "execution_count": 136,
     "metadata": {},
     "output_type": "execute_result"
    }
   ],
   "source": [
    "# Instantiating the TfidfVectorizer\n",
    "tf_idf_vectorizer = TfidfVectorizer()\n",
    "\n",
    "# Training it on the texts\n",
    "weighted_words = pd.DataFrame(tf_idf_vectorizer.fit_transform(texts).toarray(),\n",
    "                 columns = tf_idf_vectorizer.get_feature_names_out())\n",
    "\n",
    "weighted_words"
   ]
  },
  {
   "cell_type": "markdown",
   "id": "ec104384-c731-485e-9464-075409c4b409",
   "metadata": {},
   "source": [
    "the code here guys demonstrates how to use the TfidfVectorizer from the scikit-learn library to transform a collection of raw text documents into a matrix of TF-IDF (Term Frequency-Inverse Document Frequency) features and then convert it into a DataFrame for further analysis."
   ]
  },
  {
   "cell_type": "markdown",
   "id": "10f573a5-1870-417a-9cf0-9a70b5fd2c1c",
   "metadata": {},
   "source": [
    "`weighted_words = pd.DataFrame(tf_idf_vectorizer.fit_transform(texts).toarray(),`<br>\n",
    "`columns = tf_idf_vectorizer.get_feature_names_out())`\n",
    "\n",
    "We call the fit_transform() method of the TfidfVectorizer object on the texts input. This method tokenizes the input texts, calculates the TF-IDF scores for each word in each document, and returns a sparse matrix representation of the TF-IDF features.\n",
    "We convert the sparse matrix to a dense array format using .toarray().\n",
    "Then, we create a DataFrame named weighted_words from the dense array. Each column in the DataFrame corresponds to a unique word (feature) extracted from the texts, and each row represents a document. The cell values are the corresponding TF-IDF scores for each word in each document."
   ]
  },
  {
   "cell_type": "markdown",
   "id": "4e04def8-6120-45c8-8ef7-35b102c7c228",
   "metadata": {},
   "source": [
    "# Controlling the vocabulary size:"
   ]
  },
  {
   "cell_type": "markdown",
   "id": "ec088568-7a11-4bc7-984f-b320da577469",
   "metadata": {},
   "source": [
    "The Curse of Dimensionality refers to various challenges and phenomena that arise when working with high-dimensional data in machine learning and data analysis. As the number of dimensions (features) in the dataset increases, the volume of the data space grows exponentially, leading to several consequences and difficulties"
   ]
  },
  {
   "cell_type": "markdown",
   "id": "ae2eff75-f980-4fa5-9162-a514d075b970",
   "metadata": {},
   "source": [
    "# 💻 Key parameters of TfidfVectorizer (and CountVectorizer)"
   ]
  },
  {
   "cell_type": "markdown",
   "id": "f385da31-6b5f-403b-bfca-a41cb3e88feb",
   "metadata": {},
   "source": [
    "# 💻 max_df (resp. min_df)"
   ]
  },
  {
   "cell_type": "markdown",
   "id": "621bdf9a-4b66-41bb-9bb2-3955471d700a",
   "metadata": {},
   "source": [
    "# How to use these parameters in practice?"
   ]
  },
  {
   "cell_type": "markdown",
   "id": "bfa30ab6-6813-4d27-98e7-c509e972390a",
   "metadata": {},
   "source": [
    "- max_df (Maximum Document Frequency):This parameter specifies the threshold for the maximum document frequency of terms. Terms that appear in a higher percentage of documents than the specified threshold will be ignored. If max_df is a float between 0.0 and 1.0, it represents the proportion of documents in which a term must not exceed in order to be considered. For example, max_df = 0.5 means to ignore terms that appear in more than 50% of the documents. if max_df is an integer, it represents the absolute count of documents. For example, max_df = 20 means to ignore terms that appear in more than 20 documents.\n",
    "\n",
    "- min_df (Minimum Document Frequency): This parameter specifies the threshold for the minimum document frequency of terms. Terms that appear in fewer documents than the specified threshold will be ignored. If min_df is a float between 0.0 and 1.0, it represents the proportion of documents in which a term must appear in order to be considered. For example, min_df = 0.1 means to ignore terms that appear in less than 10% of the documents. If min_df is an integer, it represents the absolute count of documents. For example, min_df = 5 means to ignore terms that appear in fewer than 5 documents.\n",
    "\n",
    "- Defaults:\n",
    "    - By default, max_df = 1.0, meaning no \"frequent\" word will be removed.\n",
    "    - By default, min_df = 0, meaning no \"infrequent\" word will be removed."
   ]
  },
  {
   "cell_type": "code",
   "execution_count": 137,
   "id": "56d363af-f38a-41c7-8158-fa719fc45bb5",
   "metadata": {},
   "outputs": [],
   "source": [
    "from sklearn.feature_extraction.text import TfidfVectorizer\n",
    "\n",
    "# Example usage with specified max_df and min_df\n",
    "tfidf_vectorizer = TfidfVectorizer(max_df=0.5, min_df=2)"
   ]
  },
  {
   "cell_type": "code",
   "execution_count": 138,
   "id": "ee7d8508-02d5-4799-a0c7-e186ee41d818",
   "metadata": {},
   "outputs": [
    {
     "data": {
      "text/html": [
       "<style>#sk-container-id-1 {\n",
       "  /* Definition of color scheme common for light and dark mode */\n",
       "  --sklearn-color-text: black;\n",
       "  --sklearn-color-line: gray;\n",
       "  /* Definition of color scheme for unfitted estimators */\n",
       "  --sklearn-color-unfitted-level-0: #fff5e6;\n",
       "  --sklearn-color-unfitted-level-1: #f6e4d2;\n",
       "  --sklearn-color-unfitted-level-2: #ffe0b3;\n",
       "  --sklearn-color-unfitted-level-3: chocolate;\n",
       "  /* Definition of color scheme for fitted estimators */\n",
       "  --sklearn-color-fitted-level-0: #f0f8ff;\n",
       "  --sklearn-color-fitted-level-1: #d4ebff;\n",
       "  --sklearn-color-fitted-level-2: #b3dbfd;\n",
       "  --sklearn-color-fitted-level-3: cornflowerblue;\n",
       "\n",
       "  /* Specific color for light theme */\n",
       "  --sklearn-color-text-on-default-background: var(--sg-text-color, var(--theme-code-foreground, var(--jp-content-font-color1, black)));\n",
       "  --sklearn-color-background: var(--sg-background-color, var(--theme-background, var(--jp-layout-color0, white)));\n",
       "  --sklearn-color-border-box: var(--sg-text-color, var(--theme-code-foreground, var(--jp-content-font-color1, black)));\n",
       "  --sklearn-color-icon: #696969;\n",
       "\n",
       "  @media (prefers-color-scheme: dark) {\n",
       "    /* Redefinition of color scheme for dark theme */\n",
       "    --sklearn-color-text-on-default-background: var(--sg-text-color, var(--theme-code-foreground, var(--jp-content-font-color1, white)));\n",
       "    --sklearn-color-background: var(--sg-background-color, var(--theme-background, var(--jp-layout-color0, #111)));\n",
       "    --sklearn-color-border-box: var(--sg-text-color, var(--theme-code-foreground, var(--jp-content-font-color1, white)));\n",
       "    --sklearn-color-icon: #878787;\n",
       "  }\n",
       "}\n",
       "\n",
       "#sk-container-id-1 {\n",
       "  color: var(--sklearn-color-text);\n",
       "}\n",
       "\n",
       "#sk-container-id-1 pre {\n",
       "  padding: 0;\n",
       "}\n",
       "\n",
       "#sk-container-id-1 input.sk-hidden--visually {\n",
       "  border: 0;\n",
       "  clip: rect(1px 1px 1px 1px);\n",
       "  clip: rect(1px, 1px, 1px, 1px);\n",
       "  height: 1px;\n",
       "  margin: -1px;\n",
       "  overflow: hidden;\n",
       "  padding: 0;\n",
       "  position: absolute;\n",
       "  width: 1px;\n",
       "}\n",
       "\n",
       "#sk-container-id-1 div.sk-dashed-wrapped {\n",
       "  border: 1px dashed var(--sklearn-color-line);\n",
       "  margin: 0 0.4em 0.5em 0.4em;\n",
       "  box-sizing: border-box;\n",
       "  padding-bottom: 0.4em;\n",
       "  background-color: var(--sklearn-color-background);\n",
       "}\n",
       "\n",
       "#sk-container-id-1 div.sk-container {\n",
       "  /* jupyter's `normalize.less` sets `[hidden] { display: none; }`\n",
       "     but bootstrap.min.css set `[hidden] { display: none !important; }`\n",
       "     so we also need the `!important` here to be able to override the\n",
       "     default hidden behavior on the sphinx rendered scikit-learn.org.\n",
       "     See: https://github.com/scikit-learn/scikit-learn/issues/21755 */\n",
       "  display: inline-block !important;\n",
       "  position: relative;\n",
       "}\n",
       "\n",
       "#sk-container-id-1 div.sk-text-repr-fallback {\n",
       "  display: none;\n",
       "}\n",
       "\n",
       "div.sk-parallel-item,\n",
       "div.sk-serial,\n",
       "div.sk-item {\n",
       "  /* draw centered vertical line to link estimators */\n",
       "  background-image: linear-gradient(var(--sklearn-color-text-on-default-background), var(--sklearn-color-text-on-default-background));\n",
       "  background-size: 2px 100%;\n",
       "  background-repeat: no-repeat;\n",
       "  background-position: center center;\n",
       "}\n",
       "\n",
       "/* Parallel-specific style estimator block */\n",
       "\n",
       "#sk-container-id-1 div.sk-parallel-item::after {\n",
       "  content: \"\";\n",
       "  width: 100%;\n",
       "  border-bottom: 2px solid var(--sklearn-color-text-on-default-background);\n",
       "  flex-grow: 1;\n",
       "}\n",
       "\n",
       "#sk-container-id-1 div.sk-parallel {\n",
       "  display: flex;\n",
       "  align-items: stretch;\n",
       "  justify-content: center;\n",
       "  background-color: var(--sklearn-color-background);\n",
       "  position: relative;\n",
       "}\n",
       "\n",
       "#sk-container-id-1 div.sk-parallel-item {\n",
       "  display: flex;\n",
       "  flex-direction: column;\n",
       "}\n",
       "\n",
       "#sk-container-id-1 div.sk-parallel-item:first-child::after {\n",
       "  align-self: flex-end;\n",
       "  width: 50%;\n",
       "}\n",
       "\n",
       "#sk-container-id-1 div.sk-parallel-item:last-child::after {\n",
       "  align-self: flex-start;\n",
       "  width: 50%;\n",
       "}\n",
       "\n",
       "#sk-container-id-1 div.sk-parallel-item:only-child::after {\n",
       "  width: 0;\n",
       "}\n",
       "\n",
       "/* Serial-specific style estimator block */\n",
       "\n",
       "#sk-container-id-1 div.sk-serial {\n",
       "  display: flex;\n",
       "  flex-direction: column;\n",
       "  align-items: center;\n",
       "  background-color: var(--sklearn-color-background);\n",
       "  padding-right: 1em;\n",
       "  padding-left: 1em;\n",
       "}\n",
       "\n",
       "\n",
       "/* Toggleable style: style used for estimator/Pipeline/ColumnTransformer box that is\n",
       "clickable and can be expanded/collapsed.\n",
       "- Pipeline and ColumnTransformer use this feature and define the default style\n",
       "- Estimators will overwrite some part of the style using the `sk-estimator` class\n",
       "*/\n",
       "\n",
       "/* Pipeline and ColumnTransformer style (default) */\n",
       "\n",
       "#sk-container-id-1 div.sk-toggleable {\n",
       "  /* Default theme specific background. It is overwritten whether we have a\n",
       "  specific estimator or a Pipeline/ColumnTransformer */\n",
       "  background-color: var(--sklearn-color-background);\n",
       "}\n",
       "\n",
       "/* Toggleable label */\n",
       "#sk-container-id-1 label.sk-toggleable__label {\n",
       "  cursor: pointer;\n",
       "  display: block;\n",
       "  width: 100%;\n",
       "  margin-bottom: 0;\n",
       "  padding: 0.5em;\n",
       "  box-sizing: border-box;\n",
       "  text-align: center;\n",
       "}\n",
       "\n",
       "#sk-container-id-1 label.sk-toggleable__label-arrow:before {\n",
       "  /* Arrow on the left of the label */\n",
       "  content: \"▸\";\n",
       "  float: left;\n",
       "  margin-right: 0.25em;\n",
       "  color: var(--sklearn-color-icon);\n",
       "}\n",
       "\n",
       "#sk-container-id-1 label.sk-toggleable__label-arrow:hover:before {\n",
       "  color: var(--sklearn-color-text);\n",
       "}\n",
       "\n",
       "/* Toggleable content - dropdown */\n",
       "\n",
       "#sk-container-id-1 div.sk-toggleable__content {\n",
       "  max-height: 0;\n",
       "  max-width: 0;\n",
       "  overflow: hidden;\n",
       "  text-align: left;\n",
       "  /* unfitted */\n",
       "  background-color: var(--sklearn-color-unfitted-level-0);\n",
       "}\n",
       "\n",
       "#sk-container-id-1 div.sk-toggleable__content.fitted {\n",
       "  /* fitted */\n",
       "  background-color: var(--sklearn-color-fitted-level-0);\n",
       "}\n",
       "\n",
       "#sk-container-id-1 div.sk-toggleable__content pre {\n",
       "  margin: 0.2em;\n",
       "  border-radius: 0.25em;\n",
       "  color: var(--sklearn-color-text);\n",
       "  /* unfitted */\n",
       "  background-color: var(--sklearn-color-unfitted-level-0);\n",
       "}\n",
       "\n",
       "#sk-container-id-1 div.sk-toggleable__content.fitted pre {\n",
       "  /* unfitted */\n",
       "  background-color: var(--sklearn-color-fitted-level-0);\n",
       "}\n",
       "\n",
       "#sk-container-id-1 input.sk-toggleable__control:checked~div.sk-toggleable__content {\n",
       "  /* Expand drop-down */\n",
       "  max-height: 200px;\n",
       "  max-width: 100%;\n",
       "  overflow: auto;\n",
       "}\n",
       "\n",
       "#sk-container-id-1 input.sk-toggleable__control:checked~label.sk-toggleable__label-arrow:before {\n",
       "  content: \"▾\";\n",
       "}\n",
       "\n",
       "/* Pipeline/ColumnTransformer-specific style */\n",
       "\n",
       "#sk-container-id-1 div.sk-label input.sk-toggleable__control:checked~label.sk-toggleable__label {\n",
       "  color: var(--sklearn-color-text);\n",
       "  background-color: var(--sklearn-color-unfitted-level-2);\n",
       "}\n",
       "\n",
       "#sk-container-id-1 div.sk-label.fitted input.sk-toggleable__control:checked~label.sk-toggleable__label {\n",
       "  background-color: var(--sklearn-color-fitted-level-2);\n",
       "}\n",
       "\n",
       "/* Estimator-specific style */\n",
       "\n",
       "/* Colorize estimator box */\n",
       "#sk-container-id-1 div.sk-estimator input.sk-toggleable__control:checked~label.sk-toggleable__label {\n",
       "  /* unfitted */\n",
       "  background-color: var(--sklearn-color-unfitted-level-2);\n",
       "}\n",
       "\n",
       "#sk-container-id-1 div.sk-estimator.fitted input.sk-toggleable__control:checked~label.sk-toggleable__label {\n",
       "  /* fitted */\n",
       "  background-color: var(--sklearn-color-fitted-level-2);\n",
       "}\n",
       "\n",
       "#sk-container-id-1 div.sk-label label.sk-toggleable__label,\n",
       "#sk-container-id-1 div.sk-label label {\n",
       "  /* The background is the default theme color */\n",
       "  color: var(--sklearn-color-text-on-default-background);\n",
       "}\n",
       "\n",
       "/* On hover, darken the color of the background */\n",
       "#sk-container-id-1 div.sk-label:hover label.sk-toggleable__label {\n",
       "  color: var(--sklearn-color-text);\n",
       "  background-color: var(--sklearn-color-unfitted-level-2);\n",
       "}\n",
       "\n",
       "/* Label box, darken color on hover, fitted */\n",
       "#sk-container-id-1 div.sk-label.fitted:hover label.sk-toggleable__label.fitted {\n",
       "  color: var(--sklearn-color-text);\n",
       "  background-color: var(--sklearn-color-fitted-level-2);\n",
       "}\n",
       "\n",
       "/* Estimator label */\n",
       "\n",
       "#sk-container-id-1 div.sk-label label {\n",
       "  font-family: monospace;\n",
       "  font-weight: bold;\n",
       "  display: inline-block;\n",
       "  line-height: 1.2em;\n",
       "}\n",
       "\n",
       "#sk-container-id-1 div.sk-label-container {\n",
       "  text-align: center;\n",
       "}\n",
       "\n",
       "/* Estimator-specific */\n",
       "#sk-container-id-1 div.sk-estimator {\n",
       "  font-family: monospace;\n",
       "  border: 1px dotted var(--sklearn-color-border-box);\n",
       "  border-radius: 0.25em;\n",
       "  box-sizing: border-box;\n",
       "  margin-bottom: 0.5em;\n",
       "  /* unfitted */\n",
       "  background-color: var(--sklearn-color-unfitted-level-0);\n",
       "}\n",
       "\n",
       "#sk-container-id-1 div.sk-estimator.fitted {\n",
       "  /* fitted */\n",
       "  background-color: var(--sklearn-color-fitted-level-0);\n",
       "}\n",
       "\n",
       "/* on hover */\n",
       "#sk-container-id-1 div.sk-estimator:hover {\n",
       "  /* unfitted */\n",
       "  background-color: var(--sklearn-color-unfitted-level-2);\n",
       "}\n",
       "\n",
       "#sk-container-id-1 div.sk-estimator.fitted:hover {\n",
       "  /* fitted */\n",
       "  background-color: var(--sklearn-color-fitted-level-2);\n",
       "}\n",
       "\n",
       "/* Specification for estimator info (e.g. \"i\" and \"?\") */\n",
       "\n",
       "/* Common style for \"i\" and \"?\" */\n",
       "\n",
       ".sk-estimator-doc-link,\n",
       "a:link.sk-estimator-doc-link,\n",
       "a:visited.sk-estimator-doc-link {\n",
       "  float: right;\n",
       "  font-size: smaller;\n",
       "  line-height: 1em;\n",
       "  font-family: monospace;\n",
       "  background-color: var(--sklearn-color-background);\n",
       "  border-radius: 1em;\n",
       "  height: 1em;\n",
       "  width: 1em;\n",
       "  text-decoration: none !important;\n",
       "  margin-left: 1ex;\n",
       "  /* unfitted */\n",
       "  border: var(--sklearn-color-unfitted-level-1) 1pt solid;\n",
       "  color: var(--sklearn-color-unfitted-level-1);\n",
       "}\n",
       "\n",
       ".sk-estimator-doc-link.fitted,\n",
       "a:link.sk-estimator-doc-link.fitted,\n",
       "a:visited.sk-estimator-doc-link.fitted {\n",
       "  /* fitted */\n",
       "  border: var(--sklearn-color-fitted-level-1) 1pt solid;\n",
       "  color: var(--sklearn-color-fitted-level-1);\n",
       "}\n",
       "\n",
       "/* On hover */\n",
       "div.sk-estimator:hover .sk-estimator-doc-link:hover,\n",
       ".sk-estimator-doc-link:hover,\n",
       "div.sk-label-container:hover .sk-estimator-doc-link:hover,\n",
       ".sk-estimator-doc-link:hover {\n",
       "  /* unfitted */\n",
       "  background-color: var(--sklearn-color-unfitted-level-3);\n",
       "  color: var(--sklearn-color-background);\n",
       "  text-decoration: none;\n",
       "}\n",
       "\n",
       "div.sk-estimator.fitted:hover .sk-estimator-doc-link.fitted:hover,\n",
       ".sk-estimator-doc-link.fitted:hover,\n",
       "div.sk-label-container:hover .sk-estimator-doc-link.fitted:hover,\n",
       ".sk-estimator-doc-link.fitted:hover {\n",
       "  /* fitted */\n",
       "  background-color: var(--sklearn-color-fitted-level-3);\n",
       "  color: var(--sklearn-color-background);\n",
       "  text-decoration: none;\n",
       "}\n",
       "\n",
       "/* Span, style for the box shown on hovering the info icon */\n",
       ".sk-estimator-doc-link span {\n",
       "  display: none;\n",
       "  z-index: 9999;\n",
       "  position: relative;\n",
       "  font-weight: normal;\n",
       "  right: .2ex;\n",
       "  padding: .5ex;\n",
       "  margin: .5ex;\n",
       "  width: min-content;\n",
       "  min-width: 20ex;\n",
       "  max-width: 50ex;\n",
       "  color: var(--sklearn-color-text);\n",
       "  box-shadow: 2pt 2pt 4pt #999;\n",
       "  /* unfitted */\n",
       "  background: var(--sklearn-color-unfitted-level-0);\n",
       "  border: .5pt solid var(--sklearn-color-unfitted-level-3);\n",
       "}\n",
       "\n",
       ".sk-estimator-doc-link.fitted span {\n",
       "  /* fitted */\n",
       "  background: var(--sklearn-color-fitted-level-0);\n",
       "  border: var(--sklearn-color-fitted-level-3);\n",
       "}\n",
       "\n",
       ".sk-estimator-doc-link:hover span {\n",
       "  display: block;\n",
       "}\n",
       "\n",
       "/* \"?\"-specific style due to the `<a>` HTML tag */\n",
       "\n",
       "#sk-container-id-1 a.estimator_doc_link {\n",
       "  float: right;\n",
       "  font-size: 1rem;\n",
       "  line-height: 1em;\n",
       "  font-family: monospace;\n",
       "  background-color: var(--sklearn-color-background);\n",
       "  border-radius: 1rem;\n",
       "  height: 1rem;\n",
       "  width: 1rem;\n",
       "  text-decoration: none;\n",
       "  /* unfitted */\n",
       "  color: var(--sklearn-color-unfitted-level-1);\n",
       "  border: var(--sklearn-color-unfitted-level-1) 1pt solid;\n",
       "}\n",
       "\n",
       "#sk-container-id-1 a.estimator_doc_link.fitted {\n",
       "  /* fitted */\n",
       "  border: var(--sklearn-color-fitted-level-1) 1pt solid;\n",
       "  color: var(--sklearn-color-fitted-level-1);\n",
       "}\n",
       "\n",
       "/* On hover */\n",
       "#sk-container-id-1 a.estimator_doc_link:hover {\n",
       "  /* unfitted */\n",
       "  background-color: var(--sklearn-color-unfitted-level-3);\n",
       "  color: var(--sklearn-color-background);\n",
       "  text-decoration: none;\n",
       "}\n",
       "\n",
       "#sk-container-id-1 a.estimator_doc_link.fitted:hover {\n",
       "  /* fitted */\n",
       "  background-color: var(--sklearn-color-fitted-level-3);\n",
       "}\n",
       "</style><div id=\"sk-container-id-1\" class=\"sk-top-container\"><div class=\"sk-text-repr-fallback\"><pre>TfidfVectorizer(max_df=0.5, min_df=2)</pre><b>In a Jupyter environment, please rerun this cell to show the HTML representation or trust the notebook. <br />On GitHub, the HTML representation is unable to render, please try loading this page with nbviewer.org.</b></div><div class=\"sk-container\" hidden><div class=\"sk-item\"><div class=\"sk-estimator  sk-toggleable\"><input class=\"sk-toggleable__control sk-hidden--visually\" id=\"sk-estimator-id-1\" type=\"checkbox\" checked><label for=\"sk-estimator-id-1\" class=\"sk-toggleable__label  sk-toggleable__label-arrow \">&nbsp;&nbsp;TfidfVectorizer<a class=\"sk-estimator-doc-link \" rel=\"noreferrer\" target=\"_blank\" href=\"https://scikit-learn.org/1.4/modules/generated/sklearn.feature_extraction.text.TfidfVectorizer.html\">?<span>Documentation for TfidfVectorizer</span></a><span class=\"sk-estimator-doc-link \">i<span>Not fitted</span></span></label><div class=\"sk-toggleable__content \"><pre>TfidfVectorizer(max_df=0.5, min_df=2)</pre></div> </div></div></div></div>"
      ],
      "text/plain": [
       "TfidfVectorizer(max_df=0.5, min_df=2)"
      ]
     },
     "execution_count": 138,
     "metadata": {},
     "output_type": "execute_result"
    }
   ],
   "source": [
    "tfidf_vectorizer"
   ]
  },
  {
   "cell_type": "markdown",
   "id": "7888bff3-402f-474c-afe7-8b58230f8d9e",
   "metadata": {},
   "source": [
    "This creates a TfidfVectorizer object with a maximum document frequency of 50% and a minimum document frequency of 2 documents.\n",
    "\n",
    "Adjusting these parameters allows you to control the size and quality of the vocabulary used for text analysis tasks."
   ]
  },
  {
   "cell_type": "code",
   "execution_count": 140,
   "id": "ca45fd37-adf7-433b-a66a-999b7cd2f78f",
   "metadata": {},
   "outputs": [
    {
     "data": {
      "text/html": [
       "<div>\n",
       "<style scoped>\n",
       "    .dataframe tbody tr th:only-of-type {\n",
       "        vertical-align: middle;\n",
       "    }\n",
       "\n",
       "    .dataframe tbody tr th {\n",
       "        vertical-align: top;\n",
       "    }\n",
       "\n",
       "    .dataframe thead th {\n",
       "        text-align: right;\n",
       "    }\n",
       "</style>\n",
       "<table border=\"1\" class=\"dataframe\">\n",
       "  <thead>\n",
       "    <tr style=\"text-align: right;\">\n",
       "      <th></th>\n",
       "      <th>cat</th>\n",
       "      <th>dog</th>\n",
       "      <th>for</th>\n",
       "      <th>good</th>\n",
       "      <th>health</th>\n",
       "      <th>is</th>\n",
       "      <th>running</th>\n",
       "      <th>the</th>\n",
       "      <th>with</th>\n",
       "      <th>young</th>\n",
       "      <th>your</th>\n",
       "    </tr>\n",
       "  </thead>\n",
       "  <tbody>\n",
       "    <tr>\n",
       "      <th>0</th>\n",
       "      <td>0.227904</td>\n",
       "      <td>0.357056</td>\n",
       "      <td>0.000000</td>\n",
       "      <td>0.000000</td>\n",
       "      <td>0.000000</td>\n",
       "      <td>0.227904</td>\n",
       "      <td>0.281507</td>\n",
       "      <td>0.714112</td>\n",
       "      <td>0.357056</td>\n",
       "      <td>0.227904</td>\n",
       "      <td>0.000000</td>\n",
       "    </tr>\n",
       "    <tr>\n",
       "      <th>1</th>\n",
       "      <td>0.000000</td>\n",
       "      <td>0.000000</td>\n",
       "      <td>0.463709</td>\n",
       "      <td>0.463709</td>\n",
       "      <td>0.463709</td>\n",
       "      <td>0.295980</td>\n",
       "      <td>0.365594</td>\n",
       "      <td>0.000000</td>\n",
       "      <td>0.000000</td>\n",
       "      <td>0.000000</td>\n",
       "      <td>0.365594</td>\n",
       "    </tr>\n",
       "    <tr>\n",
       "      <th>2</th>\n",
       "      <td>0.470063</td>\n",
       "      <td>0.000000</td>\n",
       "      <td>0.000000</td>\n",
       "      <td>0.000000</td>\n",
       "      <td>0.000000</td>\n",
       "      <td>0.470063</td>\n",
       "      <td>0.000000</td>\n",
       "      <td>0.000000</td>\n",
       "      <td>0.000000</td>\n",
       "      <td>0.470063</td>\n",
       "      <td>0.580622</td>\n",
       "    </tr>\n",
       "    <tr>\n",
       "      <th>3</th>\n",
       "      <td>0.514496</td>\n",
       "      <td>0.000000</td>\n",
       "      <td>0.000000</td>\n",
       "      <td>0.000000</td>\n",
       "      <td>0.000000</td>\n",
       "      <td>0.000000</td>\n",
       "      <td>0.000000</td>\n",
       "      <td>0.000000</td>\n",
       "      <td>0.000000</td>\n",
       "      <td>0.857493</td>\n",
       "      <td>0.000000</td>\n",
       "    </tr>\n",
       "  </tbody>\n",
       "</table>\n",
       "</div>"
      ],
      "text/plain": [
       "        cat       dog       for      good    health        is   running  \\\n",
       "0  0.227904  0.357056  0.000000  0.000000  0.000000  0.227904  0.281507   \n",
       "1  0.000000  0.000000  0.463709  0.463709  0.463709  0.295980  0.365594   \n",
       "2  0.470063  0.000000  0.000000  0.000000  0.000000  0.470063  0.000000   \n",
       "3  0.514496  0.000000  0.000000  0.000000  0.000000  0.000000  0.000000   \n",
       "\n",
       "        the      with     young      your  \n",
       "0  0.714112  0.357056  0.227904  0.000000  \n",
       "1  0.000000  0.000000  0.000000  0.365594  \n",
       "2  0.000000  0.000000  0.470063  0.580622  \n",
       "3  0.000000  0.000000  0.857493  0.000000  "
      ]
     },
     "execution_count": 140,
     "metadata": {},
     "output_type": "execute_result"
    }
   ],
   "source": [
    "# Number of occurences of each word\n",
    "weighted_words"
   ]
  },
  {
   "cell_type": "markdown",
   "id": "b6253840-1cb8-4186-9157-f9f7a14a8760",
   "metadata": {},
   "source": [
    "- X.toarray() converts the sparse matrix X (which likely represents a document-term matrix with TF-IDF or word counts) into a dense NumPy array. This operation converts the sparse matrix into a format that can be easily converted into a DataFrame.\n",
    "- columns=count_vectorizer.get_feature_names_out() retrieves the feature names (i.e., the terms or words) from the CountVectorizer object count_vectorizer. These feature names are used as column labels in the DataFrame.\n",
    "- index=texts sets the index of the DataFrame to be the texts variable. Presumably, texts contains the original raw text data used to create the document-term matrix. Each row in the DataFrame corresponds to a document, and the index labels each row with the corresponding raw text data."
   ]
  },
  {
   "cell_type": "code",
   "execution_count": 145,
   "id": "a4c26893-60e8-4cba-9952-986a62c768f7",
   "metadata": {},
   "outputs": [
    {
     "data": {
      "text/html": [
       "<div>\n",
       "<style scoped>\n",
       "    .dataframe tbody tr th:only-of-type {\n",
       "        vertical-align: middle;\n",
       "    }\n",
       "\n",
       "    .dataframe tbody tr th {\n",
       "        vertical-align: top;\n",
       "    }\n",
       "\n",
       "    .dataframe thead th {\n",
       "        text-align: right;\n",
       "    }\n",
       "</style>\n",
       "<table border=\"1\" class=\"dataframe\">\n",
       "  <thead>\n",
       "    <tr style=\"text-align: right;\">\n",
       "      <th></th>\n",
       "      <th>dog</th>\n",
       "      <th>for</th>\n",
       "      <th>good</th>\n",
       "      <th>health</th>\n",
       "      <th>running</th>\n",
       "      <th>the</th>\n",
       "      <th>with</th>\n",
       "      <th>your</th>\n",
       "    </tr>\n",
       "  </thead>\n",
       "  <tbody>\n",
       "    <tr>\n",
       "      <th>the young dog is running with the cat</th>\n",
       "      <td>1</td>\n",
       "      <td>0</td>\n",
       "      <td>0</td>\n",
       "      <td>0</td>\n",
       "      <td>1</td>\n",
       "      <td>2</td>\n",
       "      <td>1</td>\n",
       "      <td>0</td>\n",
       "    </tr>\n",
       "    <tr>\n",
       "      <th>running is good for your health</th>\n",
       "      <td>0</td>\n",
       "      <td>1</td>\n",
       "      <td>1</td>\n",
       "      <td>1</td>\n",
       "      <td>1</td>\n",
       "      <td>0</td>\n",
       "      <td>0</td>\n",
       "      <td>1</td>\n",
       "    </tr>\n",
       "    <tr>\n",
       "      <th>your cat is young</th>\n",
       "      <td>0</td>\n",
       "      <td>0</td>\n",
       "      <td>0</td>\n",
       "      <td>0</td>\n",
       "      <td>0</td>\n",
       "      <td>0</td>\n",
       "      <td>0</td>\n",
       "      <td>1</td>\n",
       "    </tr>\n",
       "    <tr>\n",
       "      <th>young young young young young cat cat cat</th>\n",
       "      <td>0</td>\n",
       "      <td>0</td>\n",
       "      <td>0</td>\n",
       "      <td>0</td>\n",
       "      <td>0</td>\n",
       "      <td>0</td>\n",
       "      <td>0</td>\n",
       "      <td>0</td>\n",
       "    </tr>\n",
       "  </tbody>\n",
       "</table>\n",
       "</div>"
      ],
      "text/plain": [
       "                                           dog  for  good  health  running  \\\n",
       "the young dog is running with the cat        1    0     0       0        1   \n",
       "running is good for your health              0    1     1       1        1   \n",
       "your cat is young                            0    0     0       0        0   \n",
       "young young young young young cat cat cat    0    0     0       0        0   \n",
       "\n",
       "                                           the  with  your  \n",
       "the young dog is running with the cat        2     1     0  \n",
       "running is good for your health              0     0     1  \n",
       "your cat is young                            0     0     1  \n",
       "young young young young young cat cat cat    0     0     0  "
      ]
     },
     "execution_count": 145,
     "metadata": {},
     "output_type": "execute_result"
    }
   ],
   "source": [
    "# Instantiate the CountVectorizer with max_df = 2\n",
    "count_vectorizer = CountVectorizer(max_df = 2) # removing \"cat\", \"is\", \"young\"\n",
    "\n",
    "# Train it\n",
    "X = count_vectorizer.fit_transform(texts)\n",
    "X = pd.DataFrame(\n",
    "    # A sparse matrix is a matrix that contains a large number of zero elements relative\n",
    "    # to its total size. In other words, most of the entries in a sparse matrix are zero.\n",
    "    X.toarray(),\n",
    "    columns = count_vectorizer.get_feature_names_out(),\n",
    "    index = texts\n",
    ")\n",
    "\n",
    "X"
   ]
  },
  {
   "cell_type": "code",
   "execution_count": 146,
   "id": "8844e736-3c69-418a-972f-e75fcbb7ef57",
   "metadata": {},
   "outputs": [
    {
     "data": {
      "text/plain": [
       "['the young dog is running with the cat',\n",
       " 'running is good for your health',\n",
       " 'your cat is young',\n",
       " 'young young young young young cat cat cat']"
      ]
     },
     "execution_count": 146,
     "metadata": {},
     "output_type": "execute_result"
    }
   ],
   "source": [
    "texts"
   ]
  },
  {
   "cell_type": "markdown",
   "id": "14042c5c-964c-48a8-9e30-5ba8ec92fe45",
   "metadata": {},
   "source": [
    "# 💻 max_features"
   ]
  },
  {
   "cell_type": "markdown",
   "id": "94b37555-f328-4abc-a025-0730d310ac63",
   "metadata": {},
   "source": [
    "# How to use \"max_features\" in practice?"
   ]
  },
  {
   "cell_type": "markdown",
   "id": "0acc181e-56c7-418e-ac45-190db2c4b120",
   "metadata": {},
   "source": [
    "Here, count_vectorizer is an instance of the CountVectorizer class from the scikit-learn library, which is used to convert a collection of text documents into a matrix representing the count of each word (term) in each document.\n",
    "fit_transform(texts) method fits the count_vectorizer to the texts data and transforms the text data into a document-term matrix. Each row of the matrix corresponds to a document, and each column corresponds to a unique word in the vocabulary. The values in the matrix represent the count of each word in each document.\n",
    "\n",
    "- X.toarray() converts the sparse matrix X (output from fit_transform) into a dense NumPy array. This operation is performed to convert the sparse matrix into a format suitable for creating a DataFrame.\n",
    "- columns=count_vectorizer.get_feature_names_out() retrieves the feature names (i.e., the terms or words) from the CountVectorizer object count_vectorizer. These feature names are used as column labels in the DataFrame.\n",
    "- index=texts sets the index of the DataFrame to be the texts variable. Presumably, texts contains the original raw text data used to create the document-term matrix. Each row in the DataFrame corresponds to a document, and the index labels each row with the corresponding raw text data."
   ]
  },
  {
   "cell_type": "code",
   "execution_count": 147,
   "id": "fd4cda51-949b-476e-88ec-dca796bb7fb3",
   "metadata": {},
   "outputs": [
    {
     "data": {
      "text/html": [
       "<div>\n",
       "<style scoped>\n",
       "    .dataframe tbody tr th:only-of-type {\n",
       "        vertical-align: middle;\n",
       "    }\n",
       "\n",
       "    .dataframe tbody tr th {\n",
       "        vertical-align: top;\n",
       "    }\n",
       "\n",
       "    .dataframe thead th {\n",
       "        text-align: right;\n",
       "    }\n",
       "</style>\n",
       "<table border=\"1\" class=\"dataframe\">\n",
       "  <thead>\n",
       "    <tr style=\"text-align: right;\">\n",
       "      <th></th>\n",
       "      <th>cat</th>\n",
       "      <th>is</th>\n",
       "      <th>young</th>\n",
       "    </tr>\n",
       "  </thead>\n",
       "  <tbody>\n",
       "    <tr>\n",
       "      <th>the young dog is running with the cat</th>\n",
       "      <td>1</td>\n",
       "      <td>1</td>\n",
       "      <td>1</td>\n",
       "    </tr>\n",
       "    <tr>\n",
       "      <th>running is good for your health</th>\n",
       "      <td>0</td>\n",
       "      <td>1</td>\n",
       "      <td>0</td>\n",
       "    </tr>\n",
       "    <tr>\n",
       "      <th>your cat is young</th>\n",
       "      <td>1</td>\n",
       "      <td>1</td>\n",
       "      <td>1</td>\n",
       "    </tr>\n",
       "    <tr>\n",
       "      <th>young young young young young cat cat cat</th>\n",
       "      <td>3</td>\n",
       "      <td>0</td>\n",
       "      <td>5</td>\n",
       "    </tr>\n",
       "  </tbody>\n",
       "</table>\n",
       "</div>"
      ],
      "text/plain": [
       "                                           cat  is  young\n",
       "the young dog is running with the cat        1   1      1\n",
       "running is good for your health              0   1      0\n",
       "your cat is young                            1   1      1\n",
       "young young young young young cat cat cat    3   0      5"
      ]
     },
     "execution_count": 147,
     "metadata": {},
     "output_type": "execute_result"
    }
   ],
   "source": [
    "# CountVectorizer with the 3 most frequent words\n",
    "count_vectorizer = CountVectorizer(max_features = 3)\n",
    "\n",
    "X = count_vectorizer.fit_transform(texts)\n",
    "X = pd.DataFrame(\n",
    "    X.toarray(),\n",
    "     columns = count_vectorizer.get_feature_names_out(),\n",
    "     index = texts\n",
    ")\n",
    "\n",
    "X"
   ]
  },
  {
   "cell_type": "markdown",
   "id": "74c01aa2-e966-47b4-887f-5ab992ca34d1",
   "metadata": {},
   "source": [
    "#  Advantages of the Tf-idf representation - read"
   ]
  },
  {
   "cell_type": "markdown",
   "id": "73b97169-3220-4459-ab93-d58b3ce73dc1",
   "metadata": {},
   "source": [
    "# 2.4. N-grams"
   ]
  },
  {
   "cell_type": "markdown",
   "id": "c364fce0-4bd3-4a7b-9c09-14b37583be65",
   "metadata": {},
   "source": [
    "N-grams are contiguous sequences of n items (or words) from a given text or speech sample. These items can be characters, syllables, words, or even other linguistic units like morphemes or phonemes. N-grams are widely used in natural language processing (NLP) and text analysis tasks to capture local patterns and dependencies between adjacent elements in a sequence of text."
   ]
  },
  {
   "cell_type": "code",
   "execution_count": 148,
   "id": "94cfa52b-bca2-49b1-b919-16094b775174",
   "metadata": {},
   "outputs": [],
   "source": [
    "actors_movie = [\n",
    "    \"I like the movie but NOT the actors\",\n",
    "    \"I like the actors but NOT the movie\"\n",
    "]"
   ]
  },
  {
   "cell_type": "code",
   "execution_count": 149,
   "id": "997ca39a-1a1c-47c6-831b-e4dd2276b40a",
   "metadata": {},
   "outputs": [
    {
     "data": {
      "text/html": [
       "<div>\n",
       "<style scoped>\n",
       "    .dataframe tbody tr th:only-of-type {\n",
       "        vertical-align: middle;\n",
       "    }\n",
       "\n",
       "    .dataframe tbody tr th {\n",
       "        vertical-align: top;\n",
       "    }\n",
       "\n",
       "    .dataframe thead th {\n",
       "        text-align: right;\n",
       "    }\n",
       "</style>\n",
       "<table border=\"1\" class=\"dataframe\">\n",
       "  <thead>\n",
       "    <tr style=\"text-align: right;\">\n",
       "      <th></th>\n",
       "      <th>actors</th>\n",
       "      <th>but</th>\n",
       "      <th>like</th>\n",
       "      <th>movie</th>\n",
       "      <th>not</th>\n",
       "      <th>the</th>\n",
       "    </tr>\n",
       "  </thead>\n",
       "  <tbody>\n",
       "    <tr>\n",
       "      <th>I like the movie but NOT the actors</th>\n",
       "      <td>1</td>\n",
       "      <td>1</td>\n",
       "      <td>1</td>\n",
       "      <td>1</td>\n",
       "      <td>1</td>\n",
       "      <td>2</td>\n",
       "    </tr>\n",
       "    <tr>\n",
       "      <th>I like the actors but NOT the movie</th>\n",
       "      <td>1</td>\n",
       "      <td>1</td>\n",
       "      <td>1</td>\n",
       "      <td>1</td>\n",
       "      <td>1</td>\n",
       "      <td>2</td>\n",
       "    </tr>\n",
       "  </tbody>\n",
       "</table>\n",
       "</div>"
      ],
      "text/plain": [
       "                                     actors  but  like  movie  not  the\n",
       "I like the movie but NOT the actors       1    1     1      1    1    2\n",
       "I like the actors but NOT the movie       1    1     1      1    1    2"
      ]
     },
     "execution_count": 149,
     "metadata": {},
     "output_type": "execute_result"
    }
   ],
   "source": [
    "# Vectorize the sentences\n",
    "count_vectorizer = CountVectorizer()\n",
    "actors_movie_vectorized = count_vectorizer.fit_transform(actors_movie)\n",
    "\n",
    "# Show the representations in a nice DataFrame\n",
    "actors_movie_vectorized = pd.DataFrame(\n",
    "    actors_movie_vectorized.toarray(),\n",
    "    columns = count_vectorizer.get_feature_names_out(),\n",
    "    index = actors_movie\n",
    ")\n",
    "\n",
    "# Show the vectorized movies\n",
    "actors_movie_vectorized"
   ]
  },
  {
   "cell_type": "markdown",
   "id": "68bf821c-192d-4951-8a8d-a43fb57c7263",
   "metadata": {},
   "source": [
    "# 🧑🏻‍🏫 When using a bag-of-words representation, an efficient way to capture context is to consider:"
   ]
  },
  {
   "cell_type": "markdown",
   "id": "9efc0259-8fa7-42d0-984f-8486e32063d2",
   "metadata": {},
   "source": [
    "# 💻 ngram_range"
   ]
  },
  {
   "cell_type": "markdown",
   "id": "2a38e9be-e443-4bfc-8243-4710a5e2378c",
   "metadata": {},
   "source": [
    "min_n is the minimum length of the N-grams to be considered.\n",
    "max_n is the maximum length of the N-grams to be considered.\n",
    "For example:\n",
    "\n",
    "- ngram_range=(1, 1) considers only unigrams (single words).\n",
    "- ngram_range=(1, 2) considers both unigrams and bigrams.\n",
    "- ngram_range=(2, 2) considers only bigrams.\n",
    "- ngram_range=(1, 3) considers unigrams, bigrams, and trigrams."
   ]
  },
  {
   "cell_type": "markdown",
   "id": "e4b05a0a-a12e-4a14-94d1-095fcdff61ef",
   "metadata": {},
   "source": [
    "# 😥 With a unigram vectorization, we couldn't distinguish two sentences with the same words."
   ]
  },
  {
   "cell_type": "code",
   "execution_count": 150,
   "id": "69a78741-e1c1-48b7-a1b9-5926eeaa8d56",
   "metadata": {},
   "outputs": [
    {
     "data": {
      "text/html": [
       "<div>\n",
       "<style scoped>\n",
       "    .dataframe tbody tr th:only-of-type {\n",
       "        vertical-align: middle;\n",
       "    }\n",
       "\n",
       "    .dataframe tbody tr th {\n",
       "        vertical-align: top;\n",
       "    }\n",
       "\n",
       "    .dataframe thead th {\n",
       "        text-align: right;\n",
       "    }\n",
       "</style>\n",
       "<table border=\"1\" class=\"dataframe\">\n",
       "  <thead>\n",
       "    <tr style=\"text-align: right;\">\n",
       "      <th></th>\n",
       "      <th>actors</th>\n",
       "      <th>but</th>\n",
       "      <th>like</th>\n",
       "      <th>movie</th>\n",
       "      <th>not</th>\n",
       "      <th>the</th>\n",
       "    </tr>\n",
       "  </thead>\n",
       "  <tbody>\n",
       "    <tr>\n",
       "      <th>I like the movie but NOT the actors</th>\n",
       "      <td>1</td>\n",
       "      <td>1</td>\n",
       "      <td>1</td>\n",
       "      <td>1</td>\n",
       "      <td>1</td>\n",
       "      <td>2</td>\n",
       "    </tr>\n",
       "    <tr>\n",
       "      <th>I like the actors but NOT the movie</th>\n",
       "      <td>1</td>\n",
       "      <td>1</td>\n",
       "      <td>1</td>\n",
       "      <td>1</td>\n",
       "      <td>1</td>\n",
       "      <td>2</td>\n",
       "    </tr>\n",
       "  </tbody>\n",
       "</table>\n",
       "</div>"
      ],
      "text/plain": [
       "                                     actors  but  like  movie  not  the\n",
       "I like the movie but NOT the actors       1    1     1      1    1    2\n",
       "I like the actors but NOT the movie       1    1     1      1    1    2"
      ]
     },
     "execution_count": 150,
     "metadata": {},
     "output_type": "execute_result"
    }
   ],
   "source": [
    "actors_movie_vectorized"
   ]
  },
  {
   "cell_type": "markdown",
   "id": "21414b49-10da-4d92-a650-5debdb1a26f2",
   "metadata": {},
   "source": [
    "While unigram vectorization is useful for capturing the occurrence of individual words in each document, it does not consider the order or sequence of words within the document. Therefore, two sentences with the same words but in different orders will have identical unigram representations.\n",
    "\n",
    "For example, consider the following two sentences:\n",
    "\n",
    "\"The quick brown fox jumps over the lazy dog.\"<br>\n",
    "\"The lazy dog jumps over the quick brown fox.\"\n",
    "<br>\n",
    "If we use unigram vectorization, both sentences will have the same vector representation because they contain the same words, regardless of the word order. This lack of consideration for word order means that unigram vectorization cannot distinguish between sentences that have the same words but different meanings or contexts."
   ]
  },
  {
   "cell_type": "markdown",
   "id": "86a44136-72e4-41c7-af87-84e1ae0871f8",
   "metadata": {},
   "source": [
    "# 👩🏻‍🔬 What about a bigram vectorization?"
   ]
  },
  {
   "cell_type": "code",
   "execution_count": 151,
   "id": "3a37ec4d-428f-4e2f-8ce1-40b7b891f129",
   "metadata": {},
   "outputs": [
    {
     "data": {
      "text/html": [
       "<div>\n",
       "<style scoped>\n",
       "    .dataframe tbody tr th:only-of-type {\n",
       "        vertical-align: middle;\n",
       "    }\n",
       "\n",
       "    .dataframe tbody tr th {\n",
       "        vertical-align: top;\n",
       "    }\n",
       "\n",
       "    .dataframe thead th {\n",
       "        text-align: right;\n",
       "    }\n",
       "</style>\n",
       "<table border=\"1\" class=\"dataframe\">\n",
       "  <thead>\n",
       "    <tr style=\"text-align: right;\">\n",
       "      <th></th>\n",
       "      <th>actors but</th>\n",
       "      <th>but not</th>\n",
       "      <th>like the</th>\n",
       "      <th>movie but</th>\n",
       "      <th>not the</th>\n",
       "      <th>the actors</th>\n",
       "      <th>the movie</th>\n",
       "    </tr>\n",
       "  </thead>\n",
       "  <tbody>\n",
       "    <tr>\n",
       "      <th>I like the movie but NOT the actors</th>\n",
       "      <td>0</td>\n",
       "      <td>1</td>\n",
       "      <td>1</td>\n",
       "      <td>1</td>\n",
       "      <td>1</td>\n",
       "      <td>1</td>\n",
       "      <td>1</td>\n",
       "    </tr>\n",
       "    <tr>\n",
       "      <th>I like the actors but NOT the movie</th>\n",
       "      <td>1</td>\n",
       "      <td>1</td>\n",
       "      <td>1</td>\n",
       "      <td>0</td>\n",
       "      <td>1</td>\n",
       "      <td>1</td>\n",
       "      <td>1</td>\n",
       "    </tr>\n",
       "  </tbody>\n",
       "</table>\n",
       "</div>"
      ],
      "text/plain": [
       "                                     actors but  but not  like the  movie but  \\\n",
       "I like the movie but NOT the actors           0        1         1          1   \n",
       "I like the actors but NOT the movie           1        1         1          0   \n",
       "\n",
       "                                     not the  the actors  the movie  \n",
       "I like the movie but NOT the actors        1           1          1  \n",
       "I like the actors but NOT the movie        1           1          1  "
      ]
     },
     "execution_count": 151,
     "metadata": {},
     "output_type": "execute_result"
    }
   ],
   "source": [
    "# Vectorize the sentences\n",
    "count_vectorizer_n_gram = CountVectorizer(ngram_range = (2,2)) # BI-GRAMS\n",
    "actors_movie_vectorized_n_gram = count_vectorizer_n_gram.fit_transform(actors_movie)\n",
    "\n",
    "# Show the representations in a nice DataFrame\n",
    "actors_movie_vectorized_n_gram = pd.DataFrame(\n",
    "    actors_movie_vectorized_n_gram.toarray(),\n",
    "    columns = count_vectorizer_n_gram.get_feature_names_out(),\n",
    "    index = actors_movie\n",
    ")\n",
    "\n",
    "# Show the vectorized movies with bigrams\n",
    "actors_movie_vectorized_n_gram"
   ]
  },
  {
   "cell_type": "markdown",
   "id": "8d472efc-d8f4-4eaa-a1d1-7b1be237239c",
   "metadata": {},
   "source": [
    "😄 The two sentences are now distinguishable"
   ]
  },
  {
   "cell_type": "markdown",
   "id": "e9dea8ba-8033-433d-a1e6-b4d2f35b11d0",
   "metadata": {},
   "source": [
    "To overcome this limitation and capture the sequence of words, we can use techniques such as bigram or n-gram vectorization, which consider sequences of words (e.g., pairs of consecutive words). By incorporating the order of words into the vectorization process, these techniques can capture more detailed information about the structure and semantics of the text, allowing for better differentiation between sentences with similar word compositions but different meanings."
   ]
  },
  {
   "cell_type": "markdown",
   "id": "b815b235-8244-4e5c-bffc-a49787001c69",
   "metadata": {},
   "source": [
    "# 🥡 Vectorizing - Takeaways"
   ]
  },
  {
   "cell_type": "markdown",
   "id": "c4650bdf-90eb-47bf-ac2c-ac8eaecdf130",
   "metadata": {},
   "source": [
    "# 🚀 Let's discover two NLP algorithms:"
   ]
  },
  {
   "cell_type": "markdown",
   "id": "a70a2c3e-4094-4cc8-8af0-238693509575",
   "metadata": {},
   "source": [
    "# (Multinomial) Naive Bayes Algorithm"
   ]
  },
  {
   "cell_type": "markdown",
   "id": "f8a423f6-5dce-4825-b324-28b43cf5321e",
   "metadata": {},
   "source": [
    "Bayes' Theorem is a fundamental concept in probability theory that describes the probability of an event based on prior knowledge or conditions related to the event. It provides a way to update our beliefs or probabilities about an event in light of new evidence or information."
   ]
  },
  {
   "cell_type": "markdown",
   "id": "bf9de84c-84c4-49fe-98c3-9d9ff3c5a69f",
   "metadata": {},
   "source": [
    "# ✉️ The E-mail Classification Problem"
   ]
  },
  {
   "cell_type": "markdown",
   "id": "f0b78be0-160f-4ef2-a0bb-c90b481926dc",
   "metadata": {},
   "source": [
    "\n",
    "The email classification problem involves categorizing emails into different classes or categories based on their content, subject, sender, or other relevant features. This task is often tackled using machine learning and natural language processing techniques to automatically classify incoming emails into predefined categories. The goal is to efficiently handle and organize large volumes of emails by automatically routing them to the appropriate folders or personnel."
   ]
  },
  {
   "cell_type": "markdown",
   "id": "36e3883e-1720-47e9-afc2-2d640cb56938",
   "metadata": {},
   "source": [
    "# 👩🏻‍🏫 Mathematical Approach"
   ]
  },
  {
   "attachments": {
    "9d469412-ebb6-408c-89f4-36d5a9820f07.png": {
     "image/png": "[encoded data removed]"
    }
   },
   "cell_type": "markdown",
   "id": "2c40959f-a116-4d57-9e7e-d9c45e315e8f",
   "metadata": {},
   "source": [
    "![2024-02-20_06-36-29.png](attachment:9d469412-ebb6-408c-89f4-36d5a9820f07.png)"
   ]
  },
  {
   "cell_type": "markdown",
   "id": "36cd0d8d-bf17-4d55-a103-0569f0fa404e",
   "metadata": {},
   "source": [
    "# Law of total probabilities"
   ]
  },
  {
   "cell_type": "markdown",
   "id": "57d60f85-6037-45a7-87b8-70774b961628",
   "metadata": {},
   "source": [
    "it allows us to calculate the probability of an event by considering all possible outcomes and their associated probabilities across multiple disjoint cases or events."
   ]
  },
  {
   "cell_type": "markdown",
   "id": "2247eacb-e55a-4292-a878-0324d2afa449",
   "metadata": {},
   "source": [
    "# Conditional Probability"
   ]
  },
  {
   "attachments": {
    "4639b74f-208e-4314-ac3b-47c94fcdbd15.png": {
     "image/png": "[encoded data removed]"
    }
   },
   "cell_type": "markdown",
   "id": "86d718ae-dcdd-4d39-9629-3ad51711904c",
   "metadata": {},
   "source": [
    "![2024-02-20_06-43-17.png](attachment:4639b74f-208e-4314-ac3b-47c94fcdbd15.png)"
   ]
  },
  {
   "cell_type": "markdown",
   "id": "3f49cf1e-1897-40de-bb7e-96b0fb51a6d7",
   "metadata": {},
   "source": [
    "# 👉 Let's focus on a specific term:"
   ]
  },
  {
   "attachments": {
    "318089a4-c0f0-455f-8d9c-ed63d464edc7.png": {
     "image/png": "[encoded data removed]"
    }
   },
   "cell_type": "markdown",
   "id": "c654603c-6d7f-47a9-89db-f2e94da18787",
   "metadata": {},
   "source": [
    "![2024-02-20_06-45-50.png](attachment:318089a4-c0f0-455f-8d9c-ed63d464edc7.png)"
   ]
  },
  {
   "cell_type": "markdown",
   "id": "0249e2f9-4d7e-47ef-97e3-ac72b6ed63c4",
   "metadata": {},
   "source": [
    "# By applying the independence property:"
   ]
  },
  {
   "attachments": {
    "c5ba26f1-8e8b-4007-9385-c24bbfa30e62.png": {
     "image/png": "[encoded data removed]"
    }
   },
   "cell_type": "markdown",
   "id": "65ab1ce7-c552-4374-8429-17d55f200ae6",
   "metadata": {},
   "source": [
    "![2024-02-20_06-47-30.png](attachment:c5ba26f1-8e8b-4007-9385-c24bbfa30e62.png)"
   ]
  },
  {
   "cell_type": "markdown",
   "id": "fd559622-6c35-48ed-bedd-e2dbf47834e4",
   "metadata": {},
   "source": [
    "# Spam Formula"
   ]
  },
  {
   "attachments": {
    "9024fed7-ac45-4aab-9312-162ed3444227.png": {
     "image/png": "[encoded data removed]"
    }
   },
   "cell_type": "markdown",
   "id": "33e2c64d-b60a-414a-886c-2433621a4068",
   "metadata": {},
   "source": [
    "![2024-02-20_06-49-14.png](attachment:9024fed7-ac45-4aab-9312-162ed3444227.png)"
   ]
  },
  {
   "cell_type": "markdown",
   "id": "5f3b5d99-1950-4b09-9a4c-845cf665b323",
   "metadata": {},
   "source": [
    "# 💻 Computational Approach"
   ]
  },
  {
   "cell_type": "markdown",
   "id": "704b4ed8-dc85-4a3c-a6c9-ce9821a3b4c9",
   "metadata": {},
   "source": [
    "# Imagine that you have an e-mail inbox with:"
   ]
  },
  {
   "attachments": {
    "d7747c73-7e10-44da-a0a8-51f9f7dbca60.png": {
     "image/png": "[encoded data removed]"
    }
   },
   "cell_type": "markdown",
   "id": "6de06668-5954-488c-92fb-6c104b86e5ec",
   "metadata": {},
   "source": [
    "![2024-02-20_06-52-30.png](attachment:d7747c73-7e10-44da-a0a8-51f9f7dbca60.png)"
   ]
  },
  {
   "cell_type": "markdown",
   "id": "186507db-91f1-4f8c-9398-c93f5e52b51e",
   "metadata": {},
   "source": [
    "# Probability of being spam if the e-mail contains Dear Friend"
   ]
  },
  {
   "cell_type": "markdown",
   "id": "4d599361-b324-4c7c-9990-5f21eced4802",
   "metadata": {},
   "source": [
    "# 🏂 Smoothing"
   ]
  },
  {
   "attachments": {
    "2b2d1235-d84c-4541-a35d-718ae87e95ea.png": {
     "image/png": "[encoded data removed]"
    }
   },
   "cell_type": "markdown",
   "id": "26f178ad-ca66-4e03-bf2c-bff2124ceb2d",
   "metadata": {},
   "source": [
    "![2024-02-20_06-55-18.png](attachment:2b2d1235-d84c-4541-a35d-718ae87e95ea.png)"
   ]
  },
  {
   "cell_type": "markdown",
   "id": "f01d02f6-ff42-4566-a052-7aabd5e3a356",
   "metadata": {},
   "source": [
    "# We can add +1 (or α>0) to term frequencies."
   ]
  },
  {
   "attachments": {
    "c8305290-bbb5-463d-8dbe-4246ed08be45.png": {
     "image/png": "[encoded data removed]"
    }
   },
   "cell_type": "markdown",
   "id": "639731bb-414b-4bc2-9468-f81ec0af4b51",
   "metadata": {},
   "source": [
    "![2024-02-20_07-04-03.png](attachment:c8305290-bbb5-463d-8dbe-4246ed08be45.png)"
   ]
  },
  {
   "cell_type": "markdown",
   "id": "4c4c6a77-dbeb-448a-b9ec-dd9d0f506ccb",
   "metadata": {},
   "source": [
    "# 3.2. Pros and Cons of the NB Algorithm"
   ]
  },
  {
   "cell_type": "markdown",
   "id": "d72edf9f-b99a-44a2-98b0-b8f04ee8e47c",
   "metadata": {},
   "source": [
    "# 3.3. 💻 Implementation of the Naive Bayes Algorithm"
   ]
  },
  {
   "cell_type": "markdown",
   "id": "f0e0e8ff-6531-413d-a64f-9176b068cc8c",
   "metadata": {},
   "source": [
    "# 3.4. 💻 Tuning the Vectorizer and the Naive Bayes Algorithm Simultaneously"
   ]
  },
  {
   "cell_type": "markdown",
   "id": "006cb12f-ea74-48a0-9be2-f5695caa3dde",
   "metadata": {},
   "source": [
    "\n",
    "The code snippet you've provided demonstrates how to use GridSearchCV from scikit-learn for hyperparameter tuning of a machine learning pipeline that likely involves text processing and classification, presumably for spam detection or a similar task. Let's break down the key components and explain how they work together:\n",
    "\n",
    "GridSearchCV\n",
    "GridSearchCV is a powerful tool for automating the process of tuning hyperparameters to find the best possible model performance. It systematically works through multiple combinations of parameter options, cross-validating as it goes to determine which parameters give the best performance.\n",
    "\n",
    "Parameters"
   ]
  },
  {
   "cell_type": "code",
   "execution_count": 154,
   "id": "c1d8520d-8600-4f7a-a075-c0d520b61fe9",
   "metadata": {},
   "outputs": [],
   "source": [
    "parameters = {\n",
    "    'tfidfvectorizer__ngram_range': ((1,1), (2,2)),\n",
    "    'multinomialnb__alpha': (0.1,1)\n",
    "}"
   ]
  },
  {
   "cell_type": "markdown",
   "id": "6e84e103-65aa-41bb-a529-c2eabd5c8e55",
   "metadata": {},
   "source": [
    "This dictionary defines the grid of hyperparameters to be tested.\n",
    "'tfidfvectorizer__ngram_range': ((1,1), (2,2)) specifies the n-gram range for the TfidfVectorizer step of the pipeline. An n-gram range of (1,1) means only unigrams (single words) are considered, while (2,2) means only bigrams (pairs of consecutive words).\n",
    "'multinomialnb__alpha': (0.1,1) sets the alpha parameter for the MultinomialNB (Naive Bayes) classifier. Alpha is the smoothing parameter: 0.1 and 1 are the values to be tested.\n"
   ]
  },
  {
   "cell_type": "markdown",
   "id": "1f504b31-d455-4b3c-ad82-6a975d9f83ae",
   "metadata": {},
   "source": [
    "#### Performing Grid Search"
   ]
  },
  {
   "cell_type": "markdown",
   "id": "b9aef1f6-4865-4494-bca0-6ee97f2def25",
   "metadata": {},
   "source": [
    "- pipeline_naive_bayes is not defined in the provided snippet but is assumed to be a Pipeline object that includes at least a TfidfVectorizer step and a MultinomialNB classifier step.\n",
    "- scoring = \"recall\" indicates that recall is the metric used to evaluate the performance of the model for each parameter combination. Recall is particularly important in applications like spam detection where missing a positive case (e.g., failing to identify a spam email) can be more problematic than falsely identifying a negative case as positive.\n",
    "- cv = 5 specifies that 5-fold cross-validation is used. This means the data is split into 5 parts; in each iteration, 4 parts are used for training and 1 part is used for testing, cycling through all parts.\n",
    "- n_jobs=-1 tells GridSearchCV to use all available CPU cores to perform the computations in parallel, speeding up the grid search process.\n",
    "- verbose=1 provides detailed output about the progress of the grid search."
   ]
  },
  {
   "cell_type": "markdown",
   "id": "a11791fb-23b2-4ad0-ad07-0b6a95494602",
   "metadata": {},
   "source": [
    "# Fitting the Model"
   ]
  },
  {
   "cell_type": "markdown",
   "id": "8c35eacf-1226-47ae-ac4c-a62daaf63807",
   "metadata": {},
   "source": [
    "This line trains the GridSearchCV instance on the dataset, where data.text contains the text to be classified, and data.spam indicates the class labels (e.g., spam or not spam)."
   ]
  },
  {
   "cell_type": "markdown",
   "id": "775b2d69-799a-482d-974e-be1a9e03696c",
   "metadata": {},
   "source": [
    "# Results"
   ]
  },
  {
   "cell_type": "markdown",
   "id": "32d6ee02-c6ad-4696-986f-00a5bd07e501",
   "metadata": {},
   "source": [
    "- After fitting, grid_search.best_score_ provides the best recall score achieved across all parameter combinations.\n",
    "- grid_search.best_params_ shows the parameters that led to the best recall score, helping you understand which configuration of ngram_range and alpha is most effective for your classification task."
   ]
  },
  {
   "cell_type": "markdown",
   "id": "80ad0b87-bb98-4ad3-8714-4bacdcbaf74f",
   "metadata": {},
   "source": [
    "# 4. Topic Modeling and Latent Dirichlet Allocation 🔥"
   ]
  },
  {
   "cell_type": "markdown",
   "id": "0aa73fdb-66ea-44dc-bb23-5121c351fa47",
   "metadata": {},
   "source": [
    "# 4.1. What is LDA?"
   ]
  },
  {
   "cell_type": "markdown",
   "id": "ae62019c-6f0b-452e-8032-16ed6150a2f7",
   "metadata": {},
   "source": [
    "Latent Dirichlet Allocation is a generative statistical model that is used to discover abstract topics within a collection of documents. It belongs to the field of natural language processing and text mining. LDA assumes that documents are produced from a mixture of topics, and those topics generate words based on their probability distribution.\n",
    "\n",
    "Topic Modeling: LDA is used for topic modeling, where the goal is to identify the underlying themes or topics that pervade a large collection of documents. It helps in discovering the hidden thematic structure in a large corpus of text, making it easier to manage, organize, and provide recommendations based on content.\n",
    "\n",
    "Generative Process: In LDA, each document can be seen as a mixture of various topics, and each topic is characterized by a distribution over words. LDA models the generative process of documents, where it assumes a document is created by first choosing a distribution over topics, and then for each word in the document, a topic is chosen based on this distribution, and finally, a word is selected from the chosen topic."
   ]
  },
  {
   "cell_type": "markdown",
   "id": "ae9f7deb-0b49-43be-bc4a-0fc8f28d8943",
   "metadata": {},
   "source": [
    "# LDA is an unsupervised..."
   ]
  },
  {
   "cell_type": "markdown",
   "id": "ee0c1ac6-1917-410e-bc53-dfc0b74e51f6",
   "metadata": {},
   "source": [
    "# 👇 Consider the following documents:"
   ]
  },
  {
   "cell_type": "markdown",
   "id": "7771760b-51ec-403d-b519-b0a64e1d067c",
   "metadata": {},
   "source": [
    "# Input and Output"
   ]
  },
  {
   "cell_type": "markdown",
   "id": "4a7f6d9a-cf7d-4d40-b406-15e565905bdf",
   "metadata": {},
   "source": [
    "Given your description, you're referring to **Latent Dirichlet Allocation (LDA)**, a type of topic modeling used in natural language processing and text mining to uncover hidden thematic structures within a collection of documents. LDA is an unsupervised learning algorithm that identifies topics based on the distribution of words across a set of documents. Here's a breakdown of the inputs and outputs of the LDA process as you've described:\n",
    "\n",
    "### Inputs for LDA:\n",
    "\n",
    "1. **Document-term matrix**: This is a matrix representation of the corpus, where each row corresponds to a document and each column represents a unique word in the corpus. The values in the matrix typically represent the frequency of each word in each document, though they can also be binary (denoting the presence or absence of a word) or TF-IDF (Term Frequency-Inverse Document Frequency) scores.\n",
    "\n",
    "2. **Number of topics**: This is a predefined number indicating how many distinct topics you expect the algorithm to discover within the corpus. The choice of the number of topics can significantly affect the granularity of the topics found by LDA.\n",
    "\n",
    "3. **Bag-of-words format**: The document-term matrix is based on the bag-of-words model, which treats each document as a collection of words without considering the order of words. This simplification is crucial for LDA's operation, focusing on the occurrence of words to infer topics.\n",
    "\n",
    "4. **Number of iterations**: LDA is an iterative algorithm that alternates between two steps: assigning topics to documents and updating the distribution of words associated with each topic. The number of iterations is a parameter that controls how long the algorithm runs, allowing the model to refine its estimates of word-topic and document-topic distributions.\n",
    "\n",
    "### Output of LDA:\n",
    "\n",
    "- **Topics across different documents**: LDA outputs a set of topics, each represented as a distribution over words in the corpus. These topics are essentially clusters of words that frequently occur together across the documents.\n",
    "\n",
    "- **Interpretation as \"non-linear Principal Components\"**: While not a technically precise analogy, thinking of the topics as \"non-linear Principal Components\" can be helpful for intuition. Just as Principal Component Analysis (PCA) identifies the axes (principal components) that maximize the variance in the data, LDA identifies themes (topics) that best capture the distribution of words across documents. However, unlike PCA, which is a linear method, LDA does not rely on linear combinations of original variables (words) and works on the probability distribution over a fixed set of topics.\n",
    "\n",
    "Each document in the corpus is then represented as a mixture of these topics, where the contribution of each topic to a document is expressed as a probability. This allows for a nuanced understanding of the themes that pervade the corpus and how each document relates to those themes."
   ]
  },
  {
   "cell_type": "markdown",
   "id": "acfc8267-423f-4dea-96f2-b58d7c04d4f0",
   "metadata": {},
   "source": [
    "# 4.2. 💻 Implementation of the LDA"
   ]
  },
  {
   "cell_type": "markdown",
   "id": "8ad6fbb5-bbc6-40e9-b419-d28d18d5fa50",
   "metadata": {},
   "source": [
    "# 👇 Remember our original documents?"
   ]
  },
  {
   "cell_type": "markdown",
   "id": "7c530c8c-3b68-443e-9721-acab0d157895",
   "metadata": {},
   "source": [
    "# 4.2.1. 💻 Cleaning the dataset"
   ]
  },
  {
   "cell_type": "markdown",
   "id": "1b4dd716-c9ff-4bf6-b8c1-ea97a76dbb05",
   "metadata": {},
   "source": [
    "# apply"
   ]
  },
  {
   "cell_type": "markdown",
   "id": "f3a47e3c-8239-453c-b2fa-c6e44e7ffc9f",
   "metadata": {},
   "source": [
    "- .apply(cleaning): The .apply() method is used to apply a function along an axis of the DataFrame or Series. In this case, it's applied to the Series of documents. The cleaning function is a user-defined function that you're applying to each document in the Series. This function is expected to perform certain cleaning operations on the text data, such as:\n",
    "\n",
    "- Removing special characters, punctuation, or numbers.\n",
    "- Lowercasing all the text to maintain consistency.\n",
    "- Removing stopwords (common words that add little value to text analysis, like \"the\", \"is\", \"in\", etc.).\n",
    "- Stemming or lemmatization (reducing words to their root form or base form).\n",
    "- cleaned_documents = ...: The result of applying the cleaning function to each document is assigned back to a variable named cleaned_documents. This variable now holds a Series where each document has been processed by the cleaning function."
   ]
  },
  {
   "cell_type": "markdown",
   "id": "b5bc053a-db46-4e49-a497-a145b9aa011a",
   "metadata": {},
   "source": [
    "# 4.2.2. 💻 Vectorizing"
   ]
  },
  {
   "cell_type": "markdown",
   "id": "25be6dcb-09a8-41ae-b505-9df2295cdb9b",
   "metadata": {},
   "source": [
    "# 4.3.3 💻 Finding the topics"
   ]
  },
  {
   "cell_type": "markdown",
   "id": "1e041a27-9f0f-426e-89b2-ee4e1cd02009",
   "metadata": {},
   "source": [
    "`from sklearn.decomposition import LatentDirichletAllocation`\n",
    "- This line imports the LatentDirichletAllocation class from the decomposition module of the scikit-learn library. Scikit-learn is a popular machine learning library in Python that provides a wide range of algorithms for classification, regression, clustering, and dimensionality reduction, including LDA for topic modeling."
   ]
  },
  {
   "cell_type": "markdown",
   "id": "c43b8bf3-cc97-43e8-9908-3ca56e56c4ef",
   "metadata": {},
   "source": [
    "`n_components = 2`<br>\n",
    "`lda_model = LatentDirichletAllocation(n_components=n_components, max_iter = 100)`\n",
    "\n",
    "- n_components: This parameter specifies the number of topics to extract from the documents. In this case, n_components = 2 means the model will identify 2 distinct topics.\n",
    "- max_iter: This parameter defines the maximum number of iterations the algorithm will run to converge towards the optimal solution. Here, max_iter = 100 sets a limit of 100 iterations.\n",
    "- An instance of LatentDirichletAllocation is created with these parameters, and it's stored in the variable lda_model. This instance is configured to identify 2 topics from the data and will iterate up to 100 times to optimize its internal topic distribution models.\n"
   ]
  },
  {
   "cell_type": "markdown",
   "id": "258d7c92-b148-4325-8b17-35254a044398",
   "metadata": {},
   "source": [
    "`lda_model.fit(vectorized_documents)`<br>\n",
    "Before fitting the LDA model, the documents must be converted into a numerical format that the algorithm can process. This is typically done using vectorization techniques like Count Vectorizer or TF-IDF Vectorizer, which transform the text documents into a document-term matrix.\n",
    "\n",
    "- vectorized_documents: This variable is expected to contain the vectorized form of the documents, representing the document-term matrix. Each row in this matrix corresponds to a document, and each column represents a term (or word) from the corpus. The values in the matrix might be raw term frequencies or TF-IDF scores, depending on the vectorization technique used.\n",
    "- The .fit() method is then called on lda_model with vectorized_documents as its argument. This method fits the LDA model to the document-term matrix, allowing the model to learn the distribution of topics across documents and the distribution of words across topics."
   ]
  },
  {
   "cell_type": "markdown",
   "id": "af224ab2-f3c7-4994-a720-466d382741bd",
   "metadata": {},
   "source": [
    "After fitting, the lda_model object can be used to inspect the topics discovered in the documents, the distribution of topics in each document, and the words that are most representative of each topic. This is invaluable for understanding the latent thematic structure of a large corpus, summarizing content, and organizing or categorizing documents based on their dominant topics."
   ]
  },
  {
   "cell_type": "markdown",
   "id": "04f563d3-7105-4c69-b341-f543b9de70b1",
   "metadata": {},
   "source": [
    "# Document Mixture of topics"
   ]
  },
  {
   "cell_type": "markdown",
   "id": "2bf25b27-6e46-47a4-a9e1-abd17c4b83d9",
   "metadata": {},
   "source": [
    "The line of code you've provided is using the transform method of the LatentDirichletAllocation (LDA) model from the scikit-learn library on a set of vectorized documents. This method is applied after the LDA model has been fitted to the document-term matrix. Here's what happens during this step:\n",
    "\n",
    "Transform Method in LDA\n",
    "Purpose: The transform method is used to infer the topic distribution for each document in the dataset based on the LDA model learned from the data. It essentially assigns each document a mixture of topics, where each topic contributes a certain proportion to the document.\n",
    "\n",
    "Process: The LDA model, which has already learned the topic-word distributions (how words are distributed across topics) during the fitting process, now uses this information to determine the distribution of topics in each document. It does this by examining the words in each document and their corresponding weights in the context of the learned topic-word distributions.\n",
    "\n",
    "Output: Document-Topic Mixture\n",
    "document_topic_mixture: This variable will contain the output from the transform method, which is a matrix where each row corresponds to a document in the original dataset, and each column represents a topic. The values in this matrix are proportions that sum to 1 for each row, indicating the weight or contribution of each topic to the corresponding document.\n",
    "\n",
    "For example, if there are 2 topics (as specified by n_components=2 in your LDA model), and you have 100 documents, document_topic_mixture will be a 100x2 matrix. Each row of this matrix will have two values that sum to 1, indicating the proportion of each of the two topics in each document."
   ]
  },
  {
   "cell_type": "markdown",
   "id": "0f0656ff-5387-4a57-bfd7-1b94a9ea7385",
   "metadata": {},
   "source": [
    "# Topic Mixture of words"
   ]
  },
  {
   "cell_type": "markdown",
   "id": "b9a328e7-3306-4b6f-bba3-7f44864a4c02",
   "metadata": {},
   "source": [
    "Improving topic modeling, especially when using methods like Latent Dirichlet Allocation (LDA), can depend on several factors, including the quality and quantity of your data, the parameters you choose for the model, and how you preprocess your text data.\n",
    "\n",
    "1. Increasing the Number of Sentences\n",
    "Increasing the number of sentences, or more broadly, the amount of text data available for topic modeling, can significantly improve the model's performance. More data provides the model with a better opportunity to learn the distribution of words across topics and the distribution of topics across documents. However, the benefits of adding more data may plateau beyond a certain point, especially if the additional data does not introduce new information or variations in topics.\n",
    "\n",
    "2. Increasing the Number of Iterations\n",
    "The number of iterations refers to how many times the LDA algorithm will cycle through the entire dataset to adjust the topic assignments based on the data and the model's current state. Increasing the number of iterations can lead to a more stable and accurate model, as it allows more opportunities for the model to refine its understanding of how words are associated with topics. However, there's a trade-off: more iterations also mean more computational time and resources, and beyond a certain point, additional iterations may not yield significant improvements.\n",
    "\n",
    "**Additional Ways to Improve Topic Modeling**\n",
    "\n",
    "Optimizing Model Parameters: Beyond just increasing iterations, tuning other model parameters (like n_components for the number of topics, learning_decay for controlling the learning rate, etc.) can also improve model performance.\n",
    "\n",
    "Better Preprocessing: Cleaning the text data more effectively (removing stop words, applying stemming or lemmatization, and excluding too frequent or too rare words) can help the model focus on more meaningful patterns.\n",
    "\n",
    "Feature Selection: Using techniques like TF-IDF (Term Frequency-Inverse Document Frequency) instead of raw counts for vectorization can help emphasize more informative words.\n",
    "\n",
    "Evaluating Topic Coherence: Using metrics like topic coherence to evaluate the quality of the topics generated by the model can guide adjustments to the preprocessing steps or model parameters for better interpretability and relevance of topics."
   ]
  },
  {
   "cell_type": "markdown",
   "id": "da2f8d00-6417-4719-852b-a4dda740e004",
   "metadata": {},
   "source": [
    "# 🕵🏻 What are the five most relevant words for each topic?"
   ]
  },
  {
   "cell_type": "markdown",
   "id": "97c185d8-a394-4de4-8341-751dbfae9a39",
   "metadata": {},
   "source": [
    "Your `print_topics` function is designed to display the top words associated with each topic identified by an LDA model, along with their corresponding weights. This function is very useful for interpreting the results of topic modeling by identifying which words are most characteristic or relevant for each topic. Here's a breakdown of how the function works:\n",
    "\n",
    "### Steps in the `print_topics` Function\n",
    "\n",
    "1. **Topic Mixture of Words for Each Topic**:\n",
    "   - The function begins by creating a DataFrame called `topic_mixture` from `lda_model.components_`. This attribute of the LDA model contains the word-topic matrix, where each entry (i, j) represents the importance of word j in topic i.\n",
    "   - The columns of the DataFrame are set to the names of the features (words) in the document-term matrix, retrieved using `vectorizer.get_feature_names_out()`.\n",
    "\n",
    "2. **Finding the Top Words for Each Topic**:\n",
    "   - The function then calculates the number of topics (`n_components`) by getting the number of rows in `topic_mixture`, which corresponds to the number of topics the LDA model was asked to identify.\n",
    "   - It iterates over each topic, printing a header for the topic and then finding the top words for that topic.\n",
    "     - For each topic, it selects the corresponding row from `topic_mixture` and sorts it in descending order to bring the most relevant (or highest weighted) words to the top.\n",
    "     - It uses `.head(top_words)` to select the specified number of `top_words` from this sorted list.\n",
    "   - Finally, it prints the top words for the topic, along with their weights, rounded to three decimal places for readability.\n",
    "\n",
    "### Usage\n",
    "\n",
    "To use this function, you simply need to pass in the fitted LDA model (`lda_model`), the vectorizer used to transform your documents (`vectorizer`), and the number of top words you wish to display for each topic (`top_words`). For example, if you want to see the five most relevant words for each topic, you would call `print_topics(lda_model, vectorizer, 5)`.\n",
    "\n",
    "### Output\n",
    "\n",
    "The output will consist of a series of blocks, each corresponding to one of the topics identified by the LDA model. Within each block, you'll see the top words for that topic along with their weights, indicating the relative importance or contribution of each word to the topic. This information can be invaluable for understanding the thematic focus of each topic and for interpreting the overall results of the topic modeling process."
   ]
  },
  {
   "cell_type": "markdown",
   "id": "4de9c00b-54d8-4c85-a25f-896eb6f61f1d",
   "metadata": {},
   "source": [
    "# `print_topics(lda_model, vectorizer, 5)`"
   ]
  },
  {
   "cell_type": "markdown",
   "id": "848e62b2-8185-41f6-b49e-58c79812f57a",
   "metadata": {},
   "source": [
    "The output of the `print_topics` function you've shared provides insights into the composition of topics identified by the Latent Dirichlet Allocation (LDA) model applied to a collection of documents. This function has displayed the five most relevant or characteristic words for each of two topics, along with their corresponding weights. Here's what this tells us about the topics and the function itself:\n",
    "\n",
    "### Interpretation of the Output\n",
    "\n",
    "- **Topic 0**: This topic seems to be related to animals and perhaps affection or cuteness, as indicated by words like \"kitten,\" \"fluffy,\" \"puppies,\" and \"love.\" The word \"strawberries\" might seem out of place in this context, suggesting that the documents might have mixed content or that there's some association in the data between animals and strawberries (perhaps in the context of things people love). The weights indicate the relative importance of these words within the topic, with \"kitten\" being the most significant.\n",
    "\n",
    "- **Topic 1**: This topic appears to focus on items related to a healthy or green lifestyle, possibly smoothies or health foods, given words like \"kiwi,\" \"smoothie,\" \"spinach.\" The presence of \"frog\" and \"live\" might suggest content related to nature or living things, or it could reflect a less cohesive topic if the documents contain varied content. As with Topic 0, the weights provide a sense of how central each word is to the theme of the topic.\n",
    "\n",
    "### Understanding the Weights\n",
    "\n",
    "The weights next to each word represent the word's importance or contribution to the topic. In LDA, these weights are derived from how frequently the words appear in documents associated with the topic, adjusted by how common they are across all documents (to prioritize words that are more specific to the topic). A higher weight means the word is more characteristic or defining of that topic within the context of the dataset.\n",
    "\n",
    "### Implications\n",
    "\n",
    "This output is crucial for understanding what the LDA model has learned from the data:\n",
    "\n",
    "- **Topic Coherence**: The relevance and coherence of the words within each topic can give you an idea of how well the LDA model is performing. Coherent topics have top words that make sense together, suggesting the model is effectively capturing meaningful patterns in the data.\n",
    "\n",
    "- **Dataset Insights**: By examining the top words for each topic, you can gain insights into the underlying themes or subjects present in your dataset. This can be particularly valuable for exploratory data analysis, content categorization, or feature engineering for further machine learning tasks.\n",
    "\n",
    "- **Model Tuning**: If the topics seem incoherent or not useful, it might indicate a need to adjust the model parameters (like the number of topics), improve data preprocessing (e.g., removing irrelevant words), or collect more data. It could also suggest exploring different values for `n_components` (number of topics) or `max_iter` (number of iterations for convergence) in the LDA model setup.\n",
    "\n",
    "The `print_topics` function thus serves as a valuable tool for both qualitative evaluation of the LDA model's performance and for gaining thematic insights into the text corpus being analyzed."
   ]
  },
  {
   "cell_type": "markdown",
   "id": "511933c6-e3c3-49bf-b32a-43808fbf3cd6",
   "metadata": {},
   "source": [
    "# 2️⃣ Go through every word and its topic assignment in each document"
   ]
  },
  {
   "cell_type": "markdown",
   "id": "4a213f1e-7f68-4a5c-9156-69b3ad4b88fa",
   "metadata": {},
   "source": [
    "This process is part of the inner workings of the Latent Dirichlet Allocation LDA - LDA is a generative probabilistic model that assumes each document in a corpus can be represented as a mixture of various topics, and each topic, in turn, is characterized by a distribution over words. The goal of LDA is to learn these distributions: specifically, the distribution of topics in each document and the distribution of words in each topic. Let's break down the steps you've outlined:"
   ]
  },
  {
   "attachments": {
    "52f1e902-bc6c-4976-9686-48d3ceea592e.png": {
     "image/png": "[encoded data removed]"
    }
   },
   "cell_type": "markdown",
   "id": "1b4245f6-3dbf-4086-96b5-d20425069523",
   "metadata": {},
   "source": [
    "![2024-02-20_08-09-57.png](attachment:52f1e902-bc6c-4976-9686-48d3ceea592e.png)"
   ]
  },
  {
   "cell_type": "markdown",
   "id": "a321b5bf-ee53-4c6a-8f4a-4d495d3bbd1c",
   "metadata": {},
   "source": [
    "# Document Mixture (of Topics)"
   ]
  },
  {
   "attachments": {
    "0a25abba-7f86-4a2a-bf87-760b096b7e53.png": {
     "image/png": "[encoded data removed]"
    }
   },
   "cell_type": "markdown",
   "id": "1161ed5d-b8ec-41fe-8cb0-c9ce1ac95647",
   "metadata": {},
   "source": [
    "![2024-02-20_08-15-28.png](attachment:0a25abba-7f86-4a2a-bf87-760b096b7e53.png)"
   ]
  },
  {
   "cell_type": "markdown",
   "id": "b7a48921-8328-46f0-9500-9ae58b30fb69",
   "metadata": {},
   "source": [
    "# Topic Mixture (of Words)"
   ]
  },
  {
   "attachments": {
    "92e8f0cb-6353-4ba5-9162-671a8db98ffd.png": {
     "image/png": "[encoded data removed]"
    }
   },
   "cell_type": "markdown",
   "id": "203b7107-c5f8-488a-94c8-3f7efe1141b8",
   "metadata": {},
   "source": [
    "![2024-02-20_08-20-27.png](attachment:92e8f0cb-6353-4ba5-9162-671a8db98ffd.png)"
   ]
  },
  {
   "cell_type": "code",
   "execution_count": null,
   "id": "1cd5a94a-d4fa-4896-8827-0d300a2e6f48",
   "metadata": {},
   "outputs": [],
   "source": []
  }
 ],
 "metadata": {
  "kernelspec": {
   "display_name": "Python 3 (ipykernel)",
   "language": "python",
   "name": "python3"
  },
  "language_info": {
   "codemirror_mode": {
    "name": "ipython",
    "version": 3
   },
   "file_extension": ".py",
   "mimetype": "text/x-python",
   "name": "python",
   "nbconvert_exporter": "python",
   "pygments_lexer": "ipython3",
   "version": "3.10.6"
  }
 },
 "nbformat": 4,
 "nbformat_minor": 5
}
