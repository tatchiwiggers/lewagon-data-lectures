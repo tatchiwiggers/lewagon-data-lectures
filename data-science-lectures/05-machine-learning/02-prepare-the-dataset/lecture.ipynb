{
 "cells": [
  {
   "cell_type": "markdown",
   "id": "baf9bd54-e0ed-45bf-abce-6de20e8616da",
   "metadata": {},
   "source": [
    "# Data Preparation"
   ]
  },
  {
   "attachments": {
    "d63c0519-20bf-410b-b0f2-2529e808312d.png": {
     "image/png": "[encoded data removed]"
    }
   },
   "cell_type": "markdown",
   "id": "b1e62de9-3bcb-459e-afa8-58f07e69dcda",
   "metadata": {},
   "source": [
    "![ZJcBQkF6W3.png](attachment:d63c0519-20bf-410b-b0f2-2529e808312d.png)"
   ]
  },
  {
   "cell_type": "markdown",
   "id": "b7f727fa-0851-43c9-9eb7-176814b61058",
   "metadata": {
    "tags": []
   },
   "source": [
    "### The Holdout Method in Scikit-Learn"
   ]
  },
  {
   "cell_type": "code",
   "execution_count": 1,
   "id": "2e4cc75d-8371-48cb-b21b-cecbf323f8ec",
   "metadata": {},
   "outputs": [
    {
     "data": {
      "text/html": [
       "<div>\n",
       "<style scoped>\n",
       "    .dataframe tbody tr th:only-of-type {\n",
       "        vertical-align: middle;\n",
       "    }\n",
       "\n",
       "    .dataframe tbody tr th {\n",
       "        vertical-align: top;\n",
       "    }\n",
       "\n",
       "    .dataframe thead th {\n",
       "        text-align: right;\n",
       "    }\n",
       "</style>\n",
       "<table border=\"1\" class=\"dataframe\">\n",
       "  <thead>\n",
       "    <tr style=\"text-align: right;\">\n",
       "      <th></th>\n",
       "      <th>Id</th>\n",
       "      <th>MSSubClass</th>\n",
       "      <th>MSZoning</th>\n",
       "      <th>LotFrontage</th>\n",
       "      <th>LotArea</th>\n",
       "      <th>Street</th>\n",
       "      <th>Alley</th>\n",
       "      <th>LotShape</th>\n",
       "      <th>LandContour</th>\n",
       "      <th>Utilities</th>\n",
       "      <th>...</th>\n",
       "      <th>PoolArea</th>\n",
       "      <th>PoolQC</th>\n",
       "      <th>Fence</th>\n",
       "      <th>MiscFeature</th>\n",
       "      <th>MiscVal</th>\n",
       "      <th>MoSold</th>\n",
       "      <th>YrSold</th>\n",
       "      <th>SaleType</th>\n",
       "      <th>SaleCondition</th>\n",
       "      <th>SalePrice</th>\n",
       "    </tr>\n",
       "  </thead>\n",
       "  <tbody>\n",
       "    <tr>\n",
       "      <th>0</th>\n",
       "      <td>1</td>\n",
       "      <td>60</td>\n",
       "      <td>RL</td>\n",
       "      <td>65.0</td>\n",
       "      <td>8450</td>\n",
       "      <td>Pave</td>\n",
       "      <td>NaN</td>\n",
       "      <td>Reg</td>\n",
       "      <td>Lvl</td>\n",
       "      <td>AllPub</td>\n",
       "      <td>...</td>\n",
       "      <td>0</td>\n",
       "      <td>NaN</td>\n",
       "      <td>NaN</td>\n",
       "      <td>NaN</td>\n",
       "      <td>0</td>\n",
       "      <td>2</td>\n",
       "      <td>2008</td>\n",
       "      <td>WD</td>\n",
       "      <td>Normal</td>\n",
       "      <td>208500</td>\n",
       "    </tr>\n",
       "    <tr>\n",
       "      <th>1</th>\n",
       "      <td>2</td>\n",
       "      <td>20</td>\n",
       "      <td>RL</td>\n",
       "      <td>80.0</td>\n",
       "      <td>9600</td>\n",
       "      <td>Pave</td>\n",
       "      <td>NaN</td>\n",
       "      <td>Reg</td>\n",
       "      <td>Lvl</td>\n",
       "      <td>AllPub</td>\n",
       "      <td>...</td>\n",
       "      <td>0</td>\n",
       "      <td>NaN</td>\n",
       "      <td>NaN</td>\n",
       "      <td>NaN</td>\n",
       "      <td>0</td>\n",
       "      <td>5</td>\n",
       "      <td>2007</td>\n",
       "      <td>WD</td>\n",
       "      <td>Normal</td>\n",
       "      <td>181500</td>\n",
       "    </tr>\n",
       "    <tr>\n",
       "      <th>2</th>\n",
       "      <td>3</td>\n",
       "      <td>60</td>\n",
       "      <td>RL</td>\n",
       "      <td>68.0</td>\n",
       "      <td>11250</td>\n",
       "      <td>Pave</td>\n",
       "      <td>NaN</td>\n",
       "      <td>IR1</td>\n",
       "      <td>Lvl</td>\n",
       "      <td>AllPub</td>\n",
       "      <td>...</td>\n",
       "      <td>0</td>\n",
       "      <td>NaN</td>\n",
       "      <td>NaN</td>\n",
       "      <td>NaN</td>\n",
       "      <td>0</td>\n",
       "      <td>9</td>\n",
       "      <td>2008</td>\n",
       "      <td>WD</td>\n",
       "      <td>Normal</td>\n",
       "      <td>223500</td>\n",
       "    </tr>\n",
       "    <tr>\n",
       "      <th>3</th>\n",
       "      <td>4</td>\n",
       "      <td>70</td>\n",
       "      <td>RL</td>\n",
       "      <td>60.0</td>\n",
       "      <td>9550</td>\n",
       "      <td>Pave</td>\n",
       "      <td>NaN</td>\n",
       "      <td>IR1</td>\n",
       "      <td>Lvl</td>\n",
       "      <td>AllPub</td>\n",
       "      <td>...</td>\n",
       "      <td>0</td>\n",
       "      <td>NaN</td>\n",
       "      <td>NaN</td>\n",
       "      <td>NaN</td>\n",
       "      <td>0</td>\n",
       "      <td>2</td>\n",
       "      <td>2006</td>\n",
       "      <td>WD</td>\n",
       "      <td>Abnorml</td>\n",
       "      <td>140000</td>\n",
       "    </tr>\n",
       "    <tr>\n",
       "      <th>4</th>\n",
       "      <td>5</td>\n",
       "      <td>60</td>\n",
       "      <td>RL</td>\n",
       "      <td>84.0</td>\n",
       "      <td>14260</td>\n",
       "      <td>Pave</td>\n",
       "      <td>NaN</td>\n",
       "      <td>IR1</td>\n",
       "      <td>Lvl</td>\n",
       "      <td>AllPub</td>\n",
       "      <td>...</td>\n",
       "      <td>0</td>\n",
       "      <td>NaN</td>\n",
       "      <td>NaN</td>\n",
       "      <td>NaN</td>\n",
       "      <td>0</td>\n",
       "      <td>12</td>\n",
       "      <td>2008</td>\n",
       "      <td>WD</td>\n",
       "      <td>Normal</td>\n",
       "      <td>250000</td>\n",
       "    </tr>\n",
       "  </tbody>\n",
       "</table>\n",
       "<p>5 rows × 85 columns</p>\n",
       "</div>"
      ],
      "text/plain": [
       "   Id  MSSubClass MSZoning  LotFrontage  LotArea Street Alley LotShape  \\\n",
       "0   1          60       RL         65.0     8450   Pave   NaN      Reg   \n",
       "1   2          20       RL         80.0     9600   Pave   NaN      Reg   \n",
       "2   3          60       RL         68.0    11250   Pave   NaN      IR1   \n",
       "3   4          70       RL         60.0     9550   Pave   NaN      IR1   \n",
       "4   5          60       RL         84.0    14260   Pave   NaN      IR1   \n",
       "\n",
       "  LandContour Utilities  ... PoolArea PoolQC Fence MiscFeature MiscVal MoSold  \\\n",
       "0         Lvl    AllPub  ...        0    NaN   NaN         NaN       0      2   \n",
       "1         Lvl    AllPub  ...        0    NaN   NaN         NaN       0      5   \n",
       "2         Lvl    AllPub  ...        0    NaN   NaN         NaN       0      9   \n",
       "3         Lvl    AllPub  ...        0    NaN   NaN         NaN       0      2   \n",
       "4         Lvl    AllPub  ...        0    NaN   NaN         NaN       0     12   \n",
       "\n",
       "  YrSold  SaleType  SaleCondition  SalePrice  \n",
       "0   2008        WD         Normal     208500  \n",
       "1   2007        WD         Normal     181500  \n",
       "2   2008        WD         Normal     223500  \n",
       "3   2006        WD        Abnorml     140000  \n",
       "4   2008        WD         Normal     250000  \n",
       "\n",
       "[5 rows x 85 columns]"
      ]
     },
     "execution_count": 1,
     "metadata": {},
     "output_type": "execute_result"
    }
   ],
   "source": [
    "import pandas as pd\n",
    "\n",
    "data = pd.read_csv('data/ML_Houses_dataset.csv')\n",
    "data.head()"
   ]
  },
  {
   "cell_type": "code",
   "execution_count": 2,
   "id": "2a85f64f-6def-4c1e-9ead-c9617d247298",
   "metadata": {},
   "outputs": [
    {
     "data": {
      "text/html": [
       "<div>\n",
       "<style scoped>\n",
       "    .dataframe tbody tr th:only-of-type {\n",
       "        vertical-align: middle;\n",
       "    }\n",
       "\n",
       "    .dataframe tbody tr th {\n",
       "        vertical-align: top;\n",
       "    }\n",
       "\n",
       "    .dataframe thead th {\n",
       "        text-align: right;\n",
       "    }\n",
       "</style>\n",
       "<table border=\"1\" class=\"dataframe\">\n",
       "  <thead>\n",
       "    <tr style=\"text-align: right;\">\n",
       "      <th></th>\n",
       "      <th>GrLivArea</th>\n",
       "      <th>BedroomAbvGr</th>\n",
       "      <th>KitchenAbvGr</th>\n",
       "      <th>OverallCond</th>\n",
       "      <th>Pesos</th>\n",
       "      <th>Alley</th>\n",
       "      <th>Street</th>\n",
       "      <th>WallMat</th>\n",
       "      <th>SalePrice</th>\n",
       "    </tr>\n",
       "  </thead>\n",
       "  <tbody>\n",
       "    <tr>\n",
       "      <th>0</th>\n",
       "      <td>1710</td>\n",
       "      <td>3</td>\n",
       "      <td>1</td>\n",
       "      <td>5</td>\n",
       "      <td>4170000.0</td>\n",
       "      <td>NaN</td>\n",
       "      <td>Pave</td>\n",
       "      <td>Concrete</td>\n",
       "      <td>208500</td>\n",
       "    </tr>\n",
       "    <tr>\n",
       "      <th>1</th>\n",
       "      <td>1262</td>\n",
       "      <td>3</td>\n",
       "      <td>1</td>\n",
       "      <td>8</td>\n",
       "      <td>3630000.0</td>\n",
       "      <td>NaN</td>\n",
       "      <td>Pave</td>\n",
       "      <td>Wood</td>\n",
       "      <td>181500</td>\n",
       "    </tr>\n",
       "    <tr>\n",
       "      <th>2</th>\n",
       "      <td>1786</td>\n",
       "      <td>3</td>\n",
       "      <td>1</td>\n",
       "      <td>5</td>\n",
       "      <td>4470000.0</td>\n",
       "      <td>NaN</td>\n",
       "      <td>Pave</td>\n",
       "      <td>Wood</td>\n",
       "      <td>223500</td>\n",
       "    </tr>\n",
       "    <tr>\n",
       "      <th>3</th>\n",
       "      <td>1717</td>\n",
       "      <td>3</td>\n",
       "      <td>1</td>\n",
       "      <td>5</td>\n",
       "      <td>2800000.0</td>\n",
       "      <td>NaN</td>\n",
       "      <td>Pave</td>\n",
       "      <td>Concrete</td>\n",
       "      <td>140000</td>\n",
       "    </tr>\n",
       "    <tr>\n",
       "      <th>4</th>\n",
       "      <td>2198</td>\n",
       "      <td>4</td>\n",
       "      <td>1</td>\n",
       "      <td>5</td>\n",
       "      <td>5000000.0</td>\n",
       "      <td>NaN</td>\n",
       "      <td>Pave</td>\n",
       "      <td>Concrete</td>\n",
       "      <td>250000</td>\n",
       "    </tr>\n",
       "  </tbody>\n",
       "</table>\n",
       "</div>"
      ],
      "text/plain": [
       "   GrLivArea  BedroomAbvGr  KitchenAbvGr  OverallCond      Pesos Alley Street  \\\n",
       "0       1710             3             1            5  4170000.0   NaN   Pave   \n",
       "1       1262             3             1            8  3630000.0   NaN   Pave   \n",
       "2       1786             3             1            5  4470000.0   NaN   Pave   \n",
       "3       1717             3             1            5  2800000.0   NaN   Pave   \n",
       "4       2198             4             1            5  5000000.0   NaN   Pave   \n",
       "\n",
       "    WallMat  SalePrice  \n",
       "0  Concrete     208500  \n",
       "1      Wood     181500  \n",
       "2      Wood     223500  \n",
       "3  Concrete     140000  \n",
       "4  Concrete     250000  "
      ]
     },
     "execution_count": 2,
     "metadata": {},
     "output_type": "execute_result"
    }
   ],
   "source": [
    "data = data[['GrLivArea',\n",
    "             'BedroomAbvGr',\n",
    "             'KitchenAbvGr',\n",
    "             'OverallCond',\n",
    "             'Pesos',\n",
    "             'Alley',\n",
    "             'Street',\n",
    "             'WallMat',\n",
    "             'SalePrice']]\n",
    "\n",
    "data.head()"
   ]
  },
  {
   "cell_type": "markdown",
   "id": "805b5f85-b224-4f29-9f56-92d84e492dd3",
   "metadata": {},
   "source": [
    "### Duplicates\n",
    "Unwwanted duplicated observations can discredit the performance evaluation of a model"
   ]
  },
  {
   "cell_type": "code",
   "execution_count": 3,
   "id": "4e4ecabd-4d79-4e75-9cfa-49e677a50f7b",
   "metadata": {},
   "outputs": [
    {
     "data": {
      "text/html": [
       "<div>\n",
       "<style scoped>\n",
       "    .dataframe tbody tr th:only-of-type {\n",
       "        vertical-align: middle;\n",
       "    }\n",
       "\n",
       "    .dataframe tbody tr th {\n",
       "        vertical-align: top;\n",
       "    }\n",
       "\n",
       "    .dataframe thead th {\n",
       "        text-align: right;\n",
       "    }\n",
       "</style>\n",
       "<table border=\"1\" class=\"dataframe\">\n",
       "  <thead>\n",
       "    <tr style=\"text-align: right;\">\n",
       "      <th></th>\n",
       "      <th>GrLivArea</th>\n",
       "      <th>SalePrice</th>\n",
       "    </tr>\n",
       "  </thead>\n",
       "  <tbody>\n",
       "    <tr>\n",
       "      <th>0</th>\n",
       "      <td>1710</td>\n",
       "      <td>208500</td>\n",
       "    </tr>\n",
       "    <tr>\n",
       "      <th>1</th>\n",
       "      <td>1262</td>\n",
       "      <td>181500</td>\n",
       "    </tr>\n",
       "    <tr>\n",
       "      <th>2</th>\n",
       "      <td>1786</td>\n",
       "      <td>223500</td>\n",
       "    </tr>\n",
       "    <tr>\n",
       "      <th>3</th>\n",
       "      <td>1717</td>\n",
       "      <td>140000</td>\n",
       "    </tr>\n",
       "    <tr>\n",
       "      <th>4</th>\n",
       "      <td>2198</td>\n",
       "      <td>250000</td>\n",
       "    </tr>\n",
       "    <tr>\n",
       "      <th>5</th>\n",
       "      <td>1362</td>\n",
       "      <td>143000</td>\n",
       "    </tr>\n",
       "    <tr>\n",
       "      <th>6</th>\n",
       "      <td>1694</td>\n",
       "      <td>307000</td>\n",
       "    </tr>\n",
       "    <tr>\n",
       "      <th>7</th>\n",
       "      <td>2090</td>\n",
       "      <td>200000</td>\n",
       "    </tr>\n",
       "    <tr>\n",
       "      <th>8</th>\n",
       "      <td>1774</td>\n",
       "      <td>129900</td>\n",
       "    </tr>\n",
       "    <tr>\n",
       "      <th>9</th>\n",
       "      <td>1077</td>\n",
       "      <td>118000</td>\n",
       "    </tr>\n",
       "  </tbody>\n",
       "</table>\n",
       "</div>"
      ],
      "text/plain": [
       "   GrLivArea  SalePrice\n",
       "0       1710     208500\n",
       "1       1262     181500\n",
       "2       1786     223500\n",
       "3       1717     140000\n",
       "4       2198     250000\n",
       "5       1362     143000\n",
       "6       1694     307000\n",
       "7       2090     200000\n",
       "8       1774     129900\n",
       "9       1077     118000"
      ]
     },
     "execution_count": 3,
     "metadata": {},
     "output_type": "execute_result"
    }
   ],
   "source": [
    "data[[\"GrLivArea\",\"SalePrice\"]].head(10)"
   ]
  },
  {
   "cell_type": "markdown",
   "id": "e307f8ed-5831-4b55-8ba5-69a3832287b3",
   "metadata": {},
   "source": [
    "## 1 👥 Duplicates"
   ]
  },
  {
   "cell_type": "markdown",
   "id": "e0a0c276-9880-42e4-9963-711884649166",
   "metadata": {},
   "source": [
    "❓ Duplicated observations can discredit the performance evaluation of a model. Why ❓"
   ]
  },
  {
   "cell_type": "markdown",
   "id": "69c6f429-bb13-478c-8ffd-335bb3db7b6e",
   "metadata": {},
   "source": [
    "⚠️ Data Leakage\n",
    "\n",
    "In order to evaluate a model's ability to generalize, the data in the test set should remain unseen by the algorithm during the training phase.\n",
    "\n",
    "If there are duplicated rows present in both the training set and the test set, this can cause unreliable scores."
   ]
  },
  {
   "cell_type": "markdown",
   "id": "af35e65d-4bfd-4a38-b728-e5abf84023d1",
   "metadata": {},
   "source": [
    "#### 💻 drop_duplicates"
   ]
  },
  {
   "cell_type": "code",
   "execution_count": 4,
   "id": "520806a1-8f09-4756-bd7d-9639dd73832b",
   "metadata": {},
   "outputs": [
    {
     "data": {
      "text/plain": [
       "1760"
      ]
     },
     "execution_count": 4,
     "metadata": {},
     "output_type": "execute_result"
    }
   ],
   "source": [
    "len(data) # Check number of rows before removing duplicates"
   ]
  },
  {
   "cell_type": "code",
   "execution_count": 5,
   "id": "0e039699-d479-43ed-be6b-61f6bde24fe2",
   "metadata": {},
   "outputs": [
    {
     "data": {
      "text/plain": [
       "0       False\n",
       "1       False\n",
       "2       False\n",
       "3       False\n",
       "4       False\n",
       "        ...  \n",
       "1755     True\n",
       "1756     True\n",
       "1757     True\n",
       "1758     True\n",
       "1759     True\n",
       "Length: 1760, dtype: bool"
      ]
     },
     "execution_count": 5,
     "metadata": {},
     "output_type": "execute_result"
    }
   ],
   "source": [
    "data.duplicated() # Check whether a row is a duplicated version of a previous row"
   ]
  },
  {
   "cell_type": "code",
   "execution_count": 6,
   "id": "dff857ef-de5b-43fb-98d2-ab6a64e5fb2e",
   "metadata": {},
   "outputs": [
    {
     "data": {
      "text/plain": [
       "303"
      ]
     },
     "execution_count": 6,
     "metadata": {},
     "output_type": "execute_result"
    }
   ],
   "source": [
    "data.duplicated().sum() # Compute the number of duplicated rows"
   ]
  },
  {
   "cell_type": "code",
   "execution_count": 7,
   "id": "41eaa935-b5d3-4e15-b1fc-bef6fac6a11d",
   "metadata": {},
   "outputs": [
    {
     "data": {
      "text/plain": [
       "1457"
      ]
     },
     "execution_count": 7,
     "metadata": {},
     "output_type": "execute_result"
    }
   ],
   "source": [
    "data = data.drop_duplicates() # Remove duplicates\n",
    "len(data)# Check new number of rows"
   ]
  },
  {
   "cell_type": "markdown",
   "id": "dcf0c399-0eec-4a17-b756-dedc5b66338c",
   "metadata": {},
   "source": [
    "## 2 🔮 Missing Data"
   ]
  },
  {
   "cell_type": "markdown",
   "id": "608fdd1d-2565-48f1-854f-5224ea1d5b4c",
   "metadata": {},
   "source": [
    "#### Common reasons for missing data\n",
    "\n",
    "🧑🏻‍💻 Programming error\n",
    "\n",
    "😕 Failure of measurement (e.g. a patient in a clinical study misses a scheduled visit)\n",
    "\n",
    "🎲 Random events (e.g. meteorological data collection device runs out of power)\n",
    "\n",
    "❌ Incorrect text entries\n",
    "\n",
    "etc..."
   ]
  },
  {
   "cell_type": "markdown",
   "id": "ac68257c-17d3-4bf0-826d-b34989f344da",
   "metadata": {},
   "source": [
    "#### 💻 Detecting missing data"
   ]
  },
  {
   "cell_type": "code",
   "execution_count": 8,
   "id": "dc1fb80b-c35f-4945-9093-bbbc409c0183",
   "metadata": {},
   "outputs": [
    {
     "data": {
      "text/plain": [
       "WallMat         1452\n",
       "Alley           1367\n",
       "Pesos             10\n",
       "GrLivArea          0\n",
       "BedroomAbvGr       0\n",
       "KitchenAbvGr       0\n",
       "OverallCond        0\n",
       "Street             0\n",
       "SalePrice          0\n",
       "dtype: int64"
      ]
     },
     "execution_count": 8,
     "metadata": {},
     "output_type": "execute_result"
    }
   ],
   "source": [
    "# Counting the number of NaN for each column\n",
    "data.isnull().sum().sort_values(ascending=False)"
   ]
  },
  {
   "cell_type": "code",
   "execution_count": 9,
   "id": "855b3dd0-271f-489e-aec7-c2aeea9f878c",
   "metadata": {},
   "outputs": [
    {
     "data": {
      "text/plain": [
       "WallMat         0.996568\n",
       "Alley           0.938229\n",
       "Pesos           0.006863\n",
       "GrLivArea       0.000000\n",
       "BedroomAbvGr    0.000000\n",
       "KitchenAbvGr    0.000000\n",
       "OverallCond     0.000000\n",
       "Street          0.000000\n",
       "SalePrice       0.000000\n",
       "dtype: float64"
      ]
     },
     "execution_count": 9,
     "metadata": {},
     "output_type": "execute_result"
    }
   ],
   "source": [
    "# Counting the percentage of NaN for each column\n",
    "data.isnull().sum().sort_values(ascending=False)/len(data) #NaN percentage for each column"
   ]
  },
  {
   "cell_type": "markdown",
   "id": "4bcd92f1-e974-4b28-a324-54f8165aeb1f",
   "metadata": {},
   "source": [
    "#### Handling the missing data"
   ]
  },
  {
   "cell_type": "markdown",
   "id": "4bc3eb80-c34a-431b-a99c-650f3f8ff258",
   "metadata": {},
   "source": [
    "How you handle missing values will differ from field to field and dataset to dataset.\n",
    "\n",
    "- What might have caused the missing values?\n",
    "- Do the missing values represent a particular story or event?\n",
    "- Can I replace them by another value?\n",
    "- Can I afford to lose any data?"
   ]
  },
  {
   "cell_type": "markdown",
   "id": "2d592661-2669-4a15-af11-7bc104d13e7e",
   "metadata": {},
   "source": [
    "#### WallMat"
   ]
  },
  {
   "cell_type": "code",
   "execution_count": 10,
   "id": "d082c883-92ae-46c1-a2e0-8f4084e21a5c",
   "metadata": {},
   "outputs": [
    {
     "data": {
      "text/plain": [
       "0.9965682910089224"
      ]
     },
     "execution_count": 10,
     "metadata": {},
     "output_type": "execute_result"
    }
   ],
   "source": [
    "# Percentage of missing values in WallMat\n",
    "(data.WallMat.isnull().sum()/len(data))"
   ]
  },
  {
   "cell_type": "code",
   "execution_count": 11,
   "id": "1dae4f20-578a-4b34-a65c-3322e693e9eb",
   "metadata": {},
   "outputs": [
    {
     "data": {
      "text/html": [
       "<div>\n",
       "<style scoped>\n",
       "    .dataframe tbody tr th:only-of-type {\n",
       "        vertical-align: middle;\n",
       "    }\n",
       "\n",
       "    .dataframe tbody tr th {\n",
       "        vertical-align: top;\n",
       "    }\n",
       "\n",
       "    .dataframe thead th {\n",
       "        text-align: right;\n",
       "    }\n",
       "</style>\n",
       "<table border=\"1\" class=\"dataframe\">\n",
       "  <thead>\n",
       "    <tr style=\"text-align: right;\">\n",
       "      <th></th>\n",
       "      <th>GrLivArea</th>\n",
       "      <th>BedroomAbvGr</th>\n",
       "      <th>KitchenAbvGr</th>\n",
       "      <th>OverallCond</th>\n",
       "      <th>Pesos</th>\n",
       "      <th>Alley</th>\n",
       "      <th>Street</th>\n",
       "      <th>SalePrice</th>\n",
       "    </tr>\n",
       "  </thead>\n",
       "  <tbody>\n",
       "    <tr>\n",
       "      <th>0</th>\n",
       "      <td>1710</td>\n",
       "      <td>3</td>\n",
       "      <td>1</td>\n",
       "      <td>5</td>\n",
       "      <td>4170000.0</td>\n",
       "      <td>NaN</td>\n",
       "      <td>Pave</td>\n",
       "      <td>208500</td>\n",
       "    </tr>\n",
       "    <tr>\n",
       "      <th>1</th>\n",
       "      <td>1262</td>\n",
       "      <td>3</td>\n",
       "      <td>1</td>\n",
       "      <td>8</td>\n",
       "      <td>3630000.0</td>\n",
       "      <td>NaN</td>\n",
       "      <td>Pave</td>\n",
       "      <td>181500</td>\n",
       "    </tr>\n",
       "    <tr>\n",
       "      <th>2</th>\n",
       "      <td>1786</td>\n",
       "      <td>3</td>\n",
       "      <td>1</td>\n",
       "      <td>5</td>\n",
       "      <td>4470000.0</td>\n",
       "      <td>NaN</td>\n",
       "      <td>Pave</td>\n",
       "      <td>223500</td>\n",
       "    </tr>\n",
       "    <tr>\n",
       "      <th>3</th>\n",
       "      <td>1717</td>\n",
       "      <td>3</td>\n",
       "      <td>1</td>\n",
       "      <td>5</td>\n",
       "      <td>2800000.0</td>\n",
       "      <td>NaN</td>\n",
       "      <td>Pave</td>\n",
       "      <td>140000</td>\n",
       "    </tr>\n",
       "    <tr>\n",
       "      <th>4</th>\n",
       "      <td>2198</td>\n",
       "      <td>4</td>\n",
       "      <td>1</td>\n",
       "      <td>5</td>\n",
       "      <td>5000000.0</td>\n",
       "      <td>NaN</td>\n",
       "      <td>Pave</td>\n",
       "      <td>250000</td>\n",
       "    </tr>\n",
       "  </tbody>\n",
       "</table>\n",
       "</div>"
      ],
      "text/plain": [
       "   GrLivArea  BedroomAbvGr  KitchenAbvGr  OverallCond      Pesos Alley Street  \\\n",
       "0       1710             3             1            5  4170000.0   NaN   Pave   \n",
       "1       1262             3             1            8  3630000.0   NaN   Pave   \n",
       "2       1786             3             1            5  4470000.0   NaN   Pave   \n",
       "3       1717             3             1            5  2800000.0   NaN   Pave   \n",
       "4       2198             4             1            5  5000000.0   NaN   Pave   \n",
       "\n",
       "   SalePrice  \n",
       "0     208500  \n",
       "1     181500  \n",
       "2     223500  \n",
       "3     140000  \n",
       "4     250000  "
      ]
     },
     "execution_count": 11,
     "metadata": {},
     "output_type": "execute_result"
    }
   ],
   "source": [
    "# 99% is way too high, let's drop this feature\n",
    "data.drop(columns='WallMat', inplace=True) # Drop WallMat column \n",
    "data.head()"
   ]
  },
  {
   "cell_type": "markdown",
   "id": "60d53d30-c7a9-414d-bd3d-df04c1280b55",
   "metadata": {},
   "source": [
    "#### Alley"
   ]
  },
  {
   "cell_type": "code",
   "execution_count": 12,
   "id": "f22a2f4b-053f-4b99-a153-144e28918968",
   "metadata": {},
   "outputs": [
    {
     "data": {
      "text/plain": [
       "93.8229238160604"
      ]
     },
     "execution_count": 12,
     "metadata": {},
     "output_type": "execute_result"
    }
   ],
   "source": [
    "#Percentage of missing values in Alley\n",
    "(data.Alley.isnull().sum()/len(data))*100"
   ]
  },
  {
   "cell_type": "markdown",
   "id": "c7a12b00-aa30-44b3-b412-21fda7b4dd2a",
   "metadata": {},
   "source": [
    "🚨Missing data does not necessarily mean a lack of information!\n",
    "\n",
    "👉 Here, you have to be careful. A NaN simply means that the house doesn't have an Alley."
   ]
  },
  {
   "cell_type": "code",
   "execution_count": 13,
   "id": "0b4e0158-555f-4679-8042-b856e9926248",
   "metadata": {},
   "outputs": [
    {
     "data": {
      "text/plain": [
       "NoAlley    1367\n",
       "Grvl         50\n",
       "Pave         40\n",
       "Name: Alley, dtype: int64"
      ]
     },
     "execution_count": 13,
     "metadata": {},
     "output_type": "execute_result"
    }
   ],
   "source": [
    "import numpy as np\n",
    "\n",
    "data.Alley.replace(np.nan, \"NoAlley\", inplace=True) #Replace NaN by \"NoAlley\"\n",
    "data.Alley.value_counts()#Check count of each category"
   ]
  },
  {
   "cell_type": "markdown",
   "id": "0e1a2c6c-5b0e-466a-a777-407cf77d05b1",
   "metadata": {},
   "source": [
    "#### Pesos"
   ]
  },
  {
   "cell_type": "code",
   "execution_count": 14,
   "id": "cc866f0c-e23a-42c0-84a5-0486d21df966",
   "metadata": {},
   "outputs": [
    {
     "data": {
      "text/plain": [
       "0.0068634179821551134"
      ]
     },
     "execution_count": 14,
     "metadata": {},
     "output_type": "execute_result"
    }
   ],
   "source": [
    "# Percentage of missing values in Pesos\n",
    "(data.Pesos.isnull().sum()/len(data))"
   ]
  },
  {
   "cell_type": "code",
   "execution_count": 15,
   "id": "d73256a4-1eca-43c1-9820-82df4230e08a",
   "metadata": {},
   "outputs": [
    {
     "data": {
      "text/plain": [
       "0       4170000.0\n",
       "1       3630000.0\n",
       "2       4470000.0\n",
       "3       2800000.0\n",
       "4       5000000.0\n",
       "          ...    \n",
       "1455    3500000.0\n",
       "1456    4200000.0\n",
       "1457    5330000.0\n",
       "1458    2842500.0\n",
       "1459    2950000.0\n",
       "Name: Pesos, Length: 1457, dtype: float64"
      ]
     },
     "execution_count": 15,
     "metadata": {},
     "output_type": "execute_result"
    }
   ],
   "source": [
    "# Option 1: Drop rows where Pesos value is missing\n",
    "data.dropna(subset=['Pesos']) \n",
    "\n",
    "# Option 2: Replace missing Pesos values with mean\n",
    "data.Pesos.replace(np.nan, data.Pesos.mean()) "
   ]
  },
  {
   "cell_type": "markdown",
   "id": "58392452-f5d1-42ec-9fdb-0dba86f5e96f",
   "metadata": {},
   "source": [
    "### 💡Suggestions"
   ]
  },
  {
   "cell_type": "markdown",
   "id": "8ae33baa-7821-4a16-bd45-bccb9d7be7b1",
   "metadata": {},
   "source": [
    "More than 30% of missing values:<br>\n",
    "🚮 Potentially drop the feature or the row<br>\n",
    "Less than 30% of missing values:<br>\n",
    "💡 Consider an imputer with a strategy that makes sense (cf. next slides)<br>\n",
    "\n",
    "🚨 Keep in mind that imputing a missing value is an approximation. This can generate potential noise and/or bias for your models."
   ]
  },
  {
   "cell_type": "markdown",
   "id": "80b69343-668f-4676-8816-a3fbaf6399bc",
   "metadata": {},
   "source": [
    " ### 🖥 Sklearn's SimpleImputer<br>\n",
    "With this tool called SimpleImputer, you can replace missing values with a strategy of your choice ( e.g. median, mean, mode, most frequent...)"
   ]
  },
  {
   "cell_type": "code",
   "execution_count": 16,
   "id": "d220f859-86f7-4345-a88e-8a2295e56dad",
   "metadata": {},
   "outputs": [],
   "source": [
    "from sklearn.impute import SimpleImputer\n",
    "\n",
    "# Instantiate a SimpleImputer object with your strategy of choice\n",
    "imputer = SimpleImputer(strategy=\"mean\") "
   ]
  },
  {
   "cell_type": "code",
   "execution_count": 17,
   "id": "ffdac662-9c0e-4f2b-a0d4-2e3c8612d95f",
   "metadata": {},
   "outputs": [
    {
     "data": {
      "text/html": [
       "<style>#sk-container-id-1 {color: black;background-color: white;}#sk-container-id-1 pre{padding: 0;}#sk-container-id-1 div.sk-toggleable {background-color: white;}#sk-container-id-1 label.sk-toggleable__label {cursor: pointer;display: block;width: 100%;margin-bottom: 0;padding: 0.3em;box-sizing: border-box;text-align: center;}#sk-container-id-1 label.sk-toggleable__label-arrow:before {content: \"▸\";float: left;margin-right: 0.25em;color: #696969;}#sk-container-id-1 label.sk-toggleable__label-arrow:hover:before {color: black;}#sk-container-id-1 div.sk-estimator:hover label.sk-toggleable__label-arrow:before {color: black;}#sk-container-id-1 div.sk-toggleable__content {max-height: 0;max-width: 0;overflow: hidden;text-align: left;background-color: #f0f8ff;}#sk-container-id-1 div.sk-toggleable__content pre {margin: 0.2em;color: black;border-radius: 0.25em;background-color: #f0f8ff;}#sk-container-id-1 input.sk-toggleable__control:checked~div.sk-toggleable__content {max-height: 200px;max-width: 100%;overflow: auto;}#sk-container-id-1 input.sk-toggleable__control:checked~label.sk-toggleable__label-arrow:before {content: \"▾\";}#sk-container-id-1 div.sk-estimator input.sk-toggleable__control:checked~label.sk-toggleable__label {background-color: #d4ebff;}#sk-container-id-1 div.sk-label input.sk-toggleable__control:checked~label.sk-toggleable__label {background-color: #d4ebff;}#sk-container-id-1 input.sk-hidden--visually {border: 0;clip: rect(1px 1px 1px 1px);clip: rect(1px, 1px, 1px, 1px);height: 1px;margin: -1px;overflow: hidden;padding: 0;position: absolute;width: 1px;}#sk-container-id-1 div.sk-estimator {font-family: monospace;background-color: #f0f8ff;border: 1px dotted black;border-radius: 0.25em;box-sizing: border-box;margin-bottom: 0.5em;}#sk-container-id-1 div.sk-estimator:hover {background-color: #d4ebff;}#sk-container-id-1 div.sk-parallel-item::after {content: \"\";width: 100%;border-bottom: 1px solid gray;flex-grow: 1;}#sk-container-id-1 div.sk-label:hover label.sk-toggleable__label {background-color: #d4ebff;}#sk-container-id-1 div.sk-serial::before {content: \"\";position: absolute;border-left: 1px solid gray;box-sizing: border-box;top: 0;bottom: 0;left: 50%;z-index: 0;}#sk-container-id-1 div.sk-serial {display: flex;flex-direction: column;align-items: center;background-color: white;padding-right: 0.2em;padding-left: 0.2em;position: relative;}#sk-container-id-1 div.sk-item {position: relative;z-index: 1;}#sk-container-id-1 div.sk-parallel {display: flex;align-items: stretch;justify-content: center;background-color: white;position: relative;}#sk-container-id-1 div.sk-item::before, #sk-container-id-1 div.sk-parallel-item::before {content: \"\";position: absolute;border-left: 1px solid gray;box-sizing: border-box;top: 0;bottom: 0;left: 50%;z-index: -1;}#sk-container-id-1 div.sk-parallel-item {display: flex;flex-direction: column;z-index: 1;position: relative;background-color: white;}#sk-container-id-1 div.sk-parallel-item:first-child::after {align-self: flex-end;width: 50%;}#sk-container-id-1 div.sk-parallel-item:last-child::after {align-self: flex-start;width: 50%;}#sk-container-id-1 div.sk-parallel-item:only-child::after {width: 0;}#sk-container-id-1 div.sk-dashed-wrapped {border: 1px dashed gray;margin: 0 0.4em 0.5em 0.4em;box-sizing: border-box;padding-bottom: 0.4em;background-color: white;}#sk-container-id-1 div.sk-label label {font-family: monospace;font-weight: bold;display: inline-block;line-height: 1.2em;}#sk-container-id-1 div.sk-label-container {text-align: center;}#sk-container-id-1 div.sk-container {/* jupyter's `normalize.less` sets `[hidden] { display: none; }` but bootstrap.min.css set `[hidden] { display: none !important; }` so we also need the `!important` here to be able to override the default hidden behavior on the sphinx rendered scikit-learn.org. See: https://github.com/scikit-learn/scikit-learn/issues/21755 */display: inline-block !important;position: relative;}#sk-container-id-1 div.sk-text-repr-fallback {display: none;}</style><div id=\"sk-container-id-1\" class=\"sk-top-container\"><div class=\"sk-text-repr-fallback\"><pre>SimpleImputer()</pre><b>In a Jupyter environment, please rerun this cell to show the HTML representation or trust the notebook. <br />On GitHub, the HTML representation is unable to render, please try loading this page with nbviewer.org.</b></div><div class=\"sk-container\" hidden><div class=\"sk-item\"><div class=\"sk-estimator sk-toggleable\"><input class=\"sk-toggleable__control sk-hidden--visually\" id=\"sk-estimator-id-1\" type=\"checkbox\" checked><label for=\"sk-estimator-id-1\" class=\"sk-toggleable__label sk-toggleable__label-arrow\">SimpleImputer</label><div class=\"sk-toggleable__content\"><pre>SimpleImputer()</pre></div></div></div></div></div>"
      ],
      "text/plain": [
       "SimpleImputer()"
      ]
     },
     "execution_count": 17,
     "metadata": {},
     "output_type": "execute_result"
    }
   ],
   "source": [
    "# Call the \"fit\" method on the object\n",
    "imputer.fit(data[['Pesos']]) "
   ]
  },
  {
   "cell_type": "code",
   "execution_count": 18,
   "id": "947b472d-ec97-4462-801d-d94a3161e9fd",
   "metadata": {},
   "outputs": [],
   "source": [
    "# Call the \"transform\" method on the object\n",
    "data['Pesos'] = imputer.transform(data[['Pesos']]) "
   ]
  },
  {
   "cell_type": "code",
   "execution_count": 19,
   "id": "628c14a4-a867-4940-a40b-a9b78face68f",
   "metadata": {},
   "outputs": [
    {
     "data": {
      "text/plain": [
       "array([3608796.22667588])"
      ]
     },
     "execution_count": 19,
     "metadata": {},
     "output_type": "execute_result"
    }
   ],
   "source": [
    "# The mean is stored in the transformer's memory\n",
    "imputer.statistics_ "
   ]
  },
  {
   "cell_type": "markdown",
   "id": "5a4b37a8-648b-41e3-a957-97a341d38d34",
   "metadata": {},
   "source": [
    "### How did the SimpleImputer work?"
   ]
  },
  {
   "cell_type": "markdown",
   "id": "eacc4ce6-610c-4153-89ee-1427f3df99ef",
   "metadata": {},
   "source": [
    "`imputer.fit()`<br>\n",
    "imputer computes the strategy for the feature(s) it is being fitted on<br>\n",
    "stores the \"strategic\" value as an attribute<br>\n",
    "<br>\n",
    "`imputer.transform()`<br>\n",
    "identifies missing values<br>\n",
    "replaces missing values with the strategic value calculated in the fit step<br>\n",
    "<br>\n",
    "👨🏻‍🏫 In Scikit Learn, there are a couple of tools designed to help you prepare a dataset before feeding a Machine Learning model with the preprocessed data. They are called scikit-learn transformers\n",
    "\n",
    "- `.fit()`: learns and stores constants as attributes of the transformer\n",
    "- `.transform()`: uses these attributes to transform features of your choice from the original dataset"
   ]
  },
  {
   "cell_type": "markdown",
   "id": "b294d467-1199-47c4-803c-c43a803ef067",
   "metadata": {},
   "source": [
    "### Outliers"
   ]
  },
  {
   "cell_type": "markdown",
   "id": "93edfc71-c3c6-429a-a0d0-9df6a70fdab4",
   "metadata": {},
   "source": []
  },
  {
   "cell_type": "markdown",
   "id": "c563a69d-23f9-425a-9bbb-65837a15f813",
   "metadata": {},
   "source": [
    "#### Common reasons for outliers\n",
    "⌨️ Data entry errors<br>\n",
    "📐 Measurement errors<br>\n",
    "🧑🏻‍🔬 Data manipulation and preprocessing errors<br>\n",
    "🆕 Novelties (not errors)"
   ]
  },
  {
   "cell_type": "markdown",
   "id": "17ff5eec-0ad9-4c59-a238-e22b70992b6d",
   "metadata": {},
   "source": [
    "### Outliers affect:\n",
    "🕵🏻‍♀️ Dataset distributions and patterns<br>\n",
    "🕵🏻‍♀️ Central tendency metrics such as the mean of a feature<br>\n",
    "🕵🏻‍♀️ Dispersion metrics such as standard deviation<br>\n",
    "🤖 Performance of a Machine Learning model<br>"
   ]
  },
  {
   "cell_type": "markdown",
   "id": "f2273c19-344a-4b74-9e8b-a589ecb2958b",
   "metadata": {},
   "source": [
    "### Detecting Outliers - Boxplot"
   ]
  },
  {
   "cell_type": "code",
   "execution_count": 20,
   "id": "598e63b6-93c5-4e9d-9638-0f53acbf21d2",
   "metadata": {},
   "outputs": [
    {
     "data": {
      "image/png": "[encoded data removed]",
      "text/plain": [
       "<Figure size 640x480 with 1 Axes>"
      ]
     },
     "metadata": {},
     "output_type": "display_data"
    }
   ],
   "source": [
    "data[['GrLivArea']].boxplot();"
   ]
  },
  {
   "cell_type": "markdown",
   "id": "cb2f4ecf-6dd1-4b74-aede-9c74aed4a6f4",
   "metadata": {},
   "source": [
    "#### Are all the outliers \"real outliers\"❓"
   ]
  },
  {
   "cell_type": "code",
   "execution_count": 21,
   "id": "d87a0c6e-8651-4851-b486-6eeda63c7435",
   "metadata": {},
   "outputs": [
    {
     "data": {
      "text/plain": [
       "-1"
      ]
     },
     "execution_count": 21,
     "metadata": {},
     "output_type": "execute_result"
    }
   ],
   "source": [
    "data['GrLivArea'].min() "
   ]
  },
  {
   "cell_type": "markdown",
   "id": "027e461f-afc0-4a81-b81d-02fa4fcd8f14",
   "metadata": {},
   "source": [
    "#### Handling Outliers\n",
    "Is the outlier evidently false?<br>\n",
    "Could it be a novelty?<br>\n",
    "Could it be used as a feature?<br>\n",
    "🚨Outliers can be an opinion. We must fully comprehend what an outlier is before removing it from the dataset."
   ]
  },
  {
   "cell_type": "markdown",
   "id": "3c1a99b4-e0c1-4b9b-bec9-a363ad432e0c",
   "metadata": {},
   "source": [
    "#### Dropping Outliers\n",
    "If data is evidently false: a house cannot have a living area of -1"
   ]
  },
  {
   "cell_type": "code",
   "execution_count": 22,
   "id": "fd14d234-3c2f-4447-8ab3-a0349cece22b",
   "metadata": {},
   "outputs": [
    {
     "data": {
      "text/plain": [
       "0       False\n",
       "1       False\n",
       "2       False\n",
       "3       False\n",
       "4       False\n",
       "        ...  \n",
       "1455    False\n",
       "1456    False\n",
       "1457    False\n",
       "1458    False\n",
       "1459    False\n",
       "Name: GrLivArea, Length: 1457, dtype: bool"
      ]
     },
     "execution_count": 22,
     "metadata": {},
     "output_type": "execute_result"
    }
   ],
   "source": [
    "data['GrLivArea']==-1"
   ]
  },
  {
   "cell_type": "code",
   "execution_count": 23,
   "id": "e5d422c2-3988-4843-b819-3171518a3b46",
   "metadata": {},
   "outputs": [
    {
     "data": {
      "text/plain": [
       "10"
      ]
     },
     "execution_count": 23,
     "metadata": {},
     "output_type": "execute_result"
    }
   ],
   "source": [
    "# argmin() function returns the indices of the minimum value present in the input Index.\n",
    "# If we are having more than one minimum value (i.e. minimum value is present more than once)\n",
    "# then it returns the index of the first occurrence of the minimum value.\n",
    "data['GrLivArea'].argmin()"
   ]
  },
  {
   "cell_type": "code",
   "execution_count": 24,
   "id": "07ae4bd6-777f-4e1c-bef0-1a0ef2abe235",
   "metadata": {},
   "outputs": [],
   "source": [
    "# Saving the indexes corresponding to rows \n",
    "# without the absurd -1 value\n",
    "# and without the mansion\n",
    "# boolean_mask = (data['GrLivArea']>0) & (data['GrLivArea']<5000)\n",
    "\n",
    "false_observation = data['GrLivArea'].argmin()\n",
    "\n",
    "# Applying the boolean filteraing\n",
    "data = data.drop(false_observation).reset_index(drop=True)"
   ]
  },
  {
   "cell_type": "code",
   "execution_count": 25,
   "id": "7015f637-4796-4b65-8bb2-a977e0507854",
   "metadata": {},
   "outputs": [],
   "source": [
    "# Visualize boxplot again\n",
    "data[['GrLivArea']].boxplot();"
   ]
  },
  {
   "cell_type": "code",
   "execution_count": 26,
   "id": "4b791cee-4fc8-4bcf-a21c-d25302cadadd",
   "metadata": {},
   "outputs": [],
   "source": [
    "data[['GrLivArea']].boxplot();"
   ]
  },
  {
   "cell_type": "code",
   "execution_count": null,
   "id": "43b2596d-dcb2-4382-bbe5-6b408817d9e4",
   "metadata": {},
   "outputs": [],
   "source": []
  }
 ],
 "metadata": {
  "kernelspec": {
   "display_name": "Python 3 (ipykernel)",
   "language": "python",
   "name": "python3"
  },
  "language_info": {
   "codemirror_mode": {
    "name": "ipython",
    "version": 3
   },
   "file_extension": ".py",
   "mimetype": "text/x-python",
   "name": "python",
   "nbconvert_exporter": "python",
   "pygments_lexer": "ipython3",
   "version": "3.10.6"
  },
  "toc": {
   "base_numbering": 1,
   "nav_menu": {},
   "number_sections": true,
   "sideBar": true,
   "skip_h1_title": false,
   "title_cell": "Table of Contents",
   "title_sidebar": "Contents",
   "toc_cell": false,
   "toc_position": {},
   "toc_section_display": true,
   "toc_window_display": false
  }
 },
 "nbformat": 4,
 "nbformat_minor": 5
}
