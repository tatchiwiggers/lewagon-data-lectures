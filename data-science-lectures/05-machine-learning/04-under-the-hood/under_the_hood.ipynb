{
 "cells": [
  {
   "cell_type": "markdown",
   "id": "8df5f189-c6e2-4fcd-8746-acaebad030b9",
   "metadata": {},
   "source": [
    "FIT -> Quando fazemos o fit ele encontra o intercept e o coeficiente. Ele cria uma linha que minimiza a distancia entre os pontos e a linha."
   ]
  },
  {
   "cell_type": "markdown",
   "id": "bae2e258-285c-4bb5-94f3-9c3408841dde",
   "metadata": {},
   "source": [
    "O plano do fit é encontrar os betas que minimizam o erro"
   ]
  },
  {
   "cell_type": "code",
   "execution_count": null,
   "id": "3e3e746b-86cf-4474-b0b3-a853e755b67c",
   "metadata": {},
   "outputs": [],
   "source": [
    "A soma dos quadrados é o tipo de erro que encontramos -> a ideia é pegar o y real menos o que precisamos prever. "
   ]
  }
 ],
 "metadata": {
  "kernelspec": {
   "display_name": "Python 3 (ipykernel)",
   "language": "python",
   "name": "python3"
  },
  "language_info": {
   "codemirror_mode": {
    "name": "ipython",
    "version": 3
   },
   "file_extension": ".py",
   "mimetype": "text/x-python",
   "name": "python",
   "nbconvert_exporter": "python",
   "pygments_lexer": "ipython3",
   "version": "3.10.6"
  }
 },
 "nbformat": 4,
 "nbformat_minor": 5
}
