{
 "cells": [
  {
   "cell_type": "markdown",
   "id": "b6398500-a57d-4638-8faf-96a645928336",
   "metadata": {},
   "source": [
    "# Decision Science"
   ]
  },
  {
   "cell_type": "markdown",
   "id": "f9d9b8c6-cf03-48d7-96fa-fbbdf9d8a4bf",
   "metadata": {},
   "source": [
    "O que é decision science - decision science é a arte de fazer os dados conversarem com o intuito dee nos fazer entender melhor esses dados para que possamos tomar decisões informadas sobre nosso negócio."
   ]
  },
  {
   "cell_type": "markdown",
   "id": "bd3b09d4-9357-4d03-bceb-8248ae5f0f75",
   "metadata": {},
   "source": [
    "# Decision Science\n",
    "1. Motivations\n",
    "2. The Brazilian e-commerce platform Olist\n",
    "3. Organizing a Project in Data Science and Analytics\n",
    "4. Notebook like a pro\n",
    "5. How to debug your code\n",
    "6. Dealing with new datasets\n",
    "7. Joining tables"
   ]
  },
  {
   "cell_type": "markdown",
   "id": "7d6b9192-a116-4010-a206-8d3227950446",
   "metadata": {},
   "source": [
    "# The Big Picture\n",
    "\n",
    "🔥 5 sessões trabalhando como Consultor de Dados em um estudo de caso real! Ou seja, essa semana será toda dedicada para esse projeto.\n",
    "\n",
    "💸 Objetivo: é que vocês consigam utilizar esses dados, para que vocês possam ajudar os proprietários do negócio em seu Processo de Tomada de Decisão\n",
    "\n",
    "📈 Vocês farão isso através de uma análise aprofundada dos dados históricos do negócio desse cliente\n",
    "\n",
    "🕵🏻 Vamos construir nossos primeiros modelos de ML que serão modelos simples, ou seja, Modelos Estatísticos lineares que é: a Regressão Linear e a Regressão Logística que vai ajudar vocês não a fazer:\n",
    "\n",
    "❗️ previsões mirabolantes do futuro<br>\n",
    "👀 mas sim encontrar correlações entre variáveis de seus dados, que consigam expliar esses dados e o comportamento historico da empresa<br>\n",
    "🎲 E a ferramenta que vamos usar pra realizar essa tarefa vai ser a Inferência Estatística - para comprovar a robustez de suas descobertas. E o que é a inferencia estatistica pessoal, alguem consegue me falar? \n",
    "- A inferência estatística é uma parte fundamental da estatística que permite tirar conclusões sobre uma população a partir de uma amostra. Esse processo é crucial para comprovar a robustez das descobertas em diversas áreas, como medicina, ciências sociais, engenharia, entre outras. Existem várias técnicas e conceitos chave que são utilizados para garantir a validade e a confiabilidade das inferências estatísticas.<br>\n",
    "\n",
    "🗣 E finalmente vamos comunicar nossos resultados araves desse mini projeto que vocês vão fazer e apresentar no ultimo dia, que vai ser no dia 5 desse modulo.<br>"
   ]
  },
  {
   "cell_type": "markdown",
   "id": "4584f73f-4064-4dbf-bb63-d4e04186ba68",
   "metadata": {},
   "source": [
    "# What is Data Science?"
   ]
  },
  {
   "cell_type": "markdown",
   "id": "c131e9a6-434e-4027-a765-e0957fd8a08f",
   "metadata": {},
   "source": [
    "Decision Science e a ciência de dados são campos interdisciplinares que, embora se sobreponham em algumas áreas, têm focos e objetivos distintos. Ambos desempenham papéis cruciais no apoio à tomada de decisão em organizações, mas o fazem de maneiras diferentes."
   ]
  },
  {
   "cell_type": "markdown",
   "id": "ab8fe694-eb77-4a41-abbf-4f60ddb6b457",
   "metadata": {},
   "source": [
    "(Decision Science)\n",
    "- Foco: Decision Science é focada no processo de tomada de decisão. Ela combina teorias e métodos de psicologia, economia, estatística e teoria da decisão para entender, modelar e melhorar as decisões. Seu objetivo principal é otimizar as decisões feitas por indivíduos e organizações.\n",
    "- Abordagem: Utiliza modelos prescritivos e normativos para ajudar na escolha entre diferentes alternativas de ação, levando em conta os possíveis resultados, preferências, incertezas e restrições.\n",
    "- Ferramentas e Métodos: Inclui análise de custo-benefício, análise de risco, teoria dos jogos, modelos de otimização e simulações."
   ]
  },
  {
   "cell_type": "markdown",
   "id": "1c8bd5eb-d294-4196-8ba0-481fe6a5cbf1",
   "metadata": {},
   "source": [
    "Ciência de Dados (Data Science)\n",
    "- Foco: A ciência de dados é focada na extração de conhecimento e insights de dados. Ela combina técnicas de estatística, ML e análise preditiva para analisar e interpretar grandes conjuntos de dados.\n",
    "- Abordagem: Utiliza modelos descritivos, preditivos e prescritivos baseados em dados para identificar padrões, prever tendências e fornecer insights que possam apoiar a tomada de decisão.\n",
    "- Ferramentas e Métodos: Inclui técnicas de ML, estatísticas, visualização de dados, processamento de linguagem natural (PLN) e big data analytics."
   ]
  },
  {
   "cell_type": "markdown",
   "id": "9617b125-4ac8-4426-93af-0b3117c1d201",
   "metadata": {},
   "source": [
    "Um \"data product\" ou produto de dados é qualquer produto ou serviço que é criado ou aprimorado através da utilização de dados de forma significativa. \n",
    "\n",
    "#### Características de um Data Product\n",
    "- Baseado em Dados: O elemento central é o uso de dados para oferecer valor. Isso pode envolver a coleta, processamento, análise e visualização de dados.\n",
    "- Interativo e Usuário-Centrado: Muitas vezes, é projetado para ser interativo, permitindo que os usuários explorem dados, façam perguntas e recebam insights de maneira intuitiva.\n",
    "- Automatizado: Incorpora processos automatizados para atualizar informações, realizar análises ou fornecer recomendações sem intervenção manual constante.\n",
    "- Orientado por Valor: Destina-se a resolver um problema específico ou atender a uma necessidade do usuário ou cliente, seja através de melhorias na tomada de decisão, otimização de processos, personalização de experiências, entre outros."
   ]
  },
  {
   "cell_type": "markdown",
   "id": "4f296bde-2a15-4d30-b634-baa57db40010",
   "metadata": {},
   "source": [
    "### Tipos de Data Products\n",
    "- Relatórios Analíticos e Dashboards: Ferramentas interativas que fornecem visualizações de dados e insights para apoiar a tomada de decisão.\n",
    "- Sistemas de Recomendação: Utilizados por plataformas de e-commerce, streaming de mídia e redes sociais para sugerir produtos, filmes, músicas, posts e mais, baseados nos comportamentos e preferências dos usuários.\n",
    "- Aplicações Baseadas em IA e Machine Learning: Produtos que utilizam algoritmos de aprendizado de máquina para oferecer funcionalidades como previsão de demanda, detecção de fraude, análise de sentimentos, entre outros.\n",
    "- APIs de Dados: Interfaces de programação que permitem o acesso a conjuntos de dados ou funcionalidades analíticas, possibilitando que outras aplicações ou serviços integrem e utilizem esses dados.\n",
    "- Softwares como Serviço (SaaS) Baseados em Dados: Aplicações em nuvem que oferecem soluções específicas baseadas em dados, como CRMs que utilizam análise preditiva para otimizar estratégias de vendas."
   ]
  },
  {
   "cell_type": "markdown",
   "id": "1cfb46ce-45d0-42b6-bd9a-4353a151a176",
   "metadata": {},
   "source": [
    "# 1. Motivations"
   ]
  },
  {
   "cell_type": "markdown",
   "id": "576387f3-d4fb-4170-a05e-04d218783e69",
   "metadata": {},
   "source": [
    "As qualidades frequentemente subestimadas dos Analistas de Dados e Cientistas de Dados são cruciais para o sucesso no campo da ciência de dados e análise de dados. Vamos explorar cada uma delas em detalhe:\n",
    "\n",
    "### 🤝 Conhecimento do Domínio > Expertise Técnica\n",
    "\n",
    "- **O que significa**: Essa qualidade ressalta a importância do conhecimento específico da área de atuação em relação às habilidades técnicas puras. Embora a capacidade de manipular dados e utilizar ferramentas de análise seja fundamental, entender profundamente o contexto e os desafios específicos do setor ou domínio em que se está trabalhando é muitas vezes mais valioso. Isso permite que os profissionais não apenas encontrem respostas, mas façam as perguntas certas.\n",
    "\n",
    "### 🚀 Resolver Problemas Reais\n",
    "\n",
    "- **O que significa**: Além de trabalhar com dados, o objetivo principal é resolver problemas concretos que impactam a organização ou a sociedade. Isso envolve identificar questões relevantes, traduzir problemas de negócios em problemas analíticos e aplicar soluções de dados de maneira que gere valor real e mensurável.\n",
    "\n",
    "### 🤨 Lidar com Problemas Vagos\n",
    "\n",
    "- **O que significa**: Na prática, os problemas nem sempre vêm em formatos bem definidos. A capacidade de lidar com ambiguidades, definir claramente problemas vagos e encontrar caminhos viáveis para solucioná-los é uma habilidade crítica. Isso muitas vezes requer paciência, criatividade e uma abordagem iterativa para refinar o problema e as soluções ao longo do tempo.\n",
    "\n",
    "### 🔥 Construir com Escalabilidade em Mente\n",
    "\n",
    "- **O que significa**: Ao desenvolver soluções de dados, é importante considerar não apenas a necessidade imediata, mas também como essas soluções podem ser escaladas ou adaptadas à medida que as demandas aumentam ou mudam. Isso pode envolver desde a escolha de tecnologias adequadas até o design de sistemas que possam facilmente crescer ou evoluir.\n",
    "\n",
    "### 🗣 Comunicar Bem\n",
    "\n",
    "- **O que significa**: A habilidade de comunicar complexidades de forma clara e eficaz é indispensável. Isso inclui traduzir análises técnicas para insights compreensíveis por não especialistas, apresentar resultados de maneira persuasiva e colaborar efetivamente com stakeholders para garantir que os esforços de análise de dados se alinhem com os objetivos estratégicos.\n",
    "\n",
    "Essas qualidades destacam que, além das habilidades técnicas, aspectos como compreensão do contexto de negócios, resolução de problemas, adaptabilidade, planejamento para o futuro e comunicação eficaz são igualmente importantes para os profissionais de dados. Eles são fundamentais para transformar dados em ações e resultados significativos, contribuindo para o sucesso das organizações."
   ]
  },
  {
   "cell_type": "markdown",
   "id": "46161726-3874-425b-baa8-d408b1a09b8b",
   "metadata": {},
   "source": [
    "# Pyramid of needs"
   ]
  },
  {
   "cell_type": "markdown",
   "id": "6bdd960d-0bb2-4d62-9127-a78aef3a3991",
   "metadata": {},
   "source": [
    "A \"Pirâmide de Necessidades\" em Inteligência Artificial, também conhecida como a Hierarquia de Necessidades da IA, foi introduzida por Monica Rogati, ex-VP de Dados no LinkedIn. Essa pirâmide é uma adaptação da famosa Pirâmide de Maslow, que é usada na psicologia para ilustrar as necessidades humanas em uma hierarquia, começando pelas necessidades básicas até alcançar a auto-realização. Na pirâmide de Rogati, a ideia é destacar os fundamentos necessários para construir e implementar soluções eficazes de inteligência artificial e aprendizado de máquina, sublinhando a importância da preparação dos dados como base para todas as operações subsequentes.\n",
    "\n",
    "Aqui está uma explicação detalhada de cada nível da pirâmide, de baixo para cima:\n",
    "\n",
    "### 1. **COLETAR (Collect)**\n",
    "- **O que significa**: O primeiro passo é coletar dados. Antes de qualquer coisa, é necessário ter dados disponíveis. Este nível se concentra na aquisição de dados brutos de diferentes fontes, o que pode incluir dados internos da empresa, dados adquiridos ou dados públicos disponíveis.\n",
    "\n",
    "### 2. **MOVER/ARMAZENAR (Move/Store)**\n",
    "- **O que significa**: Após a coleta, os dados precisam ser movidos e armazenados de forma segura e acessível. Isso envolve a escolha de infraestruturas de armazenamento, como bancos de dados, data lakes ou plataformas de dados na nuvem, garantindo que os dados estejam organizados e possam ser acessados de maneira eficiente.\n",
    "\n",
    "### 3. **EXPLORAR/TRANSFORMAR (Explore/Transform)**\n",
    "- **O que significa**: Uma vez que os dados estão armazenados, o próximo passo é explorá-los e prepará-los para análises futuras. Isso pode envolver limpeza de dados, tratamento de valores ausentes, normalização, e transformações diversas para converter os dados brutos em um formato mais adequado para análise.\n",
    "\n",
    "### 4. **AGREGAR/ROTULAR (Aggregate/Label)**\n",
    "- **O que significa**: Este nível foca na agregação de dados de diferentes fontes para formar conjuntos de dados mais ricos e na rotulação de dados, especialmente importante para o treinamento de modelos de aprendizado supervisionado. A rotulação precisa ser precisa e consistente para garantir a qualidade do treinamento dos modelos de IA.\n",
    "\n",
    "### 5. **APRENDER/OTIMIZAR (Learn/Optimize)**\n",
    "- **O que significa**: Na parte superior da pirâmide, após a preparação adequada dos dados, vem o aprendizado de máquina propriamente dito. Aqui, os modelos são treinados, testados e otimizados para desempenho. Este estágio envolve a seleção de algoritmos, ajuste de parâmetros e avaliação de modelos para garantir que eles atendam aos objetivos desejados.\n",
    "\n",
    "A pirâmide destaca uma verdade fundamental em projetos de IA: a preparação de dados é a chave. Sem uma base sólida de dados bem coletados, armazenados, explorados, transformados e etiquetados, seria impossível construir modelos de IA eficazes. Esse modelo enfatiza que, antes de buscar as aplicações mais avançadas e sofisticadas de IA, as organizações devem garantir que suas necessidades básicas de dados estejam devidamente atendidas."
   ]
  },
  {
   "cell_type": "markdown",
   "id": "81b08e58-bd07-4960-bc1a-837a482a18d7",
   "metadata": {},
   "source": [
    "# John Snow"
   ]
  },
  {
   "cell_type": "markdown",
   "id": "16c43a0e-103c-4902-bc20-ab7c0a56b1a6",
   "metadata": {},
   "source": [
    "John Snow é um nome fundamental na história da saúde pública e da epidemiologia devido ao seu trabalho inovador durante o surto de cólera em Londres, no século XIX. O caso do surto de cólera de 1854, em particular, é frequentemente citado como um dos primeiros exemplos de como a coleta e análise de dados podem ser usadas para combater problemas de saúde pública.\n",
    "\n",
    "### Contexto Histórico\n",
    "\n",
    "Na época, acreditava-se amplamente que doenças como a cólera se espalhavam pelo ar, uma teoria conhecida como miasma. John Snow, por outro lado, suspeitava que a cólera fosse transmitida pela água contaminada, uma hipótese contrária às crenças predominantes.\n",
    "\n",
    "### O Trabalho de John Snow\n",
    "\n",
    "Durante o surto de cólera, John Snow começou a investigar a fonte da doença. Ele utilizou uma abordagem meticulosa para coletar dados, incluindo a localização dos casos de cólera e entrevistas com os residentes locais. Através de sua análise, ele identificou que muitos dos casos de cólera estavam concentrados em torno de uma bomba de água na Broad Street (hoje Broadwick Street).\n",
    "\n",
    "### Comunicação e Ação\n",
    "\n",
    "- **#Comunicar**: Snow criou um mapa detalhado, marcando cada caso de cólera e sua proximidade com as bombas de água da área. Este mapa não era apenas uma ferramenta de análise, mas também uma poderosa forma de comunicação, visualizando claramente a correlação entre a bomba de água da Broad Street e os casos de cólera.\n",
    "- **Ação**: Com base em suas descobertas, Snow argumentou que a bomba de água da Broad Street deveria ser fechada. Embora inicialmente resistente, o conselho local finalmente concordou em remover a alavanca da bomba, impedindo seu uso.\n",
    "\n",
    "### Impacto e Legado\n",
    "\n",
    "A ação de Snow não apenas ajudou a controlar o surto em Soho, mas também foi um ponto crítico na compreensão da transmissão de doenças. O trabalho de Snow forneceu evidências cruciais de que doenças como a cólera poderiam ser transmitidas através da água contaminada, e não pelo ar.\n",
    "\n",
    "O legado de John Snow destaca a importância da coleta de dados, da análise espacial e da comunicação eficaz na saúde pública. Seu trabalho é um dos primeiros e mais claros exemplos de como a epidemiologia de campo e a análise de dados podem ser usadas para entender e combater surtos de doenças, salvando inúmeras vidas no processo. Além disso, reforça a necessidade de questionar suposições predominantes e buscar evidências baseadas em dados para orientar as decisões de saúde pública."
   ]
  },
  {
   "cell_type": "markdown",
   "id": "46c2ae61-379b-4461-8b6a-7f35641f77bc",
   "metadata": {},
   "source": [
    "# 2. The Brazilian e-commerce platform Olist"
   ]
  },
  {
   "cell_type": "markdown",
   "id": "f61304fa-5f64-4ce8-8cc0-59aab56e35a9",
   "metadata": {},
   "source": [
    "# Introduction"
   ]
  },
  {
   "cell_type": "markdown",
   "id": "217d8bbf-5ea5-4bc3-bf7f-284948b9e2bb",
   "metadata": {},
   "source": [
    "# Olist\n",
    "\n",
    "A Olist é uma empresa fundada em 2015, que atua no Brasil como uma companhia 100% digital, ou seja todas as suas operações comerciais são gerenciadas inteiramente online, sem a necessidade de lojas físicas ou operações offline. Como uma plataforma digital, a Olist facilita a conexão entre vendedores e diversos canais de venda, e ela proporciona uma solução de vendas integrada que abrange desde a gestão de anúncios até a logística de entrega dos produtos."
   ]
  },
  {
   "cell_type": "markdown",
   "id": "a7d4ea5e-14f7-4425-a5ea-7446ce9b6007",
   "metadata": {},
   "source": [
    "O serviço de e-commerce online oferecido pela Olist é projetado para vendedores e tem como objetivo principal facilitar a conexão de pequenos e médios comerciantes com os mais importantes marketplaces no Brasil, como Amazon, Bahia (provavelmente referindo-se a Casas Bahia), Walmart, entre outros. Este modelo de negócio permite que esses comerciantes expandam seu alcance de mercado, acessando um público muito mais amplo do que conseguiriam por conta própria.\n",
    "\n",
    "Além de conectar esses comerciantes aos grandes marketplaces, a empresa oferece serviços essenciais para a gestão de logística e inventário. Isso significa que ela ajuda os vendedores a gerenciar o estoque de seus produtos e a logística de entrega, o que pode incluir desde o armazenamento de produtos até o envio deles aos compradores finais. Esses serviços são fundamentais para pequenos e médios empresários que podem não ter a infraestrutura ou os recursos para gerenciar eficientemente esses aspectos críticos do negócio de e-commerce.\n",
    "\n",
    "Um ponto crucial para entender sobre o modelo de negócio da empresa é que ela não vende produtos diretamente aos consumidores. Em vez disso, sua função é agir como uma ponte entre os vendedores e os marketplaces, garantindo que os comerciantes possam focar no que fazem de melhor — vender seus produtos — enquanto a empresa cuida dos aspectos técnicos e logísticos, facilitando esse processo. Isso cria uma situação vantajosa tanto para os vendedores, que podem ampliar suas vendas e gerenciar melhor seus negócios, quanto para os consumidores, que têm acesso a uma gama mais ampla de produtos nos principais marketplaces."
   ]
  },
  {
   "cell_type": "markdown",
   "id": "584ea43f-ec31-4126-8ce5-3a9302292ada",
   "metadata": {},
   "source": [
    "# The seller workflow"
   ]
  },
  {
   "cell_type": "markdown",
   "id": "6215ec90-ec83-4af0-986f-b0b82355623f",
   "metadata": {},
   "source": [
    "O fluxo de trabalho do vendedor na Olist (ou uma plataforma semelhante de e-commerce) é projetado para simplificar e otimizar a forma como os pequenos e médios vendedores podem alcançar clientes e gerenciar suas vendas online. Aqui está uma explicação detalhada desse processo, passo a passo, em português:\n",
    "\n",
    "1. **O vendedor se une à Olist**: O primeiro passo é o vendedor se registrar na plataforma da Olist, um processo que geralmente envolve fornecer informações sobre sua empresa e os produtos que deseja vender.\n",
    "\n",
    "2. **Carrega seus catálogos de produtos**: Após se juntar à Olist, o vendedor carrega os catálogos de seus produtos na plataforma. Isso inclui detalhes como descrições, fotos, preços e informações de estoque dos produtos que deseja oferecer aos consumidores.\n",
    "\n",
    "3. **A Olist exibe esses catálogos nos marketplaces existentes**: Uma vez que os catálogos de produtos estejam na plataforma, a Olist se encarrega de exibir esses produtos em vários marketplaces importantes no Brasil, como Amazon, Casas Bahia, Walmart, entre outros. Isso amplia significativamente o alcance dos produtos do vendedor, tornando-os acessíveis a uma base de clientes muito maior.\n",
    "\n",
    "4. **O vendedor é notificado sempre que um produto é vendido**: Sempre que um consumidor compra um produto, o vendedor recebe uma notificação sobre a venda. Isso permite que o vendedor mantenha o controle de quais produtos estão sendo vendidos e gerencie seu estoque de forma eficaz.\n",
    "\n",
    "5. **Entrega os itens encomendados a transportadoras terceirizadas**: Após uma venda, o vendedor é responsável por preparar o item vendido e entregá-lo a uma transportadora logística terceirizada, que então se encarrega de entregar o produto ao cliente final. Isso faz parte dos serviços de logística e gestão de pedidos que a Olist oferece, facilitando para os vendedores o processo de entrega.\n",
    "\n",
    "**Nota importante**: É possível que vários vendedores estejam envolvidos em um único pedido de um cliente. Isso pode acontecer quando um cliente compra vários itens que são fornecidos por diferentes vendedores na mesma plataforma. Nesses casos, cada vendedor é responsável por entregar sua parte do pedido ao transportador logístico, que então cuida de consolidar esses itens para entrega ao cliente.\n",
    "\n",
    "Esse fluxo de trabalho é projetado para tornar o processo de venda online mais eficiente e menos oneroso para os vendedores, permitindo que eles se concentrem em outros aspectos importantes de seus negócios, enquanto a Olist cuida da exposição dos produtos, da gestão de vendas e da logística."
   ]
  },
  {
   "cell_type": "markdown",
   "id": "489b9106-564b-4806-ba6c-bcec16947572",
   "metadata": {},
   "source": [
    "# The customer workflow"
   ]
  },
  {
   "cell_type": "markdown",
   "id": "43d110e7-e099-40cb-9536-47e219b8356c",
   "metadata": {},
   "source": [
    "O fluxo de trabalho do cliente na Olist (ou em uma plataforma semelhante de e-commerce que atua como intermediária entre vendedores e marketplaces) é projetado para proporcionar uma experiência de compra online simples e eficaz. Aqui está o processo pelo qual um cliente típico passa ao comprar produtos listados via Olist.store, explicado em português:\n",
    "\n",
    "1. **Navegação de produtos nos marketplaces**: O cliente começa explorando produtos em vários marketplaces online, como Amazon, Casas Bahia, Walmart, entre outros. Esses produtos são listados por vendedores que utilizam a plataforma Olist para alcançar um público maior.\n",
    "\n",
    "2. **Compra de produtos listados via Olist.store**: Uma vez que encontra um produto de seu interesse, o cliente realiza a compra através do marketplace, onde o produto está listado via Olist.store. Isso significa que, embora o produto seja vendido em um marketplace conhecido, o vendedor usa a Olist como plataforma para gerenciar e facilitar a venda.\n",
    "\n",
    "3. **Recebe uma data estimada para entrega**: Após a compra, o cliente é informado sobre a data estimada de chegada (ETA - Estimated Time of Arrival) do seu pedido. Essa estimativa ajuda o cliente a saber quando esperar pelo recebimento do produto.\n",
    "\n",
    "4. **Recebimento do(s) pedido(s)**: O cliente recebe o pedido no endereço fornecido durante a compra. A logística de entrega é gerenciada pela Olist em colaboração com transportadoras terceirizadas, garantindo que o produto chegue ao destino.\n",
    "\n",
    "5. **Deixar uma avaliação**: Após receber o pedido, o cliente tem a opção de deixar uma avaliação sobre sua experiência de compra e sobre o produto recebido. Essa avaliação é importante tanto para futuros clientes, que se beneficiam das experiências compartilhadas, quanto para os vendedores, que podem usar o feedback para melhorar seus produtos e serviços.\n",
    "\n",
    "**Nota**: Entre 2016 e meados de 2018, havia a possibilidade de um cliente deixar uma avaliação assim que o pedido fosse enviado, o que significa que um cliente poderia potencialmente avaliar um produto que ainda não havia recebido. Essa prática foi modificada para garantir que as avaliações sejam mais precisas e reflitam a experiência completa do cliente, incluindo o recebimento e uso do produto.\n",
    "\n",
    "Esse fluxo de trabalho reflete o esforço da Olist e de plataformas similares em simplificar a experiência de compra online, garantindo ao mesmo tempo que os clientes tenham todas as informações necessárias sobre seus pedidos e possam compartilhar suas experiências de compra de forma transparente e útil."
   ]
  },
  {
   "cell_type": "markdown",
   "id": "d9e416d4-5160-4c1e-a8dd-043c18e286a7",
   "metadata": {},
   "source": [
    "# Dataset"
   ]
  },
  {
   "cell_type": "markdown",
   "id": "123f4c4a-56e7-4669-a749-41b34a7181a1",
   "metadata": {},
   "source": [
    "Sobre os dados: 🔢\n",
    "\n",
    "- Lançados no Kaggle em novembro de 2018\n",
    "- kaggle.com/olistbr/brazilian-ecommerce\n",
    "- Informações sobre aproximadamente 100 mil pedidos feitos entre 2016 e 2018\n",
    "- 8 arquivos csv, aproximadamente 120mb\n",
    "- Dados reais!\n",
    "- As informações identificáveis dos marketplaces e dos comerciantes foram anonimizadas\n",
    "- A documentação completa está disponível no diretório /data do 1º desafio da unidade"
   ]
  },
  {
   "cell_type": "markdown",
   "id": "d1c20989-d7f9-4663-913a-a8a5067a41a5",
   "metadata": {},
   "source": [
    "# Data Model"
   ]
  },
  {
   "cell_type": "markdown",
   "id": "3809d7b7-d256-4879-bdaf-adfc2f44956b",
   "metadata": {},
   "source": [
    "# Revenues"
   ]
  },
  {
   "cell_type": "markdown",
   "id": "0eeb4ce9-89cc-48d1-88d9-efd8240f4717",
   "metadata": {},
   "source": [
    "💸 📈 Receitas da Olist:\n",
    "\n",
    "Os vendedores precisam pagar para usar a Olist.\n",
    "\n",
    "Como a Olist gera receitas a partir dos vendedores?\n",
    "\n",
    "- Atraves das Receitas Variáveis: A Olist cobra uma comissão de 10% sobre cada produto vendido por um vendedor, caso o pedido seja entregue.\n",
    "\n",
    "- Receitas Fixas: Os vendedores precisam pagar à Olist 80 BRL por mês para usar a plataforma."
   ]
  },
  {
   "cell_type": "markdown",
   "id": "75a5544d-151f-47ce-b419-7b40e9f0e873",
   "metadata": {},
   "source": [
    "# Custos\n",
    "💸 📉 Custos da Olist\n",
    "\n",
    "### Custos de TI\n",
    "\n",
    "- **Suposição Simplificada**: Vamos fazer a suposição simplificada de que os Custos de TI crescem proporcionalmente à raiz quadrada do número total de vendedores, bem como à raiz quadrada do número total de itens vendidos. Ou seja, vamos assumir que os custos de TI crescem de forma relativamente mais lenta para cada vendedor adicional e cada item vendido adicionalmente. Isso representa as economias de escala, onde o aumento do volume de operações não resulta em um aumento proporcional dos custos, devido à eficiência operacional e à distribuição mais ampla dos custos fixos.\n",
    "\n",
    "### Custos de Reputação\n",
    "\n",
    "- **Impacto das Avaliações Negativas**: Avaliações ruins afetam a reputação da Olist e seus lucros a longo prazo. Vamos quantificar esses impactos da seguinte forma, associando um custo em BRL (Reais) para cada pontuação de avaliação:\n",
    "\n",
    "  - **Pontuação de Avaliação 1**: Custo de 100 BRL\n",
    "  - **Pontuação de Avaliação 2**: Custo de 50 BRL\n",
    "  - **Pontuação de Avaliação 3**: Custo de 40 BRL\n",
    "  - **Pontuação de Avaliação 4**: Custo de 0 BRL\n",
    "  - **Pontuação de Avaliação 5**: Custo de 0 BRL\n",
    "\n",
    "Essa estrutura de custos sugere que avaliações mais baixas (1, 2 e 3) têm um custo associado para a Olist, refletindo o impacto negativo na reputação da empresa. Avaliações mais altas (4 e 5), por outro lado, não têm um custo direto associado, indicando que contribuem positivamente para a reputação da empresa sem gerar custos adicionais. Este modelo enfatiza a importância de manter uma alta qualidade de serviço e satisfação do cliente para minimizar os custos de reputação e, por extensão, maximizar os lucros a longo prazo."
   ]
  },
  {
   "cell_type": "markdown",
   "id": "747a3306-3568-4a7b-ba39-aaf565a19f6b",
   "metadata": {},
   "source": [
    "# ❗ Warning ❗\n",
    "\n",
    "Tenha em mente que estaremos usando essas suposições simplificadas para nosso projeto de Consultoria em Ciência de Dados porque temos cinco dias para responder à questão.\n",
    "Em uma entrevista para Analista de Dados, você receberá alguns conjuntos de dados (.csv) e será solicitado a responder perguntas em um número limitado de dias (3-5 dias).\n",
    "Portanto, você também precisará fazer algumas suposições.\n",
    "Além disso, porque no processo de recrutamento, você não tem acesso aos custos reais da empresa."
   ]
  },
  {
   "cell_type": "markdown",
   "id": "2a420529-fe51-411e-b7e4-5259545e6b36",
   "metadata": {},
   "source": [
    "# Your mission"
   ]
  },
  {
   "cell_type": "markdown",
   "id": "c52c8060-89f3-4468-a518-a106ee063ef1",
   "metadata": {},
   "source": [
    "Você foi encarregado pelo CEO da Olist, Tiago Dalvi, de fazer sentido do conjunto de dados para dar recomendações sobre a seguinte questão:\n",
    "\n",
    "Como aumentar a satisfação do cliente (de modo a aumentar a margem de lucro) enquanto se mantém um volume de pedidos saudável?"
   ]
  },
  {
   "cell_type": "markdown",
   "id": "f77e86da-6b41-4e1c-bace-7b985dd7c05e",
   "metadata": {},
   "source": [
    "# 3. Project Organization"
   ]
  },
  {
   "cell_type": "markdown",
   "id": "75261be9-c3c7-4deb-9e96-f67458511770",
   "metadata": {
    "tags": []
   },
   "source": [
    "# 3.1 Repository"
   ]
  },
  {
   "cell_type": "markdown",
   "id": "5d94b7cd-6768-4efd-bbe5-a8e019aba1d0",
   "metadata": {},
   "source": [
    "A estrutura apresentada descreve a organização do repositório do projeto de vocêsa com base em dados da Olist. Vamos entender cada parte dessa estrutura"
   ]
  },
  {
   "attachments": {
    "9541a143-6b4e-4897-973d-b7e340859329.png": {
     "image/png": "[encoded data removed]"
    }
   },
   "cell_type": "markdown",
   "id": "7dfd088a-7118-4867-914a-792b94a93dc5",
   "metadata": {},
   "source": [
    "![2024-02-24_01-49-49.png](attachment:9541a143-6b4e-4897-973d-b7e340859329.png)"
   ]
  },
  {
   "cell_type": "markdown",
   "id": "1ad68276-b9bd-4d70-be29-822b6e07391d",
   "metadata": {},
   "source": [
    "- 01-Project-Setup: Pasta raiz para a configuração inicial do projeto, contendo toda a lógica do código e dados.\n",
    "- data-context-and-setup: Subpasta dedicada ao contexto dos dados e à preparação inicial, incluindo:\n",
    "    - data: Diretório que armazena os dados do projeto, especificamente arquivos .csv como olist_customers_dataset.csv, olist_orders_dataset.csv, entre outros. Esta pasta é ignorada pelo git para evitar upload de dados sensíveis ou grandes.\n",
    "    - README.md: Documentação sobre o banco de dados e os dados utilizados.\n",
    "    - olist: Pasta que contém a lógica de processamento de dados do projeto, incluindo scripts Python como data.py, product.py, seller.py, e utils.py. O arquivo __init__.py transforma este diretório em um pacote Python, permitindo importações facilitadas dentro do projeto.\n",
    "- data-data-preparation e data-exploratory-analysis: Pastas destinadas a notebooks de Jupyter para preparação e análise exploratória dos dados, organizados por dia ou desafio.\n",
    "\n",
    "As pastas subsequentes (02-Statistical-Inference, 03-Linear-Regression, 04-Logistic-Regression) sugerem módulos ou etapas adicionais do projeto, focados em inferência estatística, regressão linear e regressão logística, respectivamente, cada uma contendo seus próprios arquivos e análises relevantes."
   ]
  },
  {
   "cell_type": "markdown",
   "id": "78a319e8-50b4-4587-a148-ed66641989af",
   "metadata": {},
   "source": [
    "🧑🏻‍🏫 Nossa metodologia:\n",
    "\n",
    "- Manipular dados em Notebooks .ipynb\n",
    "- Codar etapas de processamento em scripts Python.py dentro de classes\n",
    "- Importar seus scripts e instanciar suas classes quando necessário para novas análises\n",
    "👉 Vamos criar as seguintes classes:\n",
    "\n",
    "- Olist\n",
    "- Pedido (Order)\n",
    "- Vendedor (Seller)\n",
    "- Produto (Product)\n",
    "😉 Sinta-se à vontade para revisitar essa missão de consultoria de ciência de dados da Olist após o bootcamp para criar classes adicionais para análises futuras!"
   ]
  },
  {
   "cell_type": "markdown",
   "id": "122a3d60-05fb-429f-a6ad-3f0fab3dfc6d",
   "metadata": {},
   "source": [
    "🧑🏻‍🏫 Nossa metodologia:\n",
    "\n",
    "- Manipular dados em Notebooks .ipynb\n",
    "- COdas as etapas de processamento em scripts Python.py dentro de classes\n",
    "- Importar seus scripts e instanciar suas classes quando necessário para novas análises\n",
    "\n",
    "👉 Vamos criar as seguintes classes:\n",
    "\n",
    "- Olist\n",
    "- Pedido (Order)\n",
    "- Vendedor (Seller)\n",
    "- Produto (Product)\n",
    "\n",
    "😉 Sinta-se à vontade para revisitar essa missão de consultoria de ciência de dados da Olist após o bootcamp para criar classes adicionais para análises futuras!"
   ]
  },
  {
   "cell_type": "markdown",
   "id": "5073eb66-0488-416a-8e8c-392e0bbe4d6c",
   "metadata": {},
   "source": [
    "# 3.2 Classes"
   ]
  },
  {
   "cell_type": "markdown",
   "id": "c1790ebc-2a60-4eba-9902-cf142ac8983f",
   "metadata": {},
   "source": [
    "💡 Pense na comparação entre um \"Molde\" e um \"Bolo\":\n",
    "\n",
    "Molde: Representa a classe em programação. Assim como um molde serve para dar forma a vários bolos com o mesmo formato, uma classe define a estrutura e os comportamentos que suas instâncias (ou objetos) terão. O molde em si não é o bolo, mas a ferramenta que usamos para criar bolos que se parecem entre si. Em termos de programação, a classe é uma especificação ou um plano que descreve quais atributos (dados) e métodos (funções ou comportamentos) os objetos criados a partir dela terão.\n",
    "\n",
    "Bolo: Representa uma instância ou objeto criado a partir da classe (molde). Cada bolo feito com o molde terá o mesmo formato básico, mas você pode alterar suas características, como sabor, cor e decorações. Da mesma forma, cada instância de uma classe compartilha a mesma estrutura (atributos e métodos definidos pela classe), mas pode ter valores diferentes para seus atributos. Por exemplo, se a classe for \"Bolo\", cada instância dessa classe (cada \"Bolo\" criado a partir do molde) terá atributos como sabor, recheio e cobertur, mas os valores específicos desses atributos (por exemplo, chocolate, morango, ceereja) podem variar de uma instância para outra.\n",
    "\n",
    "Essa analogia ajuda a entender a relação entre classes e instâncias em programação: a classe fornece o template ou estrutura comum, enquanto as instâncias são os objetos reais criados a partir desse template, cada um com suas próprias características específicas."
   ]
  },
  {
   "cell_type": "markdown",
   "id": "5896c3cf-6594-4641-9e4b-7d3fce8cba38",
   "metadata": {},
   "source": [
    "# 💻 Let's create our first class in a new project"
   ]
  },
  {
   "cell_type": "markdown",
   "id": "5a2a57fb-e295-4cd7-ab57-45ce1a56a711",
   "metadata": {},
   "source": [
    "- mkdir lewagon-project\n",
    "- cd lewagon-project\n",
    "- mkdir csv\n",
    "- mkdir notebooks\n",
    "- mkdir lewagon\n",
    "- touch lewagon/student.py\n",
    "- touch lewagon/__init__.py\n",
    "- code ."
   ]
  },
  {
   "cell_type": "code",
   "execution_count": null,
   "id": "8196415f-0330-45a5-9073-1c6d92c63209",
   "metadata": {},
   "outputs": [],
   "source": []
  }
 ],
 "metadata": {
  "kernelspec": {
   "display_name": "Python 3 (ipykernel)",
   "language": "python",
   "name": "python3"
  },
  "language_info": {
   "codemirror_mode": {
    "name": "ipython",
    "version": 3
   },
   "file_extension": ".py",
   "mimetype": "text/x-python",
   "name": "python",
   "nbconvert_exporter": "python",
   "pygments_lexer": "ipython3",
   "version": "3.10.6"
  }
 },
 "nbformat": 4,
 "nbformat_minor": 5
}
