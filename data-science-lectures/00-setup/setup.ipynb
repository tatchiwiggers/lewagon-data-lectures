{
 "cells": [
  {
   "cell_type": "markdown",
   "id": "995f3099-c3ce-4b3b-b950-ca1661a2e195",
   "metadata": {
    "tags": []
   },
   "source": [
    "# Setup"
   ]
  },
  {
   "cell_type": "markdown",
   "id": "dc28004b-c146-4d28-9f1b-002d9f650f24",
   "metadata": {},
   "source": [
    "So the idea today is to go through some of the code you copy pasted today, i know it was a lot of new information and most of it was done automatically, but the truth is you don't need to know everything you did today, so we are just gonna go over some of the code you typed during the setup today so you have an ideia of what's going on."
   ]
  },
  {
   "cell_type": "markdown",
   "id": "210b9bf9-5411-4730-9c6b-2cc6c94e8710",
   "metadata": {
    "tags": []
   },
   "source": [
    "## Text Editor"
   ]
  },
  {
   "attachments": {},
   "cell_type": "markdown",
   "id": "a42c9fce-b8ee-4966-8db9-2a0503a098c4",
   "metadata": {},
   "source": [
    "A text editor refers to any form of computer program that enables users to create, change, edit, open and view plain text files. It will help you write code through its main features which are:\n",
    "- Syntax highlighting: allows users to colour code text based on the programming language it is written;\n",
    "- Intelligent code completion: A context-aware software that speeds up the coding process by reducing typos, correcting common mistakes and offering auto-completion suggestions for syntax errors;\n",
    "- Snippets: enables users to quickly substitute longer pieces of content or code with a shortcut phrase;\n",
    "- Code folding: Also called expand and collapse, the code folding feature hides or displays certain sections of code or text, allowing for a streamlined and decluttered display – great if you’re working on a long program;\n",
    "- Vertical selection editing: A useful tool that enables users to select, edit or add to multiple lines of code simultaneously;"
   ]
  },
  {
   "cell_type": "markdown",
   "id": "20a0e8d4-9e99-4223-96ff-b8e2836c36c3",
   "metadata": {
    "tags": []
   },
   "source": [
    "## During the bootcamp, we will use:\n",
    "\n",
    "- VS Code (Lightweight IDE)\n",
    "- Jupyter Notebook"
   ]
  },
  {
   "cell_type": "markdown",
   "id": "27773d0c-ab54-4750-84d8-282e87e56a3b",
   "metadata": {},
   "source": [
    "Alternatives:\n",
    "\n",
    "- Sublime Text 3, built with Python (unlimited trial)\n",
    "- PyCharm (Heavy IDE)\n",
    "- Spyder (IDE from Anaconda)\n",
    "- vim (Terminal Editor - Hardcore!)\n",
    "- etc."
   ]
  },
  {
   "cell_type": "markdown",
   "id": "861626e9-61a0-441e-9bef-c33a917b05ea",
   "metadata": {
    "tags": []
   },
   "source": [
    "## VS Code - Tips -> read slide"
   ]
  },
  {
   "cell_type": "markdown",
   "id": "d96acb0a-50ef-41f2-85b9-cd3316346a1f",
   "metadata": {},
   "source": [
    "# Terminal"
   ]
  },
  {
   "attachments": {},
   "cell_type": "markdown",
   "id": "451d000d-2bad-4646-b0d3-26af4ca9fdea",
   "metadata": {},
   "source": [
    "We are using the zsh shell with ohmyzsh on the default Terminal app for Mac and Ubuntu, on the Windows Terminal app for the WSL2 environment.\n",
    "Instaling zsh gives you a nice amount of shortcuts in the terminal and we will use oh my zsh to extend the capabilities of the shell."
   ]
  },
  {
   "cell_type": "markdown",
   "id": "b18ffc14-8512-45a7-8a32-d04f3d2c9f90",
   "metadata": {},
   "source": [
    "## Surviving in the terminal - read slide\n",
    "these are the commands you should try to learn by heart to survive in the terminal."
   ]
  },
  {
   "cell_type": "markdown",
   "id": "cf4e4bd2-5f40-4068-8a42-83c116ab3685",
   "metadata": {},
   "source": [
    "## PATH variable"
   ]
  },
  {
   "attachments": {},
   "cell_type": "markdown",
   "id": "be402ac5-931b-4c4f-bbf3-bf8e0dca22ac",
   "metadata": {},
   "source": [
    "- A set of directories where executable programs are located. <br>\n",
    "- A PATH variable is a system variable holding information. To see what the path variable is, all you have to do is type `echo $PATH` <br>\n",
    "\n",
    "Everyone has a PATH variable in your laptops, probably without knowing it - on every OS, Linux, Mac and windows. And to understand what you have in this variable all you have to do is type `echo $PATH`.\n",
    "\n",
    "So what I'll get on my laptop will be different from what you get on your laptop - one reason is because we have our username in the path as you can see here... but also because we have different programs installed on our laptops. <br>\n",
    "So the first var is hard to read, but if we run the second command `echo $PATH | tr : \\\\n`, here we pipe the output with the `tr` which reads and splits this long string (on the colon and adds a newline) making it more readable to us."
   ]
  },
  {
   "attachments": {},
   "cell_type": "markdown",
   "id": "744f700f-ff7d-4d89-a0e3-f362eec1d75e",
   "metadata": {},
   "source": [
    "Now why is this useful? Because whenever we type a command for example `python --version` and i run it i have no ideia where it is... but i don't need to specify the full path to run it. What our computer will do is look for python in the `bin` folder, then in aanother folder and so on until it finds python then it runs it. If I have several pythons in my path, the first one will be the one to run. So if you have any issues running a command after installing a program, investigating the path is the way to go about figuring out what is going on."
   ]
  },
  {
   "attachments": {},
   "cell_type": "markdown",
   "id": "a4769d6a-34e8-4735-bfd6-17b4135a4c9f",
   "metadata": {},
   "source": [
    "So if you wanna know where something is located, just use `type -a python` on your terminal. <br>\n",
    "Another tip that is not in the slides, if you type `which python`. The which command allows you to search the list of paths in the $PATH environment variable and outputs the full path of the command specified as an argument. One important thing is to understand that WHICH will return the path names of the files which would be executed in the current environment"
   ]
  },
  {
   "cell_type": "markdown",
   "id": "3824f865-698a-4910-8338-fc661f03f391",
   "metadata": {},
   "source": [
    "# Python"
   ]
  },
  {
   "attachments": {},
   "cell_type": "markdown",
   "id": "d29e776d-79c6-44a4-b77f-cdd1f17dcfd6",
   "metadata": {},
   "source": [
    "## pyenv\n",
    "We used pyenv to install and manage multiple Python versions. Pyenv lets you switch between Python versions very easily. Running multiple Python versions can be a challenge so we use pyenv because it makes it easier to change your versions of Python.<br>\n",
    "`pyenv commands`\n"
   ]
  },
  {
   "attachments": {},
   "cell_type": "markdown",
   "id": "89da5bc8",
   "metadata": {},
   "source": [
    "#### install\n",
    "You’ve already seen the install command above. This command can be used to install a specific version of Python. For example, if you wanted to install 3.6.8 you would use this:<br>\n",
    "`pyenv install 3.6.8`"
   ]
  },
  {
   "cell_type": "markdown",
   "id": "46da07d4",
   "metadata": {},
   "source": [
    "#### versions\n",
    "The versions command displays all currently installed Python versions"
   ]
  },
  {
   "attachments": {},
   "cell_type": "markdown",
   "id": "d892a362",
   "metadata": {},
   "source": [
    "#### global\n",
    "The global command sets the global Python version. This can be overridden with other commands, but is useful for ensuring you use a particular Python version by default. If you wanted to use 3.6.8 by default, then you could run this:<br>\n",
    "`pyenv global lewagon`"
   ]
  },
  {
   "attachments": {},
   "cell_type": "markdown",
   "id": "7ff1beb9",
   "metadata": {},
   "source": [
    "#### local\n",
    "The local command is often used to set an application-specific Python version. You could use it to set the version to 2.7.15:<br>\n",
    "`pyenv local er-guide`"
   ]
  },
  {
   "cell_type": "markdown",
   "id": "df789c8c",
   "metadata": {},
   "source": [
    "and many more at https://realpython.com/intro-to-pyenv/#exploring-pyenv-commands"
   ]
  },
  {
   "cell_type": "markdown",
   "id": "e2751310-caa4-451c-9951-c7703fd95b50",
   "metadata": {},
   "source": [
    "## virtualenv"
   ]
  },
  {
   "attachments": {},
   "cell_type": "markdown",
   "id": "5f5ab96b-9471-4e7a-a65f-06ba5f3e6074",
   "metadata": {},
   "source": [
    "A virtual env is a safe place to pip install any packages without interfering with other tools. <br>\n",
    "The virtualenv is a tool used to create isolated Python environments.<br> \n",
    "It creates a folder which contains all the necessary executables we need to use the packages that a Python project would need.<br>\n",
    "You can install it with pip: and they way to do it is by running `pip install virtualenv`.<br> \n",
    "You can verify the installation with the following command: `virtualenv --version`."
   ]
  },
  {
   "attachments": {},
   "cell_type": "markdown",
   "id": "f4272ad5-3e12-44e9-a3f5-a11feed7f9ef",
   "metadata": {},
   "source": [
    "### Real situation - read slide\n",
    "\n",
    "- pip freeze -> will create a single-file, which is an executable file to distribute to end-users, that contains all of your application code as well as the Python interpreter."
   ]
  },
  {
   "cell_type": "markdown",
   "id": "34b810d3-c27c-4978-9645-e0bf775ddc72",
   "metadata": {},
   "source": [
    "### Bootcamp - read slide"
   ]
  },
  {
   "cell_type": "markdown",
   "id": "c731ca72-6bec-45d5-97e5-418e7e004e44",
   "metadata": {},
   "source": [
    "# git & GitHub"
   ]
  },
  {
   "cell_type": "markdown",
   "id": "8ef084c8-40a5-46e6-9a35-e559ab06198d",
   "metadata": {},
   "source": [
    "## Surviving with git"
   ]
  },
  {
   "cell_type": "markdown",
   "id": "4a1452a0-23fe-4429-a4b1-9cbd61509b3b",
   "metadata": {},
   "source": [
    "## Advanced git topics"
   ]
  },
  {
   "cell_type": "markdown",
   "id": "813187f9-ddbc-45f2-97e4-2f2c8b51fffb",
   "metadata": {},
   "source": [
    "# Kitt demo"
   ]
  },
  {
   "cell_type": "markdown",
   "id": "15058b12-1c97-4aa4-b486-661d41640d52",
   "metadata": {},
   "source": [
    "## Outline\n"
   ]
  },
  {
   "cell_type": "markdown",
   "id": "68bd737e-961f-4134-b023-de3ec7a6bd95",
   "metadata": {},
   "source": [
    "## Starting a Challenge"
   ]
  },
  {
   "cell_type": "markdown",
   "id": "0be170dd-3584-4d1f-bf14-020c6972a14f",
   "metadata": {},
   "source": [
    "## The setup script does everything you need..."
   ]
  },
  {
   "cell_type": "markdown",
   "id": "53551754-8225-439d-b389-6e328411ff49",
   "metadata": {},
   "source": [
    "## At this stage your Github repository will be empty, waiting for a push"
   ]
  },
  {
   "cell_type": "markdown",
   "id": "96b27765-4ad1-44f2-a31c-d8d74b4fbf00",
   "metadata": {},
   "source": [
    "## Workflow"
   ]
  },
  {
   "cell_type": "markdown",
   "id": "0c69ad48-e3e6-48ec-9d39-eb6350afacfc",
   "metadata": {},
   "source": [
    "## After the push, your commits will be present on Github"
   ]
  },
  {
   "cell_type": "markdown",
   "id": "b5b7882a-c16c-4f9a-8694-72608ef4b1f3",
   "metadata": {},
   "source": [
    "## Your turn!"
   ]
  }
 ],
 "metadata": {
  "kernelspec": {
   "display_name": "Python 3",
   "language": "python",
   "name": "python3"
  },
  "language_info": {
   "codemirror_mode": {
    "name": "ipython",
    "version": 3
   },
   "file_extension": ".py",
   "mimetype": "text/x-python",
   "name": "python",
   "nbconvert_exporter": "python",
   "pygments_lexer": "ipython3",
   "version": "3.10.6 (main, Nov 14 2022, 12:37:19) [GCC 11.3.0]"
  },
  "vscode": {
   "interpreter": {
    "hash": "78f24889c10e82042579012e69ebd24d091c93bf460c4ab12efc9991ad24a50d"
   }
  }
 },
 "nbformat": 4,
 "nbformat_minor": 5
}
