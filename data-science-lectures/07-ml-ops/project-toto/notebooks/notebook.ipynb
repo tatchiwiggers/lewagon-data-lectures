{
 "cells": [
  {
   "cell_type": "code",
   "execution_count": 2,
   "metadata": {},
   "outputs": [
    {
     "name": "stdout",
     "output_type": "stream",
     "text": [
      "Hello my name is Jean\n"
     ]
    }
   ],
   "source": [
    "from toto.lib import who_am_i\n",
    "who_am_i()"
   ]
  },
  {
   "cell_type": "code",
   "execution_count": 3,
   "metadata": {},
   "outputs": [
    {
     "data": {
      "text/plain": [
       "['/home/tatchiwiggers/code/lewagon-lectures/data-science-lectures/07-ml-ops/project-toto/notebooks',\n",
       " '/home/tatchiwiggers/code/lewagon/data-context-and-setup',\n",
       " '/home/tatchiwiggers/code/lewagon-lectures/data-science-lectures/07-ml-ops/project-toto/notebooks',\n",
       " '/home/tatchiwiggers/.pyenv/versions/3.10.6/lib/python310.zip',\n",
       " '/home/tatchiwiggers/.pyenv/versions/3.10.6/lib/python3.10',\n",
       " '/home/tatchiwiggers/.pyenv/versions/3.10.6/lib/python3.10/lib-dynload',\n",
       " '',\n",
       " '/home/tatchiwiggers/.pyenv/versions/3.10.6/envs/toto/lib/python3.10/site-packages']"
      ]
     },
     "execution_count": 3,
     "metadata": {},
     "output_type": "execute_result"
    }
   ],
   "source": [
    "import sys\n",
    "sys.path"
   ]
  },
  {
   "cell_type": "code",
   "execution_count": 4,
   "metadata": {},
   "outputs": [
    {
     "data": {
      "text/plain": [
       "'/home/tatchiwiggers/.pyenv/versions/3.10.6/envs/toto/lib/python3.10/site-packages/toto/__init__.py'"
      ]
     },
     "execution_count": 4,
     "metadata": {},
     "output_type": "execute_result"
    }
   ],
   "source": [
    "import toto\n",
    "toto.__file__"
   ]
  },
  {
   "cell_type": "code",
   "execution_count": null,
   "metadata": {},
   "outputs": [],
   "source": []
  }
 ],
 "metadata": {
  "kernelspec": {
   "display_name": "toto",
   "language": "python",
   "name": "python3"
  },
  "language_info": {
   "codemirror_mode": {
    "name": "ipython",
    "version": 3
   },
   "file_extension": ".py",
   "mimetype": "text/x-python",
   "name": "python",
   "nbconvert_exporter": "python",
   "pygments_lexer": "ipython3",
   "version": "3.10.6"
  },
  "orig_nbformat": 4
 },
 "nbformat": 4,
 "nbformat_minor": 2
}
