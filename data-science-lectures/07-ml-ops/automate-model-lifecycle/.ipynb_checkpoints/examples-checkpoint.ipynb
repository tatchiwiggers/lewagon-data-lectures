{
 "cells": [
  {
   "cell_type": "markdown",
   "id": "86a255fe-ae18-4477-bc4d-9aa5365dce73",
   "metadata": {},
   "source": [
    "# Google Cloud Platform (GCP) services using Python"
   ]
  },
  {
   "cell_type": "code",
   "execution_count": null,
   "id": "81d137ca-57b4-4dd7-82d5-1729489e98be",
   "metadata": {},
   "outputs": [],
   "source": [
    "from google.cloud import storage\n",
    "from google.auth import credentials\n",
    "\n",
    "# Path to the service account key file\n",
    "key_path = 'path/to/service-account-key.json'\n",
    "\n",
    "# Create a credentials object from the key file\n",
    "credentials_obj = credentials.Credentials.from_service_account_file(key_path)\n",
    "\n",
    "# Explicitly specify the project ID (optional)\n",
    "project_id = 'your-project-id'\n",
    "\n",
    "# Create a client using the credentials and project ID\n",
    "client = storage.Client(credentials=credentials_obj, project=project_id)\n",
    "\n",
    "# Use the client to interact with Google Cloud Storage, for example:\n",
    "bucket_name = 'your-bucket-name'\n",
    "bucket = client.get_bucket(bucket_name)\n",
    "blobs = bucket.list_blobs()\n",
    "\n",
    "# Iterate over the blobs and print their names\n",
    "for blob in blobs:\n",
    "    print(blob.name)\n"
   ]
  }
 ],
 "metadata": {
  "kernelspec": {
   "display_name": "Python 3 (ipykernel)",
   "language": "python",
   "name": "python3"
  },
  "language_info": {
   "codemirror_mode": {
    "name": "ipython",
    "version": 3
   },
   "file_extension": ".py",
   "mimetype": "text/x-python",
   "name": "python",
   "nbconvert_exporter": "python",
   "pygments_lexer": "ipython3",
   "version": "3.10.6"
  }
 },
 "nbformat": 4,
 "nbformat_minor": 5
}
