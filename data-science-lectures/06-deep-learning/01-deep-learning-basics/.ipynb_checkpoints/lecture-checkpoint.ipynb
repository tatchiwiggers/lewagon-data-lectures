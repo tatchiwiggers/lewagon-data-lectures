{
 "cells": [
  {
   "cell_type": "markdown",
   "id": "64c01ea0-8f8a-48c3-b71f-4ab95a18831e",
   "metadata": {},
   "source": [
    "# 1. Deep Learning Basics"
   ]
  },
  {
   "cell_type": "markdown",
   "id": "7cc75990-35cc-43dc-9316-c2f372c51e54",
   "metadata": {},
   "source": [
    "- = subdomain of Machine Learning which mimics the brain\n",
    "- = Neural Networks"
   ]
  },
  {
   "cell_type": "markdown",
   "id": "124e8312-d00a-49eb-9e89-e9a7bf75a061",
   "metadata": {},
   "source": [
    "## Introduction to neural networks"
   ]
  },
  {
   "cell_type": "markdown",
   "id": "247515a6-ff51-423a-b43e-1af2a2aeefde",
   "metadata": {},
   "source": [
    "### My first neuron"
   ]
  },
  {
   "cell_type": "markdown",
   "id": "fa57a761-598d-4057-9f6d-0c598093e4fe",
   "metadata": {},
   "source": [
    "Imagine that our problem is a binary classification task: cat or dog?"
   ]
  },
  {
   "cell_type": "code",
   "execution_count": 1,
   "id": "615aba8c-e0cf-4129-9810-db19e069d8e3",
   "metadata": {},
   "outputs": [],
   "source": [
    "# target y set to 1\n",
    "y = 1"
   ]
  },
  {
   "cell_type": "markdown",
   "id": "6fa73ec0-76ef-4735-8850-02e3410e6ea4",
   "metadata": {},
   "source": [
    "we have 4 features per observation x1, x2, x3 and x4"
   ]
  },
  {
   "cell_type": "code",
   "execution_count": 2,
   "id": "7852c2e6-a851-43e1-8c04-51db7cdb2564",
   "metadata": {},
   "outputs": [],
   "source": [
    "# input X = one single observation, 4 features (x1, x2, x3, x4)\n",
    "X = [1., -3.1, -7.2, 2.1]"
   ]
  },
  {
   "cell_type": "markdown",
   "id": "3c396f8b-91ef-453b-8912-af9fd589fcd0",
   "metadata": {},
   "source": [
    "Imagine that you have a linear regression with weights (2.1, -1,2, 0.3, 1.3) and 1 `intercept` (-3)"
   ]
  },
  {
   "cell_type": "code",
   "execution_count": 3,
   "id": "59c895a9-6d45-4f40-b207-a44f66888acb",
   "metadata": {},
   "outputs": [],
   "source": [
    "def linreg_1(X):\n",
    "    return -3 + 2.1*X[0] - 1.2*X[1] + 0.3*X[2] + 1.3*X[3]"
   ]
  },
  {
   "cell_type": "code",
   "execution_count": 4,
   "id": "26ad3b9e-ad59-480a-ae48-5b11ffdf543c",
   "metadata": {},
   "outputs": [
    {
     "data": {
      "text/plain": [
       "3.39"
      ]
     },
     "execution_count": 4,
     "metadata": {},
     "output_type": "execute_result"
    }
   ],
   "source": [
    "output_1 = linreg_1(X)\n",
    "output_1"
   ]
  },
  {
   "cell_type": "markdown",
   "id": "999d8d7c-d7e2-4f91-9498-b563a86ab2f3",
   "metadata": {},
   "source": [
    "Now let's transform this output through an `activation function`:"
   ]
  },
  {
   "cell_type": "code",
   "execution_count": 5,
   "id": "e37f5305-7db9-4f39-8fdf-6858b16f165d",
   "metadata": {},
   "outputs": [],
   "source": [
    "def activation(x):\n",
    "    if x > 0:\n",
    "        return x\n",
    "    else:\n",
    "        return 0"
   ]
  },
  {
   "cell_type": "code",
   "execution_count": 6,
   "id": "df886e0a-29b9-41c0-8cce-69d510acacb9",
   "metadata": {},
   "outputs": [],
   "source": [
    "output_1 = activation(output_1)"
   ]
  },
  {
   "cell_type": "code",
   "execution_count": 7,
   "id": "3446f5cb-a0b8-4c3d-bec5-7fc5d3c933c0",
   "metadata": {},
   "outputs": [
    {
     "data": {
      "text/plain": [
       "3.39"
      ]
     },
     "execution_count": 7,
     "metadata": {},
     "output_type": "execute_result"
    }
   ],
   "source": [
    "output_1"
   ]
  },
  {
   "cell_type": "code",
   "execution_count": null,
   "id": "42a7efd2-d2b2-4390-b4a3-938a64d8ee51",
   "metadata": {},
   "outputs": [],
   "source": []
  }
 ],
 "metadata": {
  "kernelspec": {
   "display_name": "Python 3 (ipykernel)",
   "language": "python",
   "name": "python3"
  },
  "language_info": {
   "codemirror_mode": {
    "name": "ipython",
    "version": 3
   },
   "file_extension": ".py",
   "mimetype": "text/x-python",
   "name": "python",
   "nbconvert_exporter": "python",
   "pygments_lexer": "ipython3",
   "version": "3.10.6"
  }
 },
 "nbformat": 4,
 "nbformat_minor": 5
}
