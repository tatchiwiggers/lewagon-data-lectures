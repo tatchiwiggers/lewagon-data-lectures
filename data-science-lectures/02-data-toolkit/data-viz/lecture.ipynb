{
 "cells": [
  {
   "cell_type": "code",
   "execution_count": 3,
   "id": "4f2fcd6a-804a-4809-8752-dda7e959295d",
   "metadata": {},
   "outputs": [],
   "source": [
    "import matplotlib.pyplot as plt\n",
    "import pandas as pd"
   ]
  },
  {
   "cell_type": "code",
   "execution_count": 4,
   "id": "bac7a206-aa8d-4ddb-928b-a40455499b18",
   "metadata": {},
   "outputs": [],
   "source": [
    "df = pd.read_csv('MER_T12_06.csv')"
   ]
  },
  {
   "cell_type": "code",
   "execution_count": 6,
   "id": "2db97817-ce16-472a-9211-87c9c46f05e3",
   "metadata": {},
   "outputs": [
    {
     "data": {
      "text/html": [
       "<div>\n",
       "<style scoped>\n",
       "    .dataframe tbody tr th:only-of-type {\n",
       "        vertical-align: middle;\n",
       "    }\n",
       "\n",
       "    .dataframe tbody tr th {\n",
       "        vertical-align: top;\n",
       "    }\n",
       "\n",
       "    .dataframe thead th {\n",
       "        text-align: right;\n",
       "    }\n",
       "</style>\n",
       "<table border=\"1\" class=\"dataframe\">\n",
       "  <thead>\n",
       "    <tr style=\"text-align: right;\">\n",
       "      <th></th>\n",
       "      <th>MSN</th>\n",
       "      <th>YYYYMM</th>\n",
       "      <th>Value</th>\n",
       "      <th>Column_Order</th>\n",
       "      <th>Description</th>\n",
       "      <th>Unit</th>\n",
       "    </tr>\n",
       "  </thead>\n",
       "  <tbody>\n",
       "    <tr>\n",
       "      <th>0</th>\n",
       "      <td>CLEIEUS</td>\n",
       "      <td>197301</td>\n",
       "      <td>72.076</td>\n",
       "      <td>1</td>\n",
       "      <td>Coal Electric Power Sector CO2 Emissions</td>\n",
       "      <td>Million Metric Tons of Carbon Dioxide</td>\n",
       "    </tr>\n",
       "    <tr>\n",
       "      <th>1</th>\n",
       "      <td>CLEIEUS</td>\n",
       "      <td>197302</td>\n",
       "      <td>64.442</td>\n",
       "      <td>1</td>\n",
       "      <td>Coal Electric Power Sector CO2 Emissions</td>\n",
       "      <td>Million Metric Tons of Carbon Dioxide</td>\n",
       "    </tr>\n",
       "    <tr>\n",
       "      <th>2</th>\n",
       "      <td>CLEIEUS</td>\n",
       "      <td>197303</td>\n",
       "      <td>64.084</td>\n",
       "      <td>1</td>\n",
       "      <td>Coal Electric Power Sector CO2 Emissions</td>\n",
       "      <td>Million Metric Tons of Carbon Dioxide</td>\n",
       "    </tr>\n",
       "    <tr>\n",
       "      <th>3</th>\n",
       "      <td>CLEIEUS</td>\n",
       "      <td>197304</td>\n",
       "      <td>60.842</td>\n",
       "      <td>1</td>\n",
       "      <td>Coal Electric Power Sector CO2 Emissions</td>\n",
       "      <td>Million Metric Tons of Carbon Dioxide</td>\n",
       "    </tr>\n",
       "    <tr>\n",
       "      <th>4</th>\n",
       "      <td>CLEIEUS</td>\n",
       "      <td>197305</td>\n",
       "      <td>61.798</td>\n",
       "      <td>1</td>\n",
       "      <td>Coal Electric Power Sector CO2 Emissions</td>\n",
       "      <td>Million Metric Tons of Carbon Dioxide</td>\n",
       "    </tr>\n",
       "  </tbody>\n",
       "</table>\n",
       "</div>"
      ],
      "text/plain": [
       "       MSN  YYYYMM   Value  Column_Order  \\\n",
       "0  CLEIEUS  197301  72.076             1   \n",
       "1  CLEIEUS  197302  64.442             1   \n",
       "2  CLEIEUS  197303  64.084             1   \n",
       "3  CLEIEUS  197304  60.842             1   \n",
       "4  CLEIEUS  197305  61.798             1   \n",
       "\n",
       "                                Description  \\\n",
       "0  Coal Electric Power Sector CO2 Emissions   \n",
       "1  Coal Electric Power Sector CO2 Emissions   \n",
       "2  Coal Electric Power Sector CO2 Emissions   \n",
       "3  Coal Electric Power Sector CO2 Emissions   \n",
       "4  Coal Electric Power Sector CO2 Emissions   \n",
       "\n",
       "                                    Unit  \n",
       "0  Million Metric Tons of Carbon Dioxide  \n",
       "1  Million Metric Tons of Carbon Dioxide  \n",
       "2  Million Metric Tons of Carbon Dioxide  \n",
       "3  Million Metric Tons of Carbon Dioxide  \n",
       "4  Million Metric Tons of Carbon Dioxide  "
      ]
     },
     "execution_count": 6,
     "metadata": {},
     "output_type": "execute_result"
    }
   ],
   "source": [
    "df.head()"
   ]
  },
  {
   "cell_type": "code",
   "execution_count": 7,
   "id": "992d1823-da58-42f4-9814-f4d0d0414ba3",
   "metadata": {},
   "outputs": [
    {
     "data": {
      "image/png": "[encoded data removed]",
      "text/plain": [
       "<Figure size 640x480 with 1 Axes>"
      ]
     },
     "metadata": {},
     "output_type": "display_data"
    }
   ],
   "source": [
    "# carbon.py\n",
    "import matplotlib.pyplot as plt\n",
    "\n",
    "years_x = [1975, 1980, 1985, 1990, 1995, 2000, 2005, 2010, 2015]\n",
    "total_y = [1243, 1543, 1619, 1831, 1960, 2310, 2415, 2270, 1918]\n",
    "\n",
    "plt.plot(years_x, total_y)\n",
    "plt.show() # Will open a graph window.\n",
    "           # Wait for it to be closed to continue script execution"
   ]
  },
  {
   "cell_type": "code",
   "execution_count": null,
   "id": "796efb61-c432-4192-9ba4-be2abac0c27e",
   "metadata": {},
   "outputs": [],
   "source": []
  }
 ],
 "metadata": {
  "kernelspec": {
   "display_name": "Python 3 (ipykernel)",
   "language": "python",
   "name": "python3"
  },
  "language_info": {
   "codemirror_mode": {
    "name": "ipython",
    "version": 3
   },
   "file_extension": ".py",
   "mimetype": "text/x-python",
   "name": "python",
   "nbconvert_exporter": "python",
   "pygments_lexer": "ipython3",
   "version": "3.10.6"
  }
 },
 "nbformat": 4,
 "nbformat_minor": 5
}
